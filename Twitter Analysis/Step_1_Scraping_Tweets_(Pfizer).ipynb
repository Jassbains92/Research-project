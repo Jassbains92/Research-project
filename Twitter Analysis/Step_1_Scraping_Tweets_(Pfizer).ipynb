{
  "nbformat": 4,
  "nbformat_minor": 0,
  "metadata": {
    "colab": {
      "name": "Step 1 - Scraping Tweets (Pfizer).ipynb",
      "provenance": [],
      "collapsed_sections": []
    },
    "kernelspec": {
      "display_name": "Python 3",
      "language": "python",
      "name": "python3"
    },
    "language_info": {
      "codemirror_mode": {
        "name": "ipython",
        "version": 3
      },
      "file_extension": ".py",
      "mimetype": "text/x-python",
      "name": "python",
      "nbconvert_exporter": "python",
      "pygments_lexer": "ipython3",
      "version": "3.7.3"
    }
  },
  "cells": [
    {
      "cell_type": "code",
      "metadata": {
        "id": "UaEb7UCKZyH1"
      },
      "source": [
        "import numpy as np\n",
        "import pandas as pd\n",
        "import time\n",
        "import warnings\n",
        "warnings.filterwarnings('ignore')"
      ],
      "execution_count": null,
      "outputs": []
    },
    {
      "cell_type": "code",
      "metadata": {
        "id": "bvuGoD6vZyH9"
      },
      "source": [
        "import tweepy\n",
        "from tweepy import OAuthHandler"
      ],
      "execution_count": null,
      "outputs": []
    },
    {
      "cell_type": "code",
      "metadata": {
        "id": "GM6e6eJ4ZyIA"
      },
      "source": [
        "consumer_key='WU6SXoAm6vxdMUzm0ybSk91RH'\n",
        "consumer_secret='p62qJszkV8L2FGz35w682eLsUlCZ9yWDu3z7FApwDgFeOcCNKm'\n",
        "access_token_key='864349577205358596-TuePxiQhOOqXR3mqdjFhJxaIWhia6Ym'\n",
        "access_token_secret='niCBAwR7fvzzg7LMRj6Xz6cve8HJFcHvu0541MgYyKmNL'"
      ],
      "execution_count": null,
      "outputs": []
    },
    {
      "cell_type": "code",
      "metadata": {
        "id": "4O8Qn8bwZyID"
      },
      "source": [
        "auth = OAuthHandler(consumer_key,consumer_secret) #to authenticate whether it is twitter application or not."
      ],
      "execution_count": null,
      "outputs": []
    },
    {
      "cell_type": "code",
      "metadata": {
        "id": "lxPKAGbOZyIH"
      },
      "source": [
        "auth.set_access_token(access_token_key,access_token_secret) #to enable the rights to fetch tweets from twitter"
      ],
      "execution_count": null,
      "outputs": []
    },
    {
      "cell_type": "code",
      "metadata": {
        "id": "6iMWQ7OqZyIK"
      },
      "source": [
        "args = [ 'pfizer', 'biontech']\n",
        "\n",
        "date_since = \"2021-08-01\""
      ],
      "execution_count": null,
      "outputs": []
    },
    {
      "cell_type": "code",
      "metadata": {
        "id": "O97dMUmbZyIO"
      },
      "source": [
        "api = tweepy.API(auth,timeout=1000) # if we don't find any tweets, after 10000 seconds it will stop looking for tweets."
      ],
      "execution_count": null,
      "outputs": []
    },
    {
      "cell_type": "code",
      "metadata": {
        "id": "wWFH7y7BZyIR"
      },
      "source": [
        "list_tweets0 = []\n",
        "list_tweets1 = []\n",
        "list_tweets2 = []\n",
        "list_tweets3 = []\n",
        "list_tweets4 = []\n",
        "list_tweets5 = []\n",
        "list_tweets6 = []"
      ],
      "execution_count": null,
      "outputs": []
    },
    {
      "cell_type": "code",
      "metadata": {
        "id": "hvBjUnppZyIU"
      },
      "source": [
        "query = args[0] #to convert args into strings"
      ],
      "execution_count": null,
      "outputs": []
    },
    {
      "cell_type": "code",
      "metadata": {
        "id": "pTuw7dlIZyIX",
        "outputId": "5ac2b6cd-70a1-4658-c4e2-6f2792e37b28"
      },
      "source": [
        "# result_type='recent'\n",
        "\n",
        "if len(args) == 2:\n",
        "    for tweet in tweepy.Cursor(api.search, q=query+\" -filter:retweets\",lang='en',\n",
        "                               tweet_mode='extended', since=date_since,\n",
        "                               wait_on_rate_limit=True).items(12000):\n",
        "        list_tweets0.append(tweet.id)\n",
        "        list_tweets1.append(tweet.created_at)\n",
        "        list_tweets2.append(tweet.source)\n",
        "        list_tweets3.append(tweet.retweet_count)\n",
        "        list_tweets4.append(tweet.user.name)\n",
        "        list_tweets5.append(tweet.place)\n",
        "        list_tweets6.append(tweet.full_text)\n",
        "        time.sleep(1)"
      ],
      "execution_count": null,
      "outputs": [
        {
          "ename": "KeyboardInterrupt",
          "evalue": "",
          "output_type": "error",
          "traceback": [
            "\u001b[1;31m---------------------------------------------------------------------------\u001b[0m",
            "\u001b[1;31mKeyboardInterrupt\u001b[0m                         Traceback (most recent call last)",
            "\u001b[1;32m<ipython-input-11-cc22ee319825>\u001b[0m in \u001b[0;36m<module>\u001b[1;34m\u001b[0m\n\u001b[0;32m     12\u001b[0m         \u001b[0mlist_tweets5\u001b[0m\u001b[1;33m.\u001b[0m\u001b[0mappend\u001b[0m\u001b[1;33m(\u001b[0m\u001b[0mtweet\u001b[0m\u001b[1;33m.\u001b[0m\u001b[0mplace\u001b[0m\u001b[1;33m)\u001b[0m\u001b[1;33m\u001b[0m\u001b[1;33m\u001b[0m\u001b[0m\n\u001b[0;32m     13\u001b[0m         \u001b[0mlist_tweets6\u001b[0m\u001b[1;33m.\u001b[0m\u001b[0mappend\u001b[0m\u001b[1;33m(\u001b[0m\u001b[0mtweet\u001b[0m\u001b[1;33m.\u001b[0m\u001b[0mfull_text\u001b[0m\u001b[1;33m)\u001b[0m\u001b[1;33m\u001b[0m\u001b[1;33m\u001b[0m\u001b[0m\n\u001b[1;32m---> 14\u001b[1;33m         \u001b[0mtime\u001b[0m\u001b[1;33m.\u001b[0m\u001b[0msleep\u001b[0m\u001b[1;33m(\u001b[0m\u001b[1;36m1\u001b[0m\u001b[1;33m)\u001b[0m\u001b[1;33m\u001b[0m\u001b[1;33m\u001b[0m\u001b[0m\n\u001b[0m",
            "\u001b[1;31mKeyboardInterrupt\u001b[0m: "
          ]
        }
      ]
    },
    {
      "cell_type": "code",
      "metadata": {
        "id": "NzrI4f6fZyIa"
      },
      "source": [
        "df = pd.DataFrame(np.column_stack([list_tweets0 , list_tweets1, list_tweets2, list_tweets3,\n",
        "                                   list_tweets4, list_tweets5, list_tweets6]), \n",
        "                  columns=['Id','Timestamp', 'Source', 'Retwwet_Count', 'User_Name',\n",
        "                           'Location', 'Tweets'])              "
      ],
      "execution_count": null,
      "outputs": []
    },
    {
      "cell_type": "code",
      "metadata": {
        "colab": {
          "base_uri": "https://localhost:8080/",
          "height": 34
        },
        "id": "9M6EucNCJecN",
        "outputId": "3bcee860-3fac-4720-e0e6-6c64d32304ff"
      },
      "source": [
        "df.shape"
      ],
      "execution_count": null,
      "outputs": [
        {
          "data": {
            "text/plain": [
              "(1217, 7)"
            ]
          },
          "execution_count": 13,
          "metadata": {},
          "output_type": "execute_result"
        }
      ]
    },
    {
      "cell_type": "code",
      "metadata": {
        "id": "mJh4ZB7DZyIe"
      },
      "source": [
        "df.to_csv(\"Tweets_Sep_Pfizer.csv\")"
      ],
      "execution_count": null,
      "outputs": []
    },
    {
      "cell_type": "code",
      "metadata": {
        "id": "XY1TgwbopK93"
      },
      "source": [
        "df=df.drop(['Location'], axis =1)"
      ],
      "execution_count": null,
      "outputs": []
    },
    {
      "cell_type": "code",
      "metadata": {
        "id": "GmLmdI1XZyIg",
        "outputId": "900eb191-809f-45cc-9bef-c9232a742af3"
      },
      "source": [
        "df.head(10)"
      ],
      "execution_count": null,
      "outputs": [
        {
          "data": {
            "text/html": [
              "<div>\n",
              "<style scoped>\n",
              "    .dataframe tbody tr th:only-of-type {\n",
              "        vertical-align: middle;\n",
              "    }\n",
              "\n",
              "    .dataframe tbody tr th {\n",
              "        vertical-align: top;\n",
              "    }\n",
              "\n",
              "    .dataframe thead th {\n",
              "        text-align: right;\n",
              "    }\n",
              "</style>\n",
              "<table border=\"1\" class=\"dataframe\">\n",
              "  <thead>\n",
              "    <tr style=\"text-align: right;\">\n",
              "      <th></th>\n",
              "      <th>Id</th>\n",
              "      <th>Timestamp</th>\n",
              "      <th>Source</th>\n",
              "      <th>Retwwet_Count</th>\n",
              "      <th>User_Name</th>\n",
              "      <th>Tweets</th>\n",
              "    </tr>\n",
              "  </thead>\n",
              "  <tbody>\n",
              "    <tr>\n",
              "      <th>0</th>\n",
              "      <td>1441380234113081350</td>\n",
              "      <td>2021-09-24 12:33:22</td>\n",
              "      <td>Twitter Web App</td>\n",
              "      <td>0</td>\n",
              "      <td>X_LOLOLOLOLOL_X</td>\n",
              "      <td>FDA permits use of the Pfizer-BioNTech Covid v...</td>\n",
              "    </tr>\n",
              "    <tr>\n",
              "      <th>1</th>\n",
              "      <td>1441380226131390472</td>\n",
              "      <td>2021-09-24 12:33:20</td>\n",
              "      <td>Twitter Web App</td>\n",
              "      <td>0</td>\n",
              "      <td>Jack Schmidt</td>\n",
              "      <td>Pfizer CEO Bourla asks employees to join the s...</td>\n",
              "    </tr>\n",
              "    <tr>\n",
              "      <th>2</th>\n",
              "      <td>1441380207655460865</td>\n",
              "      <td>2021-09-24 12:33:15</td>\n",
              "      <td>Twitter for iPhone</td>\n",
              "      <td>0</td>\n",
              "      <td>Fred Zarnowski</td>\n",
              "      <td>@WesElyMD @B52Malmet @CDCgov @CDCDirector I’m ...</td>\n",
              "    </tr>\n",
              "    <tr>\n",
              "      <th>3</th>\n",
              "      <td>1441380207517003781</td>\n",
              "      <td>2021-09-24 12:33:15</td>\n",
              "      <td>Twitter Web App</td>\n",
              "      <td>0</td>\n",
              "      <td>The_Real_Fly</td>\n",
              "      <td>Pfizer in talks over full license for COVID-19...</td>\n",
              "    </tr>\n",
              "    <tr>\n",
              "      <th>4</th>\n",
              "      <td>1441380151955128325</td>\n",
              "      <td>2021-09-24 12:33:02</td>\n",
              "      <td>Twitter Web App</td>\n",
              "      <td>0</td>\n",
              "      <td>UNC Otolaryngology/Head &amp; Neck Surgery</td>\n",
              "      <td>🎉Congrats to @ProfBrentSenior, who will receiv...</td>\n",
              "    </tr>\n",
              "    <tr>\n",
              "      <th>5</th>\n",
              "      <td>1441380143105142799</td>\n",
              "      <td>2021-09-24 12:33:00</td>\n",
              "      <td>Twitter for iPhone</td>\n",
              "      <td>0</td>\n",
              "      <td>Jason</td>\n",
              "      <td>I guess @pfizer 💰 does talk after all huh @CDC...</td>\n",
              "    </tr>\n",
              "    <tr>\n",
              "      <th>6</th>\n",
              "      <td>1441380136738189327</td>\n",
              "      <td>2021-09-24 12:32:58</td>\n",
              "      <td>Twitter Web App</td>\n",
              "      <td>0</td>\n",
              "      <td>stevens_craig</td>\n",
              "      <td>@rec777777 @BanterNative @iancrichton4 @MalCha...</td>\n",
              "    </tr>\n",
              "    <tr>\n",
              "      <th>7</th>\n",
              "      <td>1441380071294455809</td>\n",
              "      <td>2021-09-24 12:32:43</td>\n",
              "      <td>Twitter for Android</td>\n",
              "      <td>0</td>\n",
              "      <td>farid.ahmed.khan</td>\n",
              "      <td>@ell_enn Ma'am, I heard that one can get Pfize...</td>\n",
              "    </tr>\n",
              "    <tr>\n",
              "      <th>8</th>\n",
              "      <td>1441380034741112841</td>\n",
              "      <td>2021-09-24 12:32:34</td>\n",
              "      <td>Twitter for iPhone</td>\n",
              "      <td>0</td>\n",
              "      <td>Stephani Shelton</td>\n",
              "      <td>@debjshaw Anyone with compromised immunity at ...</td>\n",
              "    </tr>\n",
              "    <tr>\n",
              "      <th>9</th>\n",
              "      <td>1441380001320951809</td>\n",
              "      <td>2021-09-24 12:32:26</td>\n",
              "      <td>Twitter Web App</td>\n",
              "      <td>0</td>\n",
              "      <td>Infectious Diseases</td>\n",
              "      <td>@Dovey08261451 @V2019N There aren't specifics....</td>\n",
              "    </tr>\n",
              "  </tbody>\n",
              "</table>\n",
              "</div>"
            ],
            "text/plain": [
              "                    Id            Timestamp               Source  \\\n",
              "0  1441380234113081350  2021-09-24 12:33:22      Twitter Web App   \n",
              "1  1441380226131390472  2021-09-24 12:33:20      Twitter Web App   \n",
              "2  1441380207655460865  2021-09-24 12:33:15   Twitter for iPhone   \n",
              "3  1441380207517003781  2021-09-24 12:33:15      Twitter Web App   \n",
              "4  1441380151955128325  2021-09-24 12:33:02      Twitter Web App   \n",
              "5  1441380143105142799  2021-09-24 12:33:00   Twitter for iPhone   \n",
              "6  1441380136738189327  2021-09-24 12:32:58      Twitter Web App   \n",
              "7  1441380071294455809  2021-09-24 12:32:43  Twitter for Android   \n",
              "8  1441380034741112841  2021-09-24 12:32:34   Twitter for iPhone   \n",
              "9  1441380001320951809  2021-09-24 12:32:26      Twitter Web App   \n",
              "\n",
              "  Retwwet_Count                               User_Name  \\\n",
              "0             0                         X_LOLOLOLOLOL_X   \n",
              "1             0                            Jack Schmidt   \n",
              "2             0                          Fred Zarnowski   \n",
              "3             0                            The_Real_Fly   \n",
              "4             0  UNC Otolaryngology/Head & Neck Surgery   \n",
              "5             0                                   Jason   \n",
              "6             0                           stevens_craig   \n",
              "7             0                        farid.ahmed.khan   \n",
              "8             0                        Stephani Shelton   \n",
              "9             0                     Infectious Diseases   \n",
              "\n",
              "                                              Tweets  \n",
              "0  FDA permits use of the Pfizer-BioNTech Covid v...  \n",
              "1  Pfizer CEO Bourla asks employees to join the s...  \n",
              "2  @WesElyMD @B52Malmet @CDCgov @CDCDirector I’m ...  \n",
              "3  Pfizer in talks over full license for COVID-19...  \n",
              "4  🎉Congrats to @ProfBrentSenior, who will receiv...  \n",
              "5  I guess @pfizer 💰 does talk after all huh @CDC...  \n",
              "6  @rec777777 @BanterNative @iancrichton4 @MalCha...  \n",
              "7  @ell_enn Ma'am, I heard that one can get Pfize...  \n",
              "8  @debjshaw Anyone with compromised immunity at ...  \n",
              "9  @Dovey08261451 @V2019N There aren't specifics....  "
            ]
          },
          "execution_count": 19,
          "metadata": {},
          "output_type": "execute_result"
        }
      ]
    },
    {
      "cell_type": "code",
      "metadata": {
        "id": "A83i5HvnDdiA"
      },
      "source": [
        ""
      ],
      "execution_count": null,
      "outputs": []
    },
    {
      "cell_type": "code",
      "metadata": {
        "id": "jZVKkRrPxIsF"
      },
      "source": [
        ""
      ],
      "execution_count": null,
      "outputs": []
    }
  ]
}