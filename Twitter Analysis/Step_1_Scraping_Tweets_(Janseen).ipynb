{
  "nbformat": 4,
  "nbformat_minor": 0,
  "metadata": {
    "colab": {
      "name": "Step 1 - Scraping Tweets (Janseen).ipynb",
      "provenance": [],
      "collapsed_sections": []
    },
    "kernelspec": {
      "display_name": "Python 3",
      "language": "python",
      "name": "python3"
    },
    "language_info": {
      "codemirror_mode": {
        "name": "ipython",
        "version": 3
      },
      "file_extension": ".py",
      "mimetype": "text/x-python",
      "name": "python",
      "nbconvert_exporter": "python",
      "pygments_lexer": "ipython3",
      "version": "3.7.3"
    }
  },
  "cells": [
    {
      "cell_type": "code",
      "metadata": {
        "id": "UaEb7UCKZyH1"
      },
      "source": [
        "import numpy as np\n",
        "import pandas as pd\n",
        "import time\n",
        "import warnings\n",
        "warnings.filterwarnings('ignore')"
      ],
      "execution_count": null,
      "outputs": []
    },
    {
      "cell_type": "code",
      "metadata": {
        "id": "bvuGoD6vZyH9"
      },
      "source": [
        "import tweepy\n",
        "from tweepy import OAuthHandler"
      ],
      "execution_count": null,
      "outputs": []
    },
    {
      "cell_type": "code",
      "metadata": {
        "id": "GM6e6eJ4ZyIA"
      },
      "source": [
        "consumer_key='WU6SXoAm6vxdMUzm0ybSk91RH'\n",
        "consumer_secret='p62qJszkV8L2FGz35w682eLsUlCZ9yWDu3z7FApwDgFeOcCNKm'\n",
        "access_token_key='864349577205358596-TuePxiQhOOqXR3mqdjFhJxaIWhia6Ym'\n",
        "access_token_secret='niCBAwR7fvzzg7LMRj6Xz6cve8HJFcHvu0541MgYyKmNL'"
      ],
      "execution_count": null,
      "outputs": []
    },
    {
      "cell_type": "code",
      "metadata": {
        "id": "4O8Qn8bwZyID"
      },
      "source": [
        "auth = OAuthHandler(consumer_key,consumer_secret) #to authenticate whether it is twitter application or not."
      ],
      "execution_count": null,
      "outputs": []
    },
    {
      "cell_type": "code",
      "metadata": {
        "id": "lxPKAGbOZyIH"
      },
      "source": [
        "auth.set_access_token(access_token_key,access_token_secret) #to enable the rights to fetch tweets from twitter"
      ],
      "execution_count": null,
      "outputs": []
    },
    {
      "cell_type": "code",
      "metadata": {
        "id": "6iMWQ7OqZyIK"
      },
      "source": [
        "args = ['janseen']\n",
        "\n",
        "date_since = \"2021-01-01\""
      ],
      "execution_count": null,
      "outputs": []
    },
    {
      "cell_type": "code",
      "metadata": {
        "id": "O97dMUmbZyIO"
      },
      "source": [
        "api = tweepy.API(auth,timeout=1000) # if we don't find any tweets, after 10000 seconds it will stop looking for tweets."
      ],
      "execution_count": null,
      "outputs": []
    },
    {
      "cell_type": "code",
      "metadata": {
        "id": "wWFH7y7BZyIR"
      },
      "source": [
        "list_tweets0 = []\n",
        "list_tweets1 = []\n",
        "list_tweets2 = []\n",
        "list_tweets3 = []\n",
        "list_tweets4 = []\n",
        "list_tweets5 = []\n",
        "list_tweets6 = []"
      ],
      "execution_count": null,
      "outputs": []
    },
    {
      "cell_type": "code",
      "metadata": {
        "id": "hvBjUnppZyIU"
      },
      "source": [
        "query = args[0] #to convert args into strings"
      ],
      "execution_count": null,
      "outputs": []
    },
    {
      "cell_type": "code",
      "metadata": {
        "id": "pTuw7dlIZyIX"
      },
      "source": [
        "# result_type='recent'\n",
        "\n",
        "if len(args) == 1:\n",
        "    for tweet in tweepy.Cursor(api.search, q=query+\" -filter:retweets\",lang='en',\n",
        "                               tweet_mode='extended', since=date_since,\n",
        "                               wait_on_rate_limit=True).items(12000):\n",
        "        list_tweets0.append(tweet.id)\n",
        "        list_tweets1.append(tweet.created_at)\n",
        "        list_tweets2.append(tweet.source)\n",
        "        list_tweets3.append(tweet.retweet_count)\n",
        "        list_tweets4.append(tweet.user.name)\n",
        "        list_tweets5.append(tweet.place)\n",
        "        list_tweets6.append(tweet.full_text)\n",
        "        time.sleep(1)"
      ],
      "execution_count": null,
      "outputs": []
    },
    {
      "cell_type": "code",
      "metadata": {
        "id": "NzrI4f6fZyIa"
      },
      "source": [
        "df = pd.DataFrame(np.column_stack([list_tweets0 , list_tweets1, list_tweets2, list_tweets3,\n",
        "                                   list_tweets4, list_tweets5, list_tweets6]), \n",
        "                  columns=['Id','Timestamp', 'Source', 'Retwwet_Count', 'User_Name',\n",
        "                           'Location', 'Tweets'])              "
      ],
      "execution_count": null,
      "outputs": []
    },
    {
      "cell_type": "code",
      "metadata": {
        "colab": {
          "base_uri": "https://localhost:8080/",
          "height": 34
        },
        "id": "9M6EucNCJecN",
        "outputId": "3bcee860-3fac-4720-e0e6-6c64d32304ff"
      },
      "source": [
        "df.shape"
      ],
      "execution_count": null,
      "outputs": [
        {
          "data": {
            "text/plain": [
              "(10, 7)"
            ]
          },
          "execution_count": 13,
          "metadata": {},
          "output_type": "execute_result"
        }
      ]
    },
    {
      "cell_type": "code",
      "metadata": {
        "id": "mJh4ZB7DZyIe"
      },
      "source": [
        "df.to_csv(\"Tweets_Sep_Janseen.csv\")"
      ],
      "execution_count": null,
      "outputs": []
    },
    {
      "cell_type": "code",
      "metadata": {
        "id": "EuoOE6nupCMG"
      },
      "source": [
        "df = df.drop(['Location'], axis =1)"
      ],
      "execution_count": null,
      "outputs": []
    },
    {
      "cell_type": "code",
      "metadata": {
        "id": "GmLmdI1XZyIg",
        "outputId": "f390cb8b-d97a-49b3-f543-cc8b1d1f0dd5"
      },
      "source": [
        "df.head(10)"
      ],
      "execution_count": null,
      "outputs": [
        {
          "data": {
            "text/html": [
              "<div>\n",
              "<style scoped>\n",
              "    .dataframe tbody tr th:only-of-type {\n",
              "        vertical-align: middle;\n",
              "    }\n",
              "\n",
              "    .dataframe tbody tr th {\n",
              "        vertical-align: top;\n",
              "    }\n",
              "\n",
              "    .dataframe thead th {\n",
              "        text-align: right;\n",
              "    }\n",
              "</style>\n",
              "<table border=\"1\" class=\"dataframe\">\n",
              "  <thead>\n",
              "    <tr style=\"text-align: right;\">\n",
              "      <th></th>\n",
              "      <th>Id</th>\n",
              "      <th>Timestamp</th>\n",
              "      <th>Source</th>\n",
              "      <th>Retwwet_Count</th>\n",
              "      <th>User_Name</th>\n",
              "      <th>Tweets</th>\n",
              "    </tr>\n",
              "  </thead>\n",
              "  <tbody>\n",
              "    <tr>\n",
              "      <th>0</th>\n",
              "      <td>1440697879782252556</td>\n",
              "      <td>2021-09-22 15:21:56</td>\n",
              "      <td>Twitter for iPhone</td>\n",
              "      <td>0</td>\n",
              "      <td>Janseen Acosta</td>\n",
              "      <td>@theRealKiyosaki 😮  hold Kiyosaki, I've been l...</td>\n",
              "    </tr>\n",
              "    <tr>\n",
              "      <th>1</th>\n",
              "      <td>1440663105487314957</td>\n",
              "      <td>2021-09-22 13:03:45</td>\n",
              "      <td>Twitter for Android</td>\n",
              "      <td>0</td>\n",
              "      <td>Chandan Khatri</td>\n",
              "      <td>As you may know, the United States had given 1...</td>\n",
              "    </tr>\n",
              "    <tr>\n",
              "      <th>2</th>\n",
              "      <td>1440336292357623808</td>\n",
              "      <td>2021-09-21 15:25:06</td>\n",
              "      <td>Twitter for iPhone</td>\n",
              "      <td>0</td>\n",
              "      <td>sam</td>\n",
              "      <td>@thehill Janseen; more like.. fuck, baby fuck!</td>\n",
              "    </tr>\n",
              "    <tr>\n",
              "      <th>3</th>\n",
              "      <td>1439972267006603267</td>\n",
              "      <td>2021-09-20 15:18:36</td>\n",
              "      <td>Twitter for Android</td>\n",
              "      <td>0</td>\n",
              "      <td>RichS 3.5% 🇪🇺🏳️‍🌈 #RejoinEU #FBPE #FBPPR #FBPA</td>\n",
              "      <td>@Schellebelle76 @SimonCalder @LBC Ahh yes I th...</td>\n",
              "    </tr>\n",
              "    <tr>\n",
              "      <th>4</th>\n",
              "      <td>1439414124283248640</td>\n",
              "      <td>2021-09-19 02:20:44</td>\n",
              "      <td>Twitter for Android</td>\n",
              "      <td>0</td>\n",
              "      <td>JM Torrecampo</td>\n",
              "      <td>COVID-19 Vaccine Delivered in the Philippines\\...</td>\n",
              "    </tr>\n",
              "    <tr>\n",
              "      <th>5</th>\n",
              "      <td>1439381440861548553</td>\n",
              "      <td>2021-09-19 00:10:52</td>\n",
              "      <td>Twitter Web App</td>\n",
              "      <td>0</td>\n",
              "      <td>JobRoss</td>\n",
              "      <td>@craigsfire @MaxNordau Regeron reported 2.59 b...</td>\n",
              "    </tr>\n",
              "    <tr>\n",
              "      <th>6</th>\n",
              "      <td>1438961828206456838</td>\n",
              "      <td>2021-09-17 20:23:29</td>\n",
              "      <td>Twitter Web App</td>\n",
              "      <td>0</td>\n",
              "      <td>Bill</td>\n",
              "      <td>Hey, I'm an older Adult, stroke survivor, very...</td>\n",
              "    </tr>\n",
              "    <tr>\n",
              "      <th>7</th>\n",
              "      <td>1438934359973588994</td>\n",
              "      <td>2021-09-17 18:34:20</td>\n",
              "      <td>Twitter Web App</td>\n",
              "      <td>0</td>\n",
              "      <td>Verónica Athié BSc, MSc, PhD.</td>\n",
              "      <td>@EricTopol @CDCMMWR Janseen Ab response is eve...</td>\n",
              "    </tr>\n",
              "    <tr>\n",
              "      <th>8</th>\n",
              "      <td>1438799459438170119</td>\n",
              "      <td>2021-09-17 09:38:17</td>\n",
              "      <td>Twitter Web App</td>\n",
              "      <td>0</td>\n",
              "      <td>CanadianGrandma</td>\n",
              "      <td>@brigade_health Didn’t you ever wonder why Joh...</td>\n",
              "    </tr>\n",
              "    <tr>\n",
              "      <th>9</th>\n",
              "      <td>1438422024913891331</td>\n",
              "      <td>2021-09-16 08:38:29</td>\n",
              "      <td>Twitter Web App</td>\n",
              "      <td>0</td>\n",
              "      <td>Jennifer Gray</td>\n",
              "      <td>@1NewsNZ The covid vaccine is like getting the...</td>\n",
              "    </tr>\n",
              "  </tbody>\n",
              "</table>\n",
              "</div>"
            ],
            "text/plain": [
              "                    Id            Timestamp               Source  \\\n",
              "0  1440697879782252556  2021-09-22 15:21:56   Twitter for iPhone   \n",
              "1  1440663105487314957  2021-09-22 13:03:45  Twitter for Android   \n",
              "2  1440336292357623808  2021-09-21 15:25:06   Twitter for iPhone   \n",
              "3  1439972267006603267  2021-09-20 15:18:36  Twitter for Android   \n",
              "4  1439414124283248640  2021-09-19 02:20:44  Twitter for Android   \n",
              "5  1439381440861548553  2021-09-19 00:10:52      Twitter Web App   \n",
              "6  1438961828206456838  2021-09-17 20:23:29      Twitter Web App   \n",
              "7  1438934359973588994  2021-09-17 18:34:20      Twitter Web App   \n",
              "8  1438799459438170119  2021-09-17 09:38:17      Twitter Web App   \n",
              "9  1438422024913891331  2021-09-16 08:38:29      Twitter Web App   \n",
              "\n",
              "  Retwwet_Count                                       User_Name  \\\n",
              "0             0                                  Janseen Acosta   \n",
              "1             0                                  Chandan Khatri   \n",
              "2             0                                             sam   \n",
              "3             0  RichS 3.5% 🇪🇺🏳️‍🌈 #RejoinEU #FBPE #FBPPR #FBPA   \n",
              "4             0                                   JM Torrecampo   \n",
              "5             0                                         JobRoss   \n",
              "6             0                                            Bill   \n",
              "7             0                   Verónica Athié BSc, MSc, PhD.   \n",
              "8             0                                 CanadianGrandma   \n",
              "9             0                                   Jennifer Gray   \n",
              "\n",
              "                                              Tweets  \n",
              "0  @theRealKiyosaki 😮  hold Kiyosaki, I've been l...  \n",
              "1  As you may know, the United States had given 1...  \n",
              "2     @thehill Janseen; more like.. fuck, baby fuck!  \n",
              "3  @Schellebelle76 @SimonCalder @LBC Ahh yes I th...  \n",
              "4  COVID-19 Vaccine Delivered in the Philippines\\...  \n",
              "5  @craigsfire @MaxNordau Regeron reported 2.59 b...  \n",
              "6  Hey, I'm an older Adult, stroke survivor, very...  \n",
              "7  @EricTopol @CDCMMWR Janseen Ab response is eve...  \n",
              "8  @brigade_health Didn’t you ever wonder why Joh...  \n",
              "9  @1NewsNZ The covid vaccine is like getting the...  "
            ]
          },
          "execution_count": 18,
          "metadata": {},
          "output_type": "execute_result"
        }
      ]
    },
    {
      "cell_type": "code",
      "metadata": {
        "id": "A83i5HvnDdiA"
      },
      "source": [
        ""
      ],
      "execution_count": null,
      "outputs": []
    },
    {
      "cell_type": "code",
      "metadata": {
        "id": "jZVKkRrPxIsF"
      },
      "source": [
        ""
      ],
      "execution_count": null,
      "outputs": []
    },
    {
      "cell_type": "code",
      "metadata": {
        "id": "QHyNdWXDpCMH"
      },
      "source": [
        ""
      ],
      "execution_count": null,
      "outputs": []
    }
  ]
}