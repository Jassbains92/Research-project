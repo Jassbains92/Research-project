{
 "cells": [
  {
   "cell_type": "markdown",
   "metadata": {
    "colab_type": "text",
    "id": "sysM5pCMkdhL"
   },
   "source": [
    "Importing required Libraries"
   ]
  },
  {
   "cell_type": "code",
   "execution_count": 1,
   "metadata": {
    "colab": {},
    "colab_type": "code",
    "id": "7aWZ4ZQPLNVp"
   },
   "outputs": [],
   "source": [
    "import numpy as np\n",
    "import pandas as pd\n",
    "import re"
   ]
  },
  {
   "cell_type": "markdown",
   "metadata": {
    "colab_type": "text",
    "id": "QF6l_XWK0PgY"
   },
   "source": [
    "######### Raw Data Dump"
   ]
  },
  {
   "cell_type": "code",
   "execution_count": 2,
   "metadata": {
    "colab": {},
    "colab_type": "code",
    "id": "ahT_gxngmdlY"
   },
   "outputs": [],
   "source": [
    "twitter_data = pd.read_csv(\"Tweets_Sep_Pfizer.csv\")"
   ]
  },
  {
   "cell_type": "code",
   "execution_count": 3,
   "metadata": {
    "colab": {
     "base_uri": "https://localhost:8080/",
     "height": 111
    },
    "colab_type": "code",
    "id": "aNiRMpDJkXTg",
    "outputId": "cb665a3a-74a4-4ee5-a15d-b1c5b5e3b764"
   },
   "outputs": [
    {
     "data": {
      "text/html": [
       "<div>\n",
       "<style scoped>\n",
       "    .dataframe tbody tr th:only-of-type {\n",
       "        vertical-align: middle;\n",
       "    }\n",
       "\n",
       "    .dataframe tbody tr th {\n",
       "        vertical-align: top;\n",
       "    }\n",
       "\n",
       "    .dataframe thead th {\n",
       "        text-align: right;\n",
       "    }\n",
       "</style>\n",
       "<table border=\"1\" class=\"dataframe\">\n",
       "  <thead>\n",
       "    <tr style=\"text-align: right;\">\n",
       "      <th></th>\n",
       "      <th>Unnamed: 0</th>\n",
       "      <th>Id</th>\n",
       "      <th>Timestamp</th>\n",
       "      <th>Source</th>\n",
       "      <th>Retwwet_Count</th>\n",
       "      <th>User_Name</th>\n",
       "      <th>Location</th>\n",
       "      <th>Tweets</th>\n",
       "    </tr>\n",
       "  </thead>\n",
       "  <tbody>\n",
       "    <tr>\n",
       "      <th>0</th>\n",
       "      <td>0</td>\n",
       "      <td>1441380234113081350</td>\n",
       "      <td>2021-09-24 12:33:22</td>\n",
       "      <td>Twitter Web App</td>\n",
       "      <td>0</td>\n",
       "      <td>X_LOLOLOLOLOL_X</td>\n",
       "      <td>NaN</td>\n",
       "      <td>FDA permits use of the Pfizer-BioNTech Covid v...</td>\n",
       "    </tr>\n",
       "    <tr>\n",
       "      <th>1</th>\n",
       "      <td>1</td>\n",
       "      <td>1441380226131390472</td>\n",
       "      <td>2021-09-24 12:33:20</td>\n",
       "      <td>Twitter Web App</td>\n",
       "      <td>0</td>\n",
       "      <td>Jack Schmidt</td>\n",
       "      <td>NaN</td>\n",
       "      <td>Pfizer CEO Bourla asks employees to join the s...</td>\n",
       "    </tr>\n",
       "  </tbody>\n",
       "</table>\n",
       "</div>"
      ],
      "text/plain": [
       "   Unnamed: 0                   Id            Timestamp           Source  \\\n",
       "0           0  1441380234113081350  2021-09-24 12:33:22  Twitter Web App   \n",
       "1           1  1441380226131390472  2021-09-24 12:33:20  Twitter Web App   \n",
       "\n",
       "   Retwwet_Count        User_Name Location  \\\n",
       "0              0  X_LOLOLOLOLOL_X      NaN   \n",
       "1              0     Jack Schmidt      NaN   \n",
       "\n",
       "                                              Tweets  \n",
       "0  FDA permits use of the Pfizer-BioNTech Covid v...  \n",
       "1  Pfizer CEO Bourla asks employees to join the s...  "
      ]
     },
     "execution_count": 3,
     "metadata": {},
     "output_type": "execute_result"
    }
   ],
   "source": [
    "twitter_data.head(2)"
   ]
  },
  {
   "cell_type": "code",
   "execution_count": 4,
   "metadata": {
    "colab": {},
    "colab_type": "code",
    "id": "4uyAf0X1rzgK"
   },
   "outputs": [],
   "source": [
    "twitter_data = twitter_data.rename(columns = {'Tweets':'tweets'})"
   ]
  },
  {
   "cell_type": "code",
   "execution_count": 5,
   "metadata": {
    "colab": {},
    "colab_type": "code",
    "id": "sJGmxzDQpYQS"
   },
   "outputs": [],
   "source": [
    "twitter_data=pd.DataFrame(twitter_data)"
   ]
  },
  {
   "cell_type": "code",
   "execution_count": 6,
   "metadata": {
    "colab": {
     "base_uri": "https://localhost:8080/",
     "height": 34
    },
    "colab_type": "code",
    "id": "KyPzBaLopmch",
    "outputId": "52321c3a-6e54-4b5e-89a2-f8c1cf6c8f85"
   },
   "outputs": [
    {
     "data": {
      "text/plain": [
       "(1217, 8)"
      ]
     },
     "execution_count": 6,
     "metadata": {},
     "output_type": "execute_result"
    }
   ],
   "source": [
    "twitter_data.shape"
   ]
  },
  {
   "cell_type": "code",
   "execution_count": 7,
   "metadata": {
    "colab": {},
    "colab_type": "code",
    "id": "RiDXfIefgg4Z"
   },
   "outputs": [],
   "source": [
    "twitter_data=twitter_data.drop(columns = 'Location', axis = 1)"
   ]
  },
  {
   "cell_type": "code",
   "execution_count": 8,
   "metadata": {
    "colab": {},
    "colab_type": "code",
    "id": "wZC9A7HFoxha"
   },
   "outputs": [],
   "source": [
    "twitter_data= twitter_data.drop_duplicates()"
   ]
  },
  {
   "cell_type": "code",
   "execution_count": 9,
   "metadata": {
    "colab": {
     "base_uri": "https://localhost:8080/",
     "height": 34
    },
    "colab_type": "code",
    "id": "YD7qOKPokvtQ",
    "outputId": "86ec8019-60ac-4584-8508-10d0379dc9cc"
   },
   "outputs": [
    {
     "data": {
      "text/plain": [
       "(1217, 7)"
      ]
     },
     "execution_count": 9,
     "metadata": {},
     "output_type": "execute_result"
    }
   ],
   "source": [
    "twitter_data.shape"
   ]
  },
  {
   "cell_type": "code",
   "execution_count": 10,
   "metadata": {
    "colab": {},
    "colab_type": "code",
    "id": "oh3WHmXM_VTy"
   },
   "outputs": [],
   "source": [
    "twitter_data.iloc[:,5] = twitter_data.iloc[:,5].apply(str)"
   ]
  },
  {
   "cell_type": "markdown",
   "metadata": {
    "colab_type": "text",
    "id": "S3VgpCoth2_B"
   },
   "source": [
    "Pre Processing - Removing unwanted Characters"
   ]
  },
  {
   "cell_type": "code",
   "execution_count": 11,
   "metadata": {
    "colab": {
     "base_uri": "https://localhost:8080/",
     "height": 111
    },
    "colab_type": "code",
    "id": "jdd6tM5ViZWz",
    "outputId": "19c4584a-1aa5-4776-e6c0-5e97be5fe6c4"
   },
   "outputs": [
    {
     "data": {
      "text/html": [
       "<div>\n",
       "<style scoped>\n",
       "    .dataframe tbody tr th:only-of-type {\n",
       "        vertical-align: middle;\n",
       "    }\n",
       "\n",
       "    .dataframe tbody tr th {\n",
       "        vertical-align: top;\n",
       "    }\n",
       "\n",
       "    .dataframe thead th {\n",
       "        text-align: right;\n",
       "    }\n",
       "</style>\n",
       "<table border=\"1\" class=\"dataframe\">\n",
       "  <thead>\n",
       "    <tr style=\"text-align: right;\">\n",
       "      <th></th>\n",
       "      <th>Unnamed: 0</th>\n",
       "      <th>Id</th>\n",
       "      <th>Timestamp</th>\n",
       "      <th>Source</th>\n",
       "      <th>Retwwet_Count</th>\n",
       "      <th>User_Name</th>\n",
       "      <th>tweets</th>\n",
       "    </tr>\n",
       "  </thead>\n",
       "  <tbody>\n",
       "    <tr>\n",
       "      <th>0</th>\n",
       "      <td>0</td>\n",
       "      <td>1441380234113081350</td>\n",
       "      <td>2021-09-24 12:33:22</td>\n",
       "      <td>Twitter Web App</td>\n",
       "      <td>0</td>\n",
       "      <td>X_LOLOLOLOLOL_X</td>\n",
       "      <td>FDA permits use of the Pfizer-BioNTech Covid v...</td>\n",
       "    </tr>\n",
       "    <tr>\n",
       "      <th>1</th>\n",
       "      <td>1</td>\n",
       "      <td>1441380226131390472</td>\n",
       "      <td>2021-09-24 12:33:20</td>\n",
       "      <td>Twitter Web App</td>\n",
       "      <td>0</td>\n",
       "      <td>Jack Schmidt</td>\n",
       "      <td>Pfizer CEO Bourla asks employees to join the s...</td>\n",
       "    </tr>\n",
       "  </tbody>\n",
       "</table>\n",
       "</div>"
      ],
      "text/plain": [
       "   Unnamed: 0                   Id            Timestamp           Source  \\\n",
       "0           0  1441380234113081350  2021-09-24 12:33:22  Twitter Web App   \n",
       "1           1  1441380226131390472  2021-09-24 12:33:20  Twitter Web App   \n",
       "\n",
       "   Retwwet_Count        User_Name  \\\n",
       "0              0  X_LOLOLOLOLOL_X   \n",
       "1              0     Jack Schmidt   \n",
       "\n",
       "                                              tweets  \n",
       "0  FDA permits use of the Pfizer-BioNTech Covid v...  \n",
       "1  Pfizer CEO Bourla asks employees to join the s...  "
      ]
     },
     "execution_count": 11,
     "metadata": {},
     "output_type": "execute_result"
    }
   ],
   "source": [
    "twitter_data.head(2)"
   ]
  },
  {
   "cell_type": "markdown",
   "metadata": {
    "colab_type": "text",
    "id": "M2hsYW-9i0TR"
   },
   "source": [
    "Pre Processing\n",
    "Remove Punctuations"
   ]
  },
  {
   "cell_type": "code",
   "execution_count": 12,
   "metadata": {
    "colab": {},
    "colab_type": "code",
    "id": "vkQsR9WAfuIM"
   },
   "outputs": [],
   "source": [
    "twitter_data.iloc[:,5] = twitter_data.iloc[:,5].str.replace(r'https(\\S)+', r' ')\n",
    "twitter_data.iloc[:,5] = twitter_data.iloc[:,5].str.replace(r'http ...', r' ')\n",
    "\n",
    "twitter_data.iloc[:,5] = twitter_data.iloc[:,5].str.replace(r'(RT|rt)[ ]*@[ ]*[\\S]+',r' ')\n",
    "twitter_data.iloc[:,5] = twitter_data.iloc[:,5].str.replace(r'@[\\S]+',r' ')\n",
    "\n",
    "twitter_data.iloc[:,5] = twitter_data.iloc[:,5].str.replace('http', '')"
   ]
  },
  {
   "cell_type": "code",
   "execution_count": 13,
   "metadata": {
    "colab": {
     "base_uri": "https://localhost:8080/",
     "height": 204
    },
    "colab_type": "code",
    "id": "UaxfzmFgNV53",
    "outputId": "d7ace4f3-e82f-4ab3-d42c-6f00b2b9c572"
   },
   "outputs": [
    {
     "data": {
      "text/html": [
       "<div>\n",
       "<style scoped>\n",
       "    .dataframe tbody tr th:only-of-type {\n",
       "        vertical-align: middle;\n",
       "    }\n",
       "\n",
       "    .dataframe tbody tr th {\n",
       "        vertical-align: top;\n",
       "    }\n",
       "\n",
       "    .dataframe thead th {\n",
       "        text-align: right;\n",
       "    }\n",
       "</style>\n",
       "<table border=\"1\" class=\"dataframe\">\n",
       "  <thead>\n",
       "    <tr style=\"text-align: right;\">\n",
       "      <th></th>\n",
       "      <th>Unnamed: 0</th>\n",
       "      <th>Id</th>\n",
       "      <th>Timestamp</th>\n",
       "      <th>Source</th>\n",
       "      <th>Retwwet_Count</th>\n",
       "      <th>User_Name</th>\n",
       "      <th>tweets</th>\n",
       "    </tr>\n",
       "  </thead>\n",
       "  <tbody>\n",
       "    <tr>\n",
       "      <th>0</th>\n",
       "      <td>0</td>\n",
       "      <td>1441380234113081350</td>\n",
       "      <td>2021-09-24 12:33:22</td>\n",
       "      <td>Twitter Web App</td>\n",
       "      <td>0</td>\n",
       "      <td>X_LOLOLOLOLOL_X</td>\n",
       "      <td>FDA permits use of the Pfizer-BioNTech Covid v...</td>\n",
       "    </tr>\n",
       "    <tr>\n",
       "      <th>1</th>\n",
       "      <td>1</td>\n",
       "      <td>1441380226131390472</td>\n",
       "      <td>2021-09-24 12:33:20</td>\n",
       "      <td>Twitter Web App</td>\n",
       "      <td>0</td>\n",
       "      <td>Jack Schmidt</td>\n",
       "      <td>Pfizer CEO Bourla asks employees to join the s...</td>\n",
       "    </tr>\n",
       "    <tr>\n",
       "      <th>2</th>\n",
       "      <td>2</td>\n",
       "      <td>1441380207655460865</td>\n",
       "      <td>2021-09-24 12:33:15</td>\n",
       "      <td>Twitter for iPhone</td>\n",
       "      <td>0</td>\n",
       "      <td>Fred Zarnowski</td>\n",
       "      <td>@WesElyMD @B52Malmet @CDCgov @CDCDirector I’m ...</td>\n",
       "    </tr>\n",
       "    <tr>\n",
       "      <th>3</th>\n",
       "      <td>3</td>\n",
       "      <td>1441380207517003781</td>\n",
       "      <td>2021-09-24 12:33:15</td>\n",
       "      <td>Twitter Web App</td>\n",
       "      <td>0</td>\n",
       "      <td>The_Real_Fly</td>\n",
       "      <td>Pfizer in talks over full license for COVID-19...</td>\n",
       "    </tr>\n",
       "    <tr>\n",
       "      <th>4</th>\n",
       "      <td>4</td>\n",
       "      <td>1441380151955128325</td>\n",
       "      <td>2021-09-24 12:33:02</td>\n",
       "      <td>Twitter Web App</td>\n",
       "      <td>0</td>\n",
       "      <td>UNC Otolaryngology/Head &amp; Neck Surgery</td>\n",
       "      <td>🎉Congrats to @ProfBrentSenior, who will receiv...</td>\n",
       "    </tr>\n",
       "  </tbody>\n",
       "</table>\n",
       "</div>"
      ],
      "text/plain": [
       "   Unnamed: 0                   Id            Timestamp              Source  \\\n",
       "0           0  1441380234113081350  2021-09-24 12:33:22     Twitter Web App   \n",
       "1           1  1441380226131390472  2021-09-24 12:33:20     Twitter Web App   \n",
       "2           2  1441380207655460865  2021-09-24 12:33:15  Twitter for iPhone   \n",
       "3           3  1441380207517003781  2021-09-24 12:33:15     Twitter Web App   \n",
       "4           4  1441380151955128325  2021-09-24 12:33:02     Twitter Web App   \n",
       "\n",
       "   Retwwet_Count                               User_Name  \\\n",
       "0              0                         X_LOLOLOLOLOL_X   \n",
       "1              0                            Jack Schmidt   \n",
       "2              0                          Fred Zarnowski   \n",
       "3              0                            The_Real_Fly   \n",
       "4              0  UNC Otolaryngology/Head & Neck Surgery   \n",
       "\n",
       "                                              tweets  \n",
       "0  FDA permits use of the Pfizer-BioNTech Covid v...  \n",
       "1  Pfizer CEO Bourla asks employees to join the s...  \n",
       "2  @WesElyMD @B52Malmet @CDCgov @CDCDirector I’m ...  \n",
       "3  Pfizer in talks over full license for COVID-19...  \n",
       "4  🎉Congrats to @ProfBrentSenior, who will receiv...  "
      ]
     },
     "execution_count": 13,
     "metadata": {},
     "output_type": "execute_result"
    }
   ],
   "source": [
    "twitter_data.head(5)"
   ]
  },
  {
   "cell_type": "code",
   "execution_count": 14,
   "metadata": {
    "colab": {},
    "colab_type": "code",
    "id": "1SA1xtkzjeHO"
   },
   "outputs": [],
   "source": [
    "PUNCT_TO_REMOVE = '!\"#$%&\\'()*+,-./:;<=>?@[\\\\]^_{|}~`'"
   ]
  },
  {
   "cell_type": "code",
   "execution_count": 15,
   "metadata": {
    "colab": {},
    "colab_type": "code",
    "id": "Hm-NNqR0jgce"
   },
   "outputs": [],
   "source": [
    "def remove_punctuation(text):\n",
    "    return text.translate(str.maketrans(' ', ' ', PUNCT_TO_REMOVE))"
   ]
  },
  {
   "cell_type": "code",
   "execution_count": 16,
   "metadata": {
    "colab": {},
    "colab_type": "code",
    "id": "nLePVfoxi6O5"
   },
   "outputs": [],
   "source": [
    "twitter_data.iloc[:,5] = twitter_data.iloc[:,5].apply(lambda text: remove_punctuation(text))"
   ]
  },
  {
   "cell_type": "code",
   "execution_count": 17,
   "metadata": {
    "colab": {},
    "colab_type": "code",
    "id": "DYx8a6Pw-0ar"
   },
   "outputs": [],
   "source": [
    "all_words = list(twitter_data.iloc[:,5].str.lower().str.split(' ', expand=True).stack().unique())"
   ]
  },
  {
   "cell_type": "code",
   "execution_count": 18,
   "metadata": {
    "colab": {
     "base_uri": "https://localhost:8080/",
     "height": 204
    },
    "colab_type": "code",
    "id": "sTtXB2hWjDck",
    "outputId": "68490660-ed1a-4a32-ae47-a858f8bb6520"
   },
   "outputs": [
    {
     "data": {
      "text/plain": [
       "0    FDA permits use of the Pfizer-BioNTech Covid v...\n",
       "1    Pfizer CEO Bourla asks employees to join the s...\n",
       "2    @WesElyMD @B52Malmet @CDCgov @CDCDirector I’m ...\n",
       "3    Pfizer in talks over full license for COVID-19...\n",
       "4    🎉Congrats to @ProfBrentSenior, who will receiv...\n",
       "5    I guess @pfizer 💰 does talk after all huh @CDC...\n",
       "6    @rec777777 @BanterNative @iancrichton4 @MalCha...\n",
       "7    @ell_enn Ma'am, I heard that one can get Pfize...\n",
       "8    @debjshaw Anyone with compromised immunity at ...\n",
       "9    @Dovey08261451 @V2019N There aren't specifics....\n",
       "Name: tweets, dtype: object"
      ]
     },
     "execution_count": 18,
     "metadata": {},
     "output_type": "execute_result"
    }
   ],
   "source": [
    "twitter_data['tweets'].head(10)"
   ]
  },
  {
   "cell_type": "markdown",
   "metadata": {
    "colab_type": "text",
    "id": "79IUToYgmrp9"
   },
   "source": [
    "Remove most occuring words"
   ]
  },
  {
   "cell_type": "code",
   "execution_count": 19,
   "metadata": {
    "colab": {},
    "colab_type": "code",
    "id": "j03xsTQik754"
   },
   "outputs": [],
   "source": [
    "from collections import Counter\n",
    "cnt = Counter()\n",
    "for text in twitter_data['tweets'].values:\n",
    "    for word in text.split():\n",
    "        cnt[word] += 1"
   ]
  },
  {
   "cell_type": "code",
   "execution_count": 20,
   "metadata": {
    "colab": {
     "base_uri": "https://localhost:8080/",
     "height": 357
    },
    "colab_type": "code",
    "id": "X-RgyCCHmUmX",
    "outputId": "a6aef20a-63d0-4a48-b93e-e181cbdaaedb"
   },
   "outputs": [
    {
     "data": {
      "text/plain": [
       "[('the', 879),\n",
       " ('Pfizer', 728),\n",
       " ('and', 642),\n",
       " ('for', 600),\n",
       " ('to', 585),\n",
       " ('of', 495),\n",
       " ('a', 426),\n",
       " ('in', 336),\n",
       " ('is', 278),\n",
       " ('I', 274),\n",
       " ('at', 253),\n",
       " ('booster', 244),\n",
       " ('CDC', 211),\n",
       " ('vaccine', 204),\n",
       " ('on', 196),\n",
       " ('that', 192)]"
      ]
     },
     "execution_count": 20,
     "metadata": {},
     "output_type": "execute_result"
    }
   ],
   "source": [
    "cnt.most_common(16)"
   ]
  },
  {
   "cell_type": "code",
   "execution_count": 21,
   "metadata": {
    "colab": {},
    "colab_type": "code",
    "id": "Ld45S4timPEy"
   },
   "outputs": [],
   "source": [
    "FREQWORDS = set([w for (w, wc) in cnt.most_common(25)])\n",
    "def remove_freqwords(text):\n",
    "    \"\"\"custom function to remove the frequent words\"\"\"\n",
    "    return \" \".join([word for word in str(text).split() if word not in FREQWORDS])"
   ]
  },
  {
   "cell_type": "code",
   "execution_count": 22,
   "metadata": {
    "colab": {},
    "colab_type": "code",
    "id": "7h1JhUpymgAZ"
   },
   "outputs": [],
   "source": [
    "twitter_data['tweets'] = twitter_data['tweets'].apply(lambda text: remove_freqwords(text))"
   ]
  },
  {
   "cell_type": "code",
   "execution_count": 23,
   "metadata": {
    "colab": {
     "base_uri": "https://localhost:8080/",
     "height": 204
    },
    "colab_type": "code",
    "id": "nC42wuQWmj-u",
    "outputId": "8faf3f5d-ac39-4326-f6b2-02648850f598"
   },
   "outputs": [
    {
     "data": {
      "text/plain": [
       "0    FDA permits use Pfizer-BioNTech Covid kids age...\n",
       "1    CEO Bourla asks employees join scrum D.C. drug...\n",
       "2    @WesElyMD @B52Malmet @CDCgov @CDCDirector I’m ...\n",
       "3      talks over full license COVID-19 Singapore $PFE\n",
       "4    🎉Congrats @ProfBrentSenior, who will receive a...\n",
       "5    guess @pfizer 💰 does talk after all huh @CDCDi...\n",
       "6    @rec777777 @BanterNative @iancrichton4 @MalCha...\n",
       "7    @ell_enn Ma'am, heard one can irrespective age...\n",
       "8    @debjshaw Anyone compromised immunity any age ...\n",
       "9    @Dovey08261451 @V2019N There aren't specifics....\n",
       "Name: tweets, dtype: object"
      ]
     },
     "execution_count": 23,
     "metadata": {},
     "output_type": "execute_result"
    }
   ],
   "source": [
    "twitter_data['tweets'].head(10)"
   ]
  },
  {
   "cell_type": "markdown",
   "metadata": {
    "colab_type": "text",
    "id": "kC4V70ftm_vH"
   },
   "source": [
    "Remove rare words"
   ]
  },
  {
   "cell_type": "code",
   "execution_count": 24,
   "metadata": {
    "colab": {},
    "colab_type": "code",
    "id": "b4f3eGwdk8mr"
   },
   "outputs": [],
   "source": [
    "n_rare_words = 10\n",
    "RAREWORDS = set([w for (w, wc) in cnt.most_common()[:-n_rare_words-1:-1]])\n",
    "def remove_rarewords(text):\n",
    "    return \" \".join([word for word in str(text).split() if word not in RAREWORDS])"
   ]
  },
  {
   "cell_type": "code",
   "execution_count": 25,
   "metadata": {
    "colab": {},
    "colab_type": "code",
    "id": "gSI-Ipkvm6vR"
   },
   "outputs": [],
   "source": [
    "twitter_data['tweets'] = twitter_data['tweets'].apply(lambda text: remove_rarewords(text))"
   ]
  },
  {
   "cell_type": "code",
   "execution_count": 26,
   "metadata": {
    "colab": {
     "base_uri": "https://localhost:8080/",
     "height": 204
    },
    "colab_type": "code",
    "id": "rvmI8UKbm-uy",
    "outputId": "5e835eda-9eaf-4ba5-f692-09c776192d66"
   },
   "outputs": [
    {
     "data": {
      "text/plain": [
       "0    FDA permits use Pfizer-BioNTech Covid kids age...\n",
       "1    CEO Bourla asks employees join scrum D.C. drug...\n",
       "2    @WesElyMD @B52Malmet @CDCgov @CDCDirector I’m ...\n",
       "3      talks over full license COVID-19 Singapore $PFE\n",
       "4    🎉Congrats @ProfBrentSenior, who will receive a...\n",
       "5    guess @pfizer 💰 does talk after all huh @CDCDi...\n",
       "6    @rec777777 @BanterNative @iancrichton4 @MalCha...\n",
       "7    @ell_enn Ma'am, heard one can irrespective age...\n",
       "8    @debjshaw Anyone compromised immunity any age ...\n",
       "9    @Dovey08261451 @V2019N There aren't specifics....\n",
       "Name: tweets, dtype: object"
      ]
     },
     "execution_count": 26,
     "metadata": {},
     "output_type": "execute_result"
    }
   ],
   "source": [
    "twitter_data['tweets'].head(10)"
   ]
  },
  {
   "cell_type": "markdown",
   "metadata": {
    "colab_type": "text",
    "id": "92O_eybMg4n8"
   },
   "source": [
    "Lemmatize"
   ]
  },
  {
   "cell_type": "code",
   "execution_count": 27,
   "metadata": {
    "colab": {},
    "colab_type": "code",
    "id": "K0ZGw83QnnCL"
   },
   "outputs": [],
   "source": [
    "from nltk.stem import WordNetLemmatizer\n",
    "from nltk.corpus import wordnet"
   ]
  },
  {
   "cell_type": "code",
   "execution_count": 28,
   "metadata": {
    "colab": {
     "base_uri": "https://localhost:8080/",
     "height": 1000
    },
    "colab_type": "code",
    "id": "CrHENeEOrfGO",
    "outputId": "6332c26d-0899-443c-d9b5-6d0cc1027530"
   },
   "outputs": [],
   "source": [
    "import nltk\n",
    "#nltk.download('book')\n",
    "\n",
    "#nltk.download('all-corpora')"
   ]
  },
  {
   "cell_type": "code",
   "execution_count": 29,
   "metadata": {
    "colab": {},
    "colab_type": "code",
    "id": "SDU83t4SnqGU"
   },
   "outputs": [],
   "source": [
    "lemmatizer = WordNetLemmatizer()\n",
    "def lemmatize_words(text):\n",
    "    return \" \".join([lemmatizer.lemmatize(word) for word in text.split()])"
   ]
  },
  {
   "cell_type": "code",
   "execution_count": 30,
   "metadata": {
    "colab": {},
    "colab_type": "code",
    "id": "D6s0GtZTnsls"
   },
   "outputs": [],
   "source": [
    "twitter_data['tweets'] = twitter_data['tweets'].apply(lambda text: lemmatize_words(text))"
   ]
  },
  {
   "cell_type": "code",
   "execution_count": 31,
   "metadata": {
    "colab": {},
    "colab_type": "code",
    "id": "IUp_2jFgivLh"
   },
   "outputs": [],
   "source": [
    "lemmatizer = WordNetLemmatizer()\n",
    "wordnet_map = {\"N\":wordnet.NOUN, \"V\":wordnet.VERB, \"J\":wordnet.ADJ, \"R\":wordnet.ADV}"
   ]
  },
  {
   "cell_type": "code",
   "execution_count": 32,
   "metadata": {
    "colab": {},
    "colab_type": "code",
    "id": "dJJpY0Ser0GX"
   },
   "outputs": [],
   "source": [
    "def lemmatize_words(text):\n",
    "    pos_tagged_text = nltk.pos_tag(text.split())\n",
    "    return \" \".join([lemmatizer.lemmatize(word, wordnet_map.get(pos[0], wordnet.NOUN)) for word, pos in pos_tagged_text])"
   ]
  },
  {
   "cell_type": "code",
   "execution_count": 33,
   "metadata": {
    "colab": {},
    "colab_type": "code",
    "id": "m9ciHAIVr4oL"
   },
   "outputs": [],
   "source": [
    "twitter_data['tweets'] = twitter_data['tweets'].apply(lambda text: lemmatize_words(text))"
   ]
  },
  {
   "cell_type": "code",
   "execution_count": 34,
   "metadata": {
    "colab": {
     "base_uri": "https://localhost:8080/",
     "height": 359
    },
    "colab_type": "code",
    "id": "uLWVm-MSsHA5",
    "outputId": "71bb42c4-55ab-4539-9c8d-4117324ca61d"
   },
   "outputs": [
    {
     "data": {
      "text/html": [
       "<div>\n",
       "<style scoped>\n",
       "    .dataframe tbody tr th:only-of-type {\n",
       "        vertical-align: middle;\n",
       "    }\n",
       "\n",
       "    .dataframe tbody tr th {\n",
       "        vertical-align: top;\n",
       "    }\n",
       "\n",
       "    .dataframe thead th {\n",
       "        text-align: right;\n",
       "    }\n",
       "</style>\n",
       "<table border=\"1\" class=\"dataframe\">\n",
       "  <thead>\n",
       "    <tr style=\"text-align: right;\">\n",
       "      <th></th>\n",
       "      <th>Unnamed: 0</th>\n",
       "      <th>Id</th>\n",
       "      <th>Timestamp</th>\n",
       "      <th>Source</th>\n",
       "      <th>Retwwet_Count</th>\n",
       "      <th>User_Name</th>\n",
       "      <th>tweets</th>\n",
       "    </tr>\n",
       "  </thead>\n",
       "  <tbody>\n",
       "    <tr>\n",
       "      <th>0</th>\n",
       "      <td>0</td>\n",
       "      <td>1441380234113081350</td>\n",
       "      <td>2021-09-24 12:33:22</td>\n",
       "      <td>Twitter Web App</td>\n",
       "      <td>0</td>\n",
       "      <td>XLOLOLOLOLOLX</td>\n",
       "      <td>FDA permit use Pfizer-BioNTech Covid kid age 1...</td>\n",
       "    </tr>\n",
       "    <tr>\n",
       "      <th>1</th>\n",
       "      <td>1</td>\n",
       "      <td>1441380226131390472</td>\n",
       "      <td>2021-09-24 12:33:20</td>\n",
       "      <td>Twitter Web App</td>\n",
       "      <td>0</td>\n",
       "      <td>Jack Schmidt</td>\n",
       "      <td>CEO Bourla ask employee join scrum D.C. drug-p...</td>\n",
       "    </tr>\n",
       "    <tr>\n",
       "      <th>2</th>\n",
       "      <td>2</td>\n",
       "      <td>1441380207655460865</td>\n",
       "      <td>2021-09-24 12:33:15</td>\n",
       "      <td>Twitter for iPhone</td>\n",
       "      <td>0</td>\n",
       "      <td>Fred Zarnowski</td>\n",
       "      <td>@WesElyMD @B52Malmet @CDCgov @CDCDirector I’m ...</td>\n",
       "    </tr>\n",
       "    <tr>\n",
       "      <th>3</th>\n",
       "      <td>3</td>\n",
       "      <td>1441380207517003781</td>\n",
       "      <td>2021-09-24 12:33:15</td>\n",
       "      <td>Twitter Web App</td>\n",
       "      <td>0</td>\n",
       "      <td>TheRealFly</td>\n",
       "      <td>talk over full license COVID-19 Singapore $PFE</td>\n",
       "    </tr>\n",
       "    <tr>\n",
       "      <th>4</th>\n",
       "      <td>4</td>\n",
       "      <td>1441380151955128325</td>\n",
       "      <td>2021-09-24 12:33:02</td>\n",
       "      <td>Twitter Web App</td>\n",
       "      <td>0</td>\n",
       "      <td>UNC OtolaryngologyHead  Neck Surgery</td>\n",
       "      <td>🎉Congrats @ProfBrentSenior, who will receive a...</td>\n",
       "    </tr>\n",
       "    <tr>\n",
       "      <th>5</th>\n",
       "      <td>5</td>\n",
       "      <td>1441380143105142799</td>\n",
       "      <td>2021-09-24 12:33:00</td>\n",
       "      <td>Twitter for iPhone</td>\n",
       "      <td>0</td>\n",
       "      <td>Jason</td>\n",
       "      <td>guess @pfizer 💰 doe talk after all huh @CDCDir...</td>\n",
       "    </tr>\n",
       "    <tr>\n",
       "      <th>6</th>\n",
       "      <td>6</td>\n",
       "      <td>1441380136738189327</td>\n",
       "      <td>2021-09-24 12:32:58</td>\n",
       "      <td>Twitter Web App</td>\n",
       "      <td>0</td>\n",
       "      <td>stevenscraig</td>\n",
       "      <td>@rec777777 @BanterNative @iancrichton4 @MalCha...</td>\n",
       "    </tr>\n",
       "    <tr>\n",
       "      <th>7</th>\n",
       "      <td>7</td>\n",
       "      <td>1441380071294455809</td>\n",
       "      <td>2021-09-24 12:32:43</td>\n",
       "      <td>Twitter for Android</td>\n",
       "      <td>0</td>\n",
       "      <td>faridahmedkhan</td>\n",
       "      <td>@ell_enn Ma'am, hear one can irrespective age/...</td>\n",
       "    </tr>\n",
       "    <tr>\n",
       "      <th>8</th>\n",
       "      <td>8</td>\n",
       "      <td>1441380034741112841</td>\n",
       "      <td>2021-09-24 12:32:34</td>\n",
       "      <td>Twitter for iPhone</td>\n",
       "      <td>0</td>\n",
       "      <td>Stephani Shelton</td>\n",
       "      <td>@debjshaw Anyone compromise immunity any age h...</td>\n",
       "    </tr>\n",
       "    <tr>\n",
       "      <th>9</th>\n",
       "      <td>9</td>\n",
       "      <td>1441380001320951809</td>\n",
       "      <td>2021-09-24 12:32:26</td>\n",
       "      <td>Twitter Web App</td>\n",
       "      <td>0</td>\n",
       "      <td>Infectious Diseases</td>\n",
       "      <td>@Dovey08261451 @V2019N There aren't specifics....</td>\n",
       "    </tr>\n",
       "  </tbody>\n",
       "</table>\n",
       "</div>"
      ],
      "text/plain": [
       "   Unnamed: 0                   Id            Timestamp               Source  \\\n",
       "0           0  1441380234113081350  2021-09-24 12:33:22      Twitter Web App   \n",
       "1           1  1441380226131390472  2021-09-24 12:33:20      Twitter Web App   \n",
       "2           2  1441380207655460865  2021-09-24 12:33:15   Twitter for iPhone   \n",
       "3           3  1441380207517003781  2021-09-24 12:33:15      Twitter Web App   \n",
       "4           4  1441380151955128325  2021-09-24 12:33:02      Twitter Web App   \n",
       "5           5  1441380143105142799  2021-09-24 12:33:00   Twitter for iPhone   \n",
       "6           6  1441380136738189327  2021-09-24 12:32:58      Twitter Web App   \n",
       "7           7  1441380071294455809  2021-09-24 12:32:43  Twitter for Android   \n",
       "8           8  1441380034741112841  2021-09-24 12:32:34   Twitter for iPhone   \n",
       "9           9  1441380001320951809  2021-09-24 12:32:26      Twitter Web App   \n",
       "\n",
       "   Retwwet_Count                             User_Name  \\\n",
       "0              0                         XLOLOLOLOLOLX   \n",
       "1              0                          Jack Schmidt   \n",
       "2              0                        Fred Zarnowski   \n",
       "3              0                            TheRealFly   \n",
       "4              0  UNC OtolaryngologyHead  Neck Surgery   \n",
       "5              0                                 Jason   \n",
       "6              0                          stevenscraig   \n",
       "7              0                        faridahmedkhan   \n",
       "8              0                      Stephani Shelton   \n",
       "9              0                   Infectious Diseases   \n",
       "\n",
       "                                              tweets  \n",
       "0  FDA permit use Pfizer-BioNTech Covid kid age 1...  \n",
       "1  CEO Bourla ask employee join scrum D.C. drug-p...  \n",
       "2  @WesElyMD @B52Malmet @CDCgov @CDCDirector I’m ...  \n",
       "3     talk over full license COVID-19 Singapore $PFE  \n",
       "4  🎉Congrats @ProfBrentSenior, who will receive a...  \n",
       "5  guess @pfizer 💰 doe talk after all huh @CDCDir...  \n",
       "6  @rec777777 @BanterNative @iancrichton4 @MalCha...  \n",
       "7  @ell_enn Ma'am, hear one can irrespective age/...  \n",
       "8  @debjshaw Anyone compromise immunity any age h...  \n",
       "9  @Dovey08261451 @V2019N There aren't specifics....  "
      ]
     },
     "execution_count": 34,
     "metadata": {},
     "output_type": "execute_result"
    }
   ],
   "source": [
    "twitter_data.head(10)"
   ]
  },
  {
   "cell_type": "markdown",
   "metadata": {
    "colab_type": "text",
    "id": "-oOEqTE2s4NQ"
   },
   "source": [
    "Removal of Stopwords"
   ]
  },
  {
   "cell_type": "code",
   "execution_count": 35,
   "metadata": {
    "colab": {
     "base_uri": "https://localhost:8080/",
     "height": 54
    },
    "colab_type": "code",
    "id": "3IPuSexZkI5r",
    "outputId": "db8069d8-0141-48c6-f0fe-4a9549fabbbd"
   },
   "outputs": [
    {
     "data": {
      "text/plain": [
       "\"i, me, my, myself, we, our, ours, ourselves, you, you're, you've, you'll, you'd, your, yours, yourself, yourselves, he, him, his, himself, she, she's, her, hers, herself, it, it's, its, itself, they, them, their, theirs, themselves, what, which, who, whom, this, that, that'll, these, those, am, is, are, was, were, be, been, being, have, has, had, having, do, does, did, doing, a, an, the, and, but, if, or, because, as, until, while, of, at, by, for, with, about, against, between, into, through, during, before, after, above, below, to, from, up, down, in, out, on, off, over, under, again, further, then, once, here, there, when, where, why, how, all, any, both, each, few, more, most, other, some, such, no, nor, not, only, own, same, so, than, too, very, s, t, can, will, just, don, don't, should, should've, now, d, ll, m, o, re, ve, y, ain, aren, aren't, couldn, couldn't, didn, didn't, doesn, doesn't, hadn, hadn't, hasn, hasn't, haven, haven't, isn, isn't, ma, mightn, mightn't, mustn, mustn't, needn, needn't, shan, shan't, shouldn, shouldn't, wasn, wasn't, weren, weren't, won, won't, wouldn, wouldn't\""
      ]
     },
     "execution_count": 35,
     "metadata": {},
     "output_type": "execute_result"
    }
   ],
   "source": [
    "from nltk.corpus import stopwords\n",
    "\", \".join(stopwords.words('english'))"
   ]
  },
  {
   "cell_type": "code",
   "execution_count": 36,
   "metadata": {
    "colab": {},
    "colab_type": "code",
    "id": "AD2sAgGts_fM"
   },
   "outputs": [],
   "source": [
    "STOPWORDS = set(stopwords.words('english'))"
   ]
  },
  {
   "cell_type": "code",
   "execution_count": 37,
   "metadata": {
    "colab": {},
    "colab_type": "code",
    "id": "_SItfEXBtEHH"
   },
   "outputs": [],
   "source": [
    "def remove_stopwords(text):\n",
    "    return \" \".join([word for word in str(text).split() if word not in STOPWORDS])"
   ]
  },
  {
   "cell_type": "code",
   "execution_count": 38,
   "metadata": {
    "colab": {},
    "colab_type": "code",
    "id": "0ZGzy4sIkk6H"
   },
   "outputs": [],
   "source": [
    "twitter_data['tweets'] = twitter_data['tweets'].apply(lambda text: remove_stopwords(text))"
   ]
  },
  {
   "cell_type": "code",
   "execution_count": 39,
   "metadata": {
    "colab": {
     "base_uri": "https://localhost:8080/",
     "height": 204
    },
    "colab_type": "code",
    "id": "1NKwFXowtTFW",
    "outputId": "4c5abecb-8e82-42fe-b343-21452876e517"
   },
   "outputs": [
    {
     "data": {
      "text/plain": [
       "0    FDA permit use Pfizer-BioNTech Covid kid age 1...\n",
       "1    CEO Bourla ask employee join scrum D.C. drug-p...\n",
       "2    @WesElyMD @B52Malmet @CDCgov @CDCDirector I’m ...\n",
       "3            talk full license COVID-19 Singapore $PFE\n",
       "4    🎉Congrats @ProfBrentSenior, receive ACS/Pfizer...\n",
       "5    guess @pfizer 💰 doe talk huh @CDCDirector You’...\n",
       "6    @rec777777 @BanterNative @iancrichton4 @MalCha...\n",
       "7    @ell_enn Ma'am, hear one irrespective age/nece...\n",
       "8    @debjshaw Anyone compromise immunity age ha ab...\n",
       "9    @Dovey08261451 @V2019N There specifics. It's b...\n",
       "Name: tweets, dtype: object"
      ]
     },
     "execution_count": 39,
     "metadata": {},
     "output_type": "execute_result"
    }
   ],
   "source": [
    "twitter_data['tweets'].head(10)"
   ]
  },
  {
   "cell_type": "markdown",
   "metadata": {
    "colab_type": "text",
    "id": "KuoE59q12wMI"
   },
   "source": [
    "Removal of unwanted Emojis"
   ]
  },
  {
   "cell_type": "code",
   "execution_count": 40,
   "metadata": {
    "colab": {},
    "colab_type": "code",
    "id": "IWZjeM1_ivRs"
   },
   "outputs": [],
   "source": [
    "def remove_emoji(string):\n",
    "    emoji_pattern = re.compile(\"[\"\n",
    "                           u\"\\U0001F600-\\U0001F64F\"  \n",
    "                           u\"\\U0001F300-\\U0001F5FF\"  \n",
    "                           u\"\\U0001F680-\\U0001F6FF\" \n",
    "                           u\"\\U0001F1E0-\\U0001F1FF\" \n",
    "                           u\"\\U00002702-\\U000027B0\"\n",
    "                           u\"\\U000024C2-\\U0001F251\"\n",
    "                           \"]+\", flags=re.UNICODE)\n",
    "    return emoji_pattern.sub(r'', string)"
   ]
  },
  {
   "cell_type": "code",
   "execution_count": 41,
   "metadata": {
    "colab": {},
    "colab_type": "code",
    "id": "HfG002nn3WG_"
   },
   "outputs": [],
   "source": [
    "twitter_data['tweets'] = twitter_data['tweets'].apply(lambda text: remove_emoji(text))"
   ]
  },
  {
   "cell_type": "code",
   "execution_count": 42,
   "metadata": {
    "colab": {
     "base_uri": "https://localhost:8080/",
     "height": 119
    },
    "colab_type": "code",
    "id": "kKHpsZO33ZRs",
    "outputId": "80f251ee-a060-4358-8188-5d237af75672"
   },
   "outputs": [
    {
     "data": {
      "text/plain": [
       "0    FDA permit use Pfizer-BioNTech Covid kid age 1...\n",
       "1    CEO Bourla ask employee join scrum D.C. drug-p...\n",
       "2    @WesElyMD @B52Malmet @CDCgov @CDCDirector I’m ...\n",
       "3            talk full license COVID-19 Singapore $PFE\n",
       "4    Congrats @ProfBrentSenior, receive ACS/Pfizer ...\n",
       "Name: tweets, dtype: object"
      ]
     },
     "execution_count": 42,
     "metadata": {},
     "output_type": "execute_result"
    }
   ],
   "source": [
    "twitter_data['tweets'].head(5)"
   ]
  },
  {
   "cell_type": "markdown",
   "metadata": {
    "colab_type": "text",
    "id": "spVB5jOq6H7e"
   },
   "source": [
    "********** Converting Emoticons to Words"
   ]
  },
  {
   "cell_type": "code",
   "execution_count": 43,
   "metadata": {
    "colab": {},
    "colab_type": "code",
    "id": "2U3uAgLp4O3O"
   },
   "outputs": [],
   "source": [
    "import emoji"
   ]
  },
  {
   "cell_type": "markdown",
   "metadata": {
    "colab_type": "text",
    "id": "wTKqkr7W5vay"
   },
   "source": [
    "*** Defining Emoticons"
   ]
  },
  {
   "cell_type": "code",
   "execution_count": 44,
   "metadata": {
    "colab": {},
    "colab_type": "code",
    "id": "ojdV1n8X5upq"
   },
   "outputs": [],
   "source": [
    "EMOTICONS = {\n",
    "    u\":‑\\)\":\"Happy face or smiley\",\n",
    "    u\":\\)\":\"Happy face or smiley\",\n",
    "    u\":-\\]\":\"Happy face or smiley\",\n",
    "    u\":\\]\":\"Happy face or smiley\",\n",
    "    u\":-3\":\"Happy face smiley\",\n",
    "    u\":3\":\"Happy face smiley\",\n",
    "    u\":->\":\"Happy face smiley\",\n",
    "    u\":>\":\"Happy face smiley\",\n",
    "    u\"8-\\)\":\"Happy face smiley\",\n",
    "    u\":o\\)\":\"Happy face smiley\",\n",
    "    u\":-\\}\":\"Happy face smiley\",\n",
    "    u\":\\}\":\"Happy face smiley\",\n",
    "    u\":-\\)\":\"Happy face smiley\",\n",
    "    u\":c\\)\":\"Happy face smiley\",\n",
    "    u\":\\^\\)\":\"Happy face smiley\",\n",
    "    u\"=\\]\":\"Happy face smiley\",\n",
    "    u\"=\\)\":\"Happy face smiley\",\n",
    "    u\":‑D\":\"Laughing, big grin or laugh with glasses\",\n",
    "    u\":D\":\"Laughing, big grin or laugh with glasses\",\n",
    "    u\"8‑D\":\"Laughing, big grin or laugh with glasses\",\n",
    "    u\"8D\":\"Laughing, big grin or laugh with glasses\",\n",
    "    u\"X‑D\":\"Laughing, big grin or laugh with glasses\",\n",
    "    u\"XD\":\"Laughing, big grin or laugh with glasses\",\n",
    "    u\"=D\":\"Laughing, big grin or laugh with glasses\",\n",
    "    u\"=3\":\"Laughing, big grin or laugh with glasses\",\n",
    "    u\"B\\^D\":\"Laughing, big grin or laugh with glasses\",\n",
    "    u\":-\\)\\)\":\"Very happy\",\n",
    "    u\":‑\\(\":\"Frown, sad, andry or pouting\",\n",
    "    u\":-\\(\":\"Frown, sad, andry or pouting\",\n",
    "    u\":\\(\":\"Frown, sad, andry or pouting\",\n",
    "    u\":‑c\":\"Frown, sad, andry or pouting\",\n",
    "    u\":c\":\"Frown, sad, andry or pouting\",\n",
    "    u\":‑<\":\"Frown, sad, andry or pouting\",\n",
    "    u\":<\":\"Frown, sad, andry or pouting\",\n",
    "    u\":‑\\[\":\"Frown, sad, andry or pouting\",\n",
    "    u\":\\[\":\"Frown, sad, andry or pouting\",\n",
    "    u\":-\\|\\|\":\"Frown, sad, andry or pouting\",\n",
    "    u\">:\\[\":\"Frown, sad, andry or pouting\",\n",
    "    u\":\\{\":\"Frown, sad, andry or pouting\",\n",
    "    u\":@\":\"Frown, sad, andry or pouting\",\n",
    "    u\">:\\(\":\"Frown, sad, andry or pouting\",\n",
    "    u\":'‑\\(\":\"Crying\",\n",
    "    u\":'\\(\":\"Crying\",\n",
    "    u\":'‑\\)\":\"Tears of happiness\",\n",
    "    u\":'\\)\":\"Tears of happiness\",\n",
    "    u\"D‑':\":\"Horror\",\n",
    "    u\"D:<\":\"Disgust\",\n",
    "    u\"D:\":\"Sadness\",\n",
    "    u\"D8\":\"Great dismay\",\n",
    "    u\"D;\":\"Great dismay\",\n",
    "    u\"D=\":\"Great dismay\",\n",
    "    u\"DX\":\"Great dismay\",\n",
    "    u\":‑O\":\"Surprise\",\n",
    "    u\":O\":\"Surprise\",\n",
    "    u\":‑o\":\"Surprise\",\n",
    "    u\":o\":\"Surprise\",\n",
    "    u\":-0\":\"Shock\",\n",
    "    u\"8‑0\":\"Yawn\",\n",
    "    u\">:O\":\"Yawn\",\n",
    "    u\":-\\*\":\"Kiss\",\n",
    "    u\":\\*\":\"Kiss\",\n",
    "    u\":X\":\"Kiss\",\n",
    "    u\";‑\\)\":\"Wink or smirk\",\n",
    "    u\";\\)\":\"Wink or smirk\",\n",
    "    u\"\\*-\\)\":\"Wink or smirk\",\n",
    "    u\"\\*\\)\":\"Wink or smirk\",\n",
    "    u\";‑\\]\":\"Wink or smirk\",\n",
    "    u\";\\]\":\"Wink or smirk\",\n",
    "    u\";\\^\\)\":\"Wink or smirk\",\n",
    "    u\":‑,\":\"Wink or smirk\",\n",
    "    u\";D\":\"Wink or smirk\",\n",
    "    u\":‑P\":\"Tongue sticking out, cheeky, playful or blowing a raspberry\",\n",
    "    u\":P\":\"Tongue sticking out, cheeky, playful or blowing a raspberry\",\n",
    "    u\"X‑P\":\"Tongue sticking out, cheeky, playful or blowing a raspberry\",\n",
    "    u\"XP\":\"Tongue sticking out, cheeky, playful or blowing a raspberry\",\n",
    "    u\":‑Þ\":\"Tongue sticking out, cheeky, playful or blowing a raspberry\",\n",
    "    u\":Þ\":\"Tongue sticking out, cheeky, playful or blowing a raspberry\",\n",
    "    u\":b\":\"Tongue sticking out, cheeky, playful or blowing a raspberry\",\n",
    "    u\"d:\":\"Tongue sticking out, cheeky, playful or blowing a raspberry\",\n",
    "    u\"=p\":\"Tongue sticking out, cheeky, playful or blowing a raspberry\",\n",
    "    u\">:P\":\"Tongue sticking out, cheeky, playful or blowing a raspberry\",\n",
    "    u\":‑/\":\"Skeptical, annoyed, undecided, uneasy or hesitant\",\n",
    "    u\":/\":\"Skeptical, annoyed, undecided, uneasy or hesitant\",\n",
    "    u\":-[.]\":\"Skeptical, annoyed, undecided, uneasy or hesitant\",\n",
    "    u\">:[(\\\\\\)]\":\"Skeptical, annoyed, undecided, uneasy or hesitant\",\n",
    "    u\">:/\":\"Skeptical, annoyed, undecided, uneasy or hesitant\",\n",
    "    u\":[(\\\\\\)]\":\"Skeptical, annoyed, undecided, uneasy or hesitant\",\n",
    "    u\"=/\":\"Skeptical, annoyed, undecided, uneasy or hesitant\",\n",
    "    u\"=[(\\\\\\)]\":\"Skeptical, annoyed, undecided, uneasy or hesitant\",\n",
    "    u\":L\":\"Skeptical, annoyed, undecided, uneasy or hesitant\",\n",
    "    u\"=L\":\"Skeptical, annoyed, undecided, uneasy or hesitant\",\n",
    "    u\":S\":\"Skeptical, annoyed, undecided, uneasy or hesitant\",\n",
    "    u\":‑\\|\":\"Straight face\",\n",
    "    u\":\\|\":\"Straight face\",\n",
    "    u\":$\":\"Embarrassed or blushing\",\n",
    "    u\":‑x\":\"Sealed lips or wearing braces or tongue-tied\",\n",
    "    u\":x\":\"Sealed lips or wearing braces or tongue-tied\",\n",
    "    u\":‑#\":\"Sealed lips or wearing braces or tongue-tied\",\n",
    "    u\":#\":\"Sealed lips or wearing braces or tongue-tied\",\n",
    "    u\":‑&\":\"Sealed lips or wearing braces or tongue-tied\",\n",
    "    u\":&\":\"Sealed lips or wearing braces or tongue-tied\",\n",
    "    u\"O:‑\\)\":\"Angel, saint or innocent\",\n",
    "    u\"O:\\)\":\"Angel, saint or innocent\",\n",
    "    u\"0:‑3\":\"Angel, saint or innocent\",\n",
    "    u\"0:3\":\"Angel, saint or innocent\",\n",
    "    u\"0:‑\\)\":\"Angel, saint or innocent\",\n",
    "    u\"0:\\)\":\"Angel, saint or innocent\",\n",
    "    u\":‑b\":\"Tongue sticking out, cheeky, playful or blowing a raspberry\",\n",
    "    u\"0;\\^\\)\":\"Angel, saint or innocent\",\n",
    "    u\">:‑\\)\":\"Evil or devilish\",\n",
    "    u\">:\\)\":\"Evil or devilish\",\n",
    "    u\"\\}:‑\\)\":\"Evil or devilish\",\n",
    "    u\"\\}:\\)\":\"Evil or devilish\",\n",
    "    u\"3:‑\\)\":\"Evil or devilish\",\n",
    "    u\"3:\\)\":\"Evil or devilish\",\n",
    "    u\">;\\)\":\"Evil or devilish\",\n",
    "    u\"\\|;‑\\)\":\"Cool\",\n",
    "    u\"\\|‑O\":\"Bored\",\n",
    "    u\":‑J\":\"Tongue-in-cheek\",\n",
    "    u\"#‑\\)\":\"Party all night\",\n",
    "    u\"%‑\\)\":\"Drunk or confused\",\n",
    "    u\"%\\)\":\"Drunk or confused\",\n",
    "    u\":-###..\":\"Being sick\",\n",
    "    u\":###..\":\"Being sick\",\n",
    "    u\"<:‑\\|\":\"Dump\",\n",
    "    u\"\\(>_<\\)\":\"Troubled\",\n",
    "    u\"\\(>_<\\)>\":\"Troubled\",\n",
    "    u\"\\(';'\\)\":\"Baby\",\n",
    "    u\"\\(\\^\\^>``\":\"Nervous or Embarrassed or Troubled or Shy or Sweat drop\",\n",
    "    u\"\\(\\^_\\^;\\)\":\"Nervous or Embarrassed or Troubled or Shy or Sweat drop\",\n",
    "    u\"\\(-_-;\\)\":\"Nervous or Embarrassed or Troubled or Shy or Sweat drop\",\n",
    "    u\"\\(~_~;\\) \\(・\\.・;\\)\":\"Nervous or Embarrassed or Troubled or Shy or Sweat drop\",\n",
    "    u\"\\(-_-\\)zzz\":\"Sleeping\",\n",
    "    u\"\\(\\^_-\\)\":\"Wink\",\n",
    "    u\"\\(\\(\\+_\\+\\)\\)\":\"Confused\",\n",
    "    u\"\\(\\+o\\+\\)\":\"Confused\",\n",
    "    u\"\\(o\\|o\\)\":\"Ultraman\",\n",
    "    u\"\\^_\\^\":\"Joyful\",\n",
    "    u\"\\(\\^_\\^\\)/\":\"Joyful\",\n",
    "    u\"\\(\\^O\\^\\)／\":\"Joyful\",\n",
    "    u\"\\(\\^o\\^\\)／\":\"Joyful\",\n",
    "    u\"\\(__\\)\":\"Kowtow as a sign of respect, or dogeza for apology\",\n",
    "    u\"_\\(\\._\\.\\)_\":\"Kowtow as a sign of respect, or dogeza for apology\",\n",
    "    u\"<\\(_ _\\)>\":\"Kowtow as a sign of respect, or dogeza for apology\",\n",
    "    u\"<m\\(__\\)m>\":\"Kowtow as a sign of respect, or dogeza for apology\",\n",
    "    u\"m\\(__\\)m\":\"Kowtow as a sign of respect, or dogeza for apology\",\n",
    "    u\"m\\(_ _\\)m\":\"Kowtow as a sign of respect, or dogeza for apology\",\n",
    "    u\"\\('_'\\)\":\"Sad or Crying\",\n",
    "    u\"\\(/_;\\)\":\"Sad or Crying\",\n",
    "    u\"\\(T_T\\) \\(;_;\\)\":\"Sad or Crying\",\n",
    "    u\"\\(;_;\":\"Sad of Crying\",\n",
    "    u\"\\(;_:\\)\":\"Sad or Crying\",\n",
    "    u\"\\(;O;\\)\":\"Sad or Crying\",\n",
    "    u\"\\(:_;\\)\":\"Sad or Crying\",\n",
    "    u\"\\(ToT\\)\":\"Sad or Crying\",\n",
    "    u\";_;\":\"Sad or Crying\",\n",
    "    u\";-;\":\"Sad or Crying\",\n",
    "    u\";n;\":\"Sad or Crying\",\n",
    "    u\";;\":\"Sad or Crying\",\n",
    "    u\"Q\\.Q\":\"Sad or Crying\",\n",
    "    u\"T\\.T\":\"Sad or Crying\",\n",
    "    u\"QQ\":\"Sad or Crying\",\n",
    "    u\"Q_Q\":\"Sad or Crying\",\n",
    "    u\"\\(-\\.-\\)\":\"Shame\",\n",
    "    u\"\\(-_-\\)\":\"Shame\",\n",
    "    u\"\\(一一\\)\":\"Shame\",\n",
    "    u\"\\(；一_一\\)\":\"Shame\",\n",
    "    u\"\\(=_=\\)\":\"Tired\",\n",
    "    u\"\\(=\\^\\·\\^=\\)\":\"cat\",\n",
    "    u\"\\(=\\^\\·\\·\\^=\\)\":\"cat\",\n",
    "    u\"=_\\^=\t\":\"cat\",\n",
    "    u\"\\(\\.\\.\\)\":\"Looking down\",\n",
    "    u\"\\(\\._\\.\\)\":\"Looking down\",\n",
    "    u\"\\^m\\^\":\"Giggling with hand covering mouth\",\n",
    "    u\"\\(\\・\\・?\":\"Confusion\",\n",
    "    u\"\\(?_?\\)\":\"Confusion\",\n",
    "    u\">\\^_\\^<\":\"Normal Laugh\",\n",
    "    u\"<\\^!\\^>\":\"Normal Laugh\",\n",
    "    u\"\\^/\\^\":\"Normal Laugh\",\n",
    "    u\"\\（\\*\\^_\\^\\*）\" :\"Normal Laugh\",\n",
    "    u\"\\(\\^<\\^\\) \\(\\^\\.\\^\\)\":\"Normal Laugh\",\n",
    "    u\"\\(^\\^\\)\":\"Normal Laugh\",\n",
    "    u\"\\(\\^\\.\\^\\)\":\"Normal Laugh\",\n",
    "    u\"\\(\\^_\\^\\.\\)\":\"Normal Laugh\",\n",
    "    u\"\\(\\^_\\^\\)\":\"Normal Laugh\",\n",
    "    u\"\\(\\^\\^\\)\":\"Normal Laugh\",\n",
    "    u\"\\(\\^J\\^\\)\":\"Normal Laugh\",\n",
    "    u\"\\(\\*\\^\\.\\^\\*\\)\":\"Normal Laugh\",\n",
    "    u\"\\(\\^—\\^\\）\":\"Normal Laugh\",\n",
    "    u\"\\(#\\^\\.\\^#\\)\":\"Normal Laugh\",\n",
    "    u\"\\（\\^—\\^\\）\":\"Waving\",\n",
    "    u\"\\(;_;\\)/~~~\":\"Waving\",\n",
    "    u\"\\(\\^\\.\\^\\)/~~~\":\"Waving\",\n",
    "    u\"\\(-_-\\)/~~~ \\($\\·\\·\\)/~~~\":\"Waving\",\n",
    "    u\"\\(T_T\\)/~~~\":\"Waving\",\n",
    "    u\"\\(ToT\\)/~~~\":\"Waving\",\n",
    "    u\"\\(\\*\\^0\\^\\*\\)\":\"Excited\",\n",
    "    u\"\\(\\*_\\*\\)\":\"Amazed\",\n",
    "    u\"\\(\\*_\\*;\":\"Amazed\",\n",
    "    u\"\\(\\+_\\+\\) \\(@_@\\)\":\"Amazed\",\n",
    "    u\"\\(\\*\\^\\^\\)v\":\"Laughing,Cheerful\",\n",
    "    u\"\\(\\^_\\^\\)v\":\"Laughing,Cheerful\",\n",
    "    u\"\\(\\(d[-_-]b\\)\\)\":\"Headphones,Listening to music\",\n",
    "    u'\\(-\"-\\)':\"Worried\",\n",
    "    u\"\\(ーー;\\)\":\"Worried\",\n",
    "    u\"\\(\\^0_0\\^\\)\":\"Eyeglasses\",\n",
    "    u\"\\(\\＾ｖ\\＾\\)\":\"Happy\",\n",
    "    u\"\\(\\＾ｕ\\＾\\)\":\"Happy\",\n",
    "    u\"\\(\\^\\)o\\(\\^\\)\":\"Happy\",\n",
    "    u\"\\(\\^O\\^\\)\":\"Happy\",\n",
    "    u\"\\(\\^o\\^\\)\":\"Happy\",\n",
    "    u\"\\)\\^o\\^\\(\":\"Happy\",\n",
    "    u\":O o_O\":\"Surprised\",\n",
    "    u\"o_0\":\"Surprised\",\n",
    "    u\"o\\.O\":\"Surpised\",\n",
    "    u\"\\(o\\.o\\)\":\"Surprised\",\n",
    "    u\"oO\":\"Surprised\",\n",
    "    u\"\\(\\*￣m￣\\)\":\"Dissatisfied\",\n",
    "    u\"\\(‘A`\\)\":\"Snubbed or Deflated\"\n",
    "}"
   ]
  },
  {
   "cell_type": "code",
   "execution_count": 45,
   "metadata": {
    "colab": {},
    "colab_type": "code",
    "id": "4bxCxRf26AeW"
   },
   "outputs": [],
   "source": [
    "def convert_emoticons(text):\n",
    "    for emot in EMOTICONS:\n",
    "        text = re.sub(u'('+emot+')', \"_\".join(EMOTICONS[emot].replace(\",\",\"\").split()), text)\n",
    "    return text"
   ]
  },
  {
   "cell_type": "code",
   "execution_count": 46,
   "metadata": {
    "colab": {},
    "colab_type": "code",
    "id": "sssDKayq6L8X"
   },
   "outputs": [],
   "source": [
    "twitter_data['tweets'] = twitter_data['tweets'].apply(lambda text: convert_emoticons(text))"
   ]
  },
  {
   "cell_type": "code",
   "execution_count": 47,
   "metadata": {
    "colab": {
     "base_uri": "https://localhost:8080/",
     "height": 119
    },
    "colab_type": "code",
    "id": "uUVOafjJiLZP",
    "outputId": "6c3d02b6-69cb-4724-fb1a-4c7e390d03ed"
   },
   "outputs": [
    {
     "data": {
      "text/plain": [
       "0    FDA permit use Pfizer-BioNTech Covid kid age 1...\n",
       "1    CEO Bourla ask employee join scrum D.C. drug-p...\n",
       "2    @WesElyMD @B52Malmet @CDCgov @CDCDirector I’m ...\n",
       "3            talk full license COVID-19 Singapore $PFE\n",
       "4    Congrats @ProfBrentSenior, receive ACS/Pfizer ...\n",
       "Name: tweets, dtype: object"
      ]
     },
     "execution_count": 47,
     "metadata": {},
     "output_type": "execute_result"
    }
   ],
   "source": [
    "twitter_data['tweets'].head(5)"
   ]
  },
  {
   "cell_type": "markdown",
   "metadata": {
    "colab_type": "text",
    "id": "3xMEC2pgCuGe"
   },
   "source": [
    "Converting Chat Words"
   ]
  },
  {
   "cell_type": "markdown",
   "metadata": {
    "colab_type": "text",
    "id": "U-dJ77jxC1Mr"
   },
   "source": [
    "**** Defining the Dictionary"
   ]
  },
  {
   "cell_type": "code",
   "execution_count": 48,
   "metadata": {
    "colab": {},
    "colab_type": "code",
    "id": "Ytby70V_-SfU"
   },
   "outputs": [],
   "source": [
    "chat_words_str = \"\"\"\n",
    "AFAIK=As Far As I Know\n",
    "AFK=Away From Keyboard\n",
    "ASAP=As Soon As Possible\n",
    "ATK=At The Keyboard\n",
    "ATM=At The Moment\n",
    "A3=Anytime, Anywhere, Anyplace\n",
    "BAK=Back At Keyboard\n",
    "BBL=Be Back Later\n",
    "BBS=Be Back Soon\n",
    "BFN=Bye For Now\n",
    "B4N=Bye For Now\n",
    "BRB=Be Right Back\n",
    "BRT=Be Right There\n",
    "BTW=By The Way\n",
    "B4=Before\n",
    "B4N=Bye For Now\n",
    "CU=See You\n",
    "CUL8R=See You Later\n",
    "CYA=See You\n",
    "FAQ=Frequently Asked Questions\n",
    "FC=Fingers Crossed\n",
    "FWIW=For What It's Worth\n",
    "FYI=For Your Information\n",
    "GAL=Get A Life\n",
    "GG=Good Game\n",
    "GN=Good Night\n",
    "GMTA=Great Minds Think Alike\n",
    "GR8=Great!\n",
    "G9=Genius\n",
    "IC=I See\n",
    "ICQ=I Seek you (also a chat program)\n",
    "ILU=ILU: I Love You\n",
    "IMHO=In My Honest/Humble Opinion\n",
    "IMO=In My Opinion\n",
    "IOW=In Other Words\n",
    "IRL=In Real Life\n",
    "KISS=Keep It Simple, Stupid\n",
    "LDR=Long Distance Relationship\n",
    "LMAO=Laugh My A.. Off\n",
    "LOL=Laughing Out Loud\n",
    "LTNS=Long Time No See\n",
    "L8R=Later\n",
    "MTE=My Thoughts Exactly\n",
    "M8=Mate\n",
    "NRN=No Reply Necessary\n",
    "OIC=Oh I See\n",
    "PITA=Pain In The A..\n",
    "PRT=Party\n",
    "PRW=Parents Are Watching\n",
    "ROFL=Rolling On The Floor Laughing\n",
    "ROFLOL=Rolling On The Floor Laughing Out Loud\n",
    "ROTFLMAO=Rolling On The Floor Laughing My A.. Off\n",
    "SK8=Skate\n",
    "STATS=Your sex and age\n",
    "ASL=Age, Sex, Location\n",
    "THX=Thank You\n",
    "TTFN=Ta-Ta For Now!\n",
    "TTYL=Talk To You Later\n",
    "U=You\n",
    "U2=You Too\n",
    "U4E=Yours For Ever\n",
    "WB=Welcome Back\n",
    "WTF=What The F...\n",
    "WTG=Way To Go!\n",
    "WUF=Where Are You From?\n",
    "W8=Wait...\n",
    "7K=Sick:-D Laugher\n",
    "\"\"\""
   ]
  },
  {
   "cell_type": "code",
   "execution_count": 49,
   "metadata": {
    "colab": {},
    "colab_type": "code",
    "id": "7GBMcM6_Ctg0"
   },
   "outputs": [],
   "source": [
    "chat_words_map_dict = {}\n",
    "chat_words_list = []"
   ]
  },
  {
   "cell_type": "code",
   "execution_count": 50,
   "metadata": {
    "colab": {},
    "colab_type": "code",
    "id": "cIONMkHTDFjJ"
   },
   "outputs": [],
   "source": [
    "for line in chat_words_str.split(\"\\n\"):\n",
    "    if line != \"\":\n",
    "        cw = line.split(\"=\")[0]\n",
    "        cw_expanded = line.split(\"=\")[1]\n",
    "        chat_words_list.append(cw)\n",
    "        chat_words_map_dict[cw] = cw_expanded\n",
    "chat_words_list = set(chat_words_list)"
   ]
  },
  {
   "cell_type": "code",
   "execution_count": 51,
   "metadata": {
    "colab": {},
    "colab_type": "code",
    "id": "AoqCGk3zDJfa"
   },
   "outputs": [],
   "source": [
    "def chat_words_conversion(text):\n",
    "    new_text = []\n",
    "    for w in text.split():\n",
    "        if w.upper() in chat_words_list:\n",
    "            new_text.append(chat_words_map_dict[w.upper()])\n",
    "        else:\n",
    "            new_text.append(w)\n",
    "    return \" \".join(new_text)"
   ]
  },
  {
   "cell_type": "code",
   "execution_count": 52,
   "metadata": {
    "colab": {},
    "colab_type": "code",
    "id": "K6rKHkOEDakx"
   },
   "outputs": [],
   "source": [
    "twitter_data['tweets'] = twitter_data['tweets'].apply(lambda text: chat_words_conversion(text))"
   ]
  },
  {
   "cell_type": "code",
   "execution_count": 53,
   "metadata": {
    "colab": {
     "base_uri": "https://localhost:8080/",
     "height": 204
    },
    "colab_type": "code",
    "id": "XICVlv0b-FHq",
    "outputId": "ba8fc7a6-f174-4df4-dce4-3959be8f2c04"
   },
   "outputs": [
    {
     "data": {
      "text/plain": [
       "0    FDA permit use Pfizer-BioNTech Covid kid age 1...\n",
       "1    CEO Bourla ask employee join scrum D.C. drug-p...\n",
       "2    @WesElyMD @B52Malmet @CDCgov @CDCDirector I’m ...\n",
       "3            talk full license COVID-19 Singapore $PFE\n",
       "4    Congrats @ProfBrentSenior, receive ACS/Pfizer ...\n",
       "5    guess @pfizer doe talk huh @CDCDirector You’re...\n",
       "6    @rec777777 @BanterNative @iancrichton4 @MalCha...\n",
       "7    @ell_enn Ma'am, hear one irrespective age/nece...\n",
       "8    @debjshaw Anyone compromise immunity age ha ab...\n",
       "9    @Dovey08261451 @V2019N There specifics. It's b...\n",
       "Name: tweets, dtype: object"
      ]
     },
     "execution_count": 53,
     "metadata": {},
     "output_type": "execute_result"
    }
   ],
   "source": [
    "twitter_data['tweets'].head(10)"
   ]
  },
  {
   "cell_type": "markdown",
   "metadata": {
    "colab_type": "text",
    "id": "tLNtiEqSHS7K"
   },
   "source": [
    "Some more Cleansing using RE Library"
   ]
  },
  {
   "cell_type": "code",
   "execution_count": 54,
   "metadata": {
    "colab": {},
    "colab_type": "code",
    "id": "BCTvkqKiHJzy"
   },
   "outputs": [],
   "source": [
    "def clean_text(text):\n",
    "    text = re.sub(r'[^a-zA-Z\\']', ' ', text)\n",
    "    text = re.sub(r'[^\\x00-\\x7F]+', ' ', text)\n",
    "    text = text.lower()       \n",
    "    return text"
   ]
  },
  {
   "cell_type": "code",
   "execution_count": 55,
   "metadata": {
    "colab": {},
    "colab_type": "code",
    "id": "WVGaFwOdHaqu"
   },
   "outputs": [],
   "source": [
    "twitter_data['tweets'] = twitter_data['tweets'].apply(lambda text: clean_text(text))"
   ]
  },
  {
   "cell_type": "code",
   "execution_count": 56,
   "metadata": {
    "colab": {
     "base_uri": "https://localhost:8080/",
     "height": 204
    },
    "colab_type": "code",
    "id": "Qw2ufygQHolY",
    "outputId": "c3e55ece-6920-4a24-d515-5a7d72b9f30a"
   },
   "outputs": [
    {
     "data": {
      "text/plain": [
       "0    fda permit use pfizer biontech covid kid age  ...\n",
       "1    ceo bourla ask employee join scrum d c  drug p...\n",
       "2     weselymd  b  malmet  cdcgov  cdcdirector i m ...\n",
       "3            talk full license covid    singapore  pfe\n",
       "4    congrats  profbrentsenior  receive acs pfizer ...\n",
       "5    guess  pfizer doe talk huh  cdcdirector you re...\n",
       "6     rec        banternative  iancrichton   malcha...\n",
       "7     ell enn ma'am  hear one irrespective age nece...\n",
       "8     debjshaw anyone compromise immunity age ha ab...\n",
       "9     dovey          v    n there specifics  it's b...\n",
       "Name: tweets, dtype: object"
      ]
     },
     "execution_count": 56,
     "metadata": {},
     "output_type": "execute_result"
    }
   ],
   "source": [
    "twitter_data['tweets'].head(10)"
   ]
  },
  {
   "cell_type": "code",
   "execution_count": 57,
   "metadata": {
    "colab": {},
    "colab_type": "code",
    "id": "iphrT0DgFoma"
   },
   "outputs": [],
   "source": [
    "num_words = twitter_data['tweets'].apply(lambda x: len(x.split()))\n",
    "num_words_mean, num_words_std = np.mean(num_words), np.std(num_words)\n",
    "\n",
    "num_sentences = twitter_data['tweets'].apply(lambda x: len(re.split( '~ ...' ,'~'.join(x.split('.')))))\n",
    "num_sentences_mean = np.mean(num_sentences)"
   ]
  },
  {
   "cell_type": "markdown",
   "metadata": {
    "colab_type": "text",
    "id": "_ibLx34moTWx"
   },
   "source": [
    "Remove extra spaces and Words less than 3 letters"
   ]
  },
  {
   "cell_type": "code",
   "execution_count": 58,
   "metadata": {
    "colab": {},
    "colab_type": "code",
    "id": "8IeJwB1ants9"
   },
   "outputs": [],
   "source": [
    "twitter_data['tweets'] = twitter_data['tweets'].str.replace(r'[ ]{2, }',r' ')\n",
    "twitter_data['tweets'] = twitter_data['tweets'].str.replace(r'\\b\\w{1,3}\\b', r'')"
   ]
  },
  {
   "cell_type": "code",
   "execution_count": 59,
   "metadata": {
    "colab": {
     "base_uri": "https://localhost:8080/",
     "height": 359
    },
    "colab_type": "code",
    "id": "olxxqWePIPD0",
    "outputId": "4420f2a1-8765-49a8-af1e-f82a72a9f98b"
   },
   "outputs": [
    {
     "data": {
      "text/html": [
       "<div>\n",
       "<style scoped>\n",
       "    .dataframe tbody tr th:only-of-type {\n",
       "        vertical-align: middle;\n",
       "    }\n",
       "\n",
       "    .dataframe tbody tr th {\n",
       "        vertical-align: top;\n",
       "    }\n",
       "\n",
       "    .dataframe thead th {\n",
       "        text-align: right;\n",
       "    }\n",
       "</style>\n",
       "<table border=\"1\" class=\"dataframe\">\n",
       "  <thead>\n",
       "    <tr style=\"text-align: right;\">\n",
       "      <th></th>\n",
       "      <th>Unnamed: 0</th>\n",
       "      <th>Id</th>\n",
       "      <th>Timestamp</th>\n",
       "      <th>Source</th>\n",
       "      <th>Retwwet_Count</th>\n",
       "      <th>User_Name</th>\n",
       "      <th>tweets</th>\n",
       "    </tr>\n",
       "  </thead>\n",
       "  <tbody>\n",
       "    <tr>\n",
       "      <th>0</th>\n",
       "      <td>0</td>\n",
       "      <td>1441380234113081350</td>\n",
       "      <td>2021-09-24 12:33:22</td>\n",
       "      <td>Twitter Web App</td>\n",
       "      <td>0</td>\n",
       "      <td>XLOLOLOLOLOLX</td>\n",
       "      <td>permit  pfizer biontech covid         httpssk...</td>\n",
       "    </tr>\n",
       "    <tr>\n",
       "      <th>1</th>\n",
       "      <td>1</td>\n",
       "      <td>1441380226131390472</td>\n",
       "      <td>2021-09-24 12:33:20</td>\n",
       "      <td>Twitter Web App</td>\n",
       "      <td>0</td>\n",
       "      <td>Jack Schmidt</td>\n",
       "      <td>bourla  employee join scrum    drug pricing f...</td>\n",
       "    </tr>\n",
       "    <tr>\n",
       "      <th>2</th>\n",
       "      <td>2</td>\n",
       "      <td>1441380207655460865</td>\n",
       "      <td>2021-09-24 12:33:15</td>\n",
       "      <td>Twitter for iPhone</td>\n",
       "      <td>0</td>\n",
       "      <td>Fred Zarnowski</td>\n",
       "      <td>weselymd    malmet  cdcgov  cdcdirector   per...</td>\n",
       "    </tr>\n",
       "    <tr>\n",
       "      <th>3</th>\n",
       "      <td>3</td>\n",
       "      <td>1441380207517003781</td>\n",
       "      <td>2021-09-24 12:33:15</td>\n",
       "      <td>Twitter Web App</td>\n",
       "      <td>0</td>\n",
       "      <td>TheRealFly</td>\n",
       "      <td>talk full license covid    singapore</td>\n",
       "    </tr>\n",
       "    <tr>\n",
       "      <th>4</th>\n",
       "      <td>4</td>\n",
       "      <td>1441380151955128325</td>\n",
       "      <td>2021-09-24 12:33:02</td>\n",
       "      <td>Twitter Web App</td>\n",
       "      <td>0</td>\n",
       "      <td>UNC OtolaryngologyHead  Neck Surgery</td>\n",
       "      <td>congrats  profbrentsenior  receive  pfizer int...</td>\n",
       "    </tr>\n",
       "    <tr>\n",
       "      <th>5</th>\n",
       "      <td>5</td>\n",
       "      <td>1441380143105142799</td>\n",
       "      <td>2021-09-24 12:33:00</td>\n",
       "      <td>Twitter for iPhone</td>\n",
       "      <td>0</td>\n",
       "      <td>Jason</td>\n",
       "      <td>guess  pfizer  talk   cdcdirector    vaccine  ...</td>\n",
       "    </tr>\n",
       "    <tr>\n",
       "      <th>6</th>\n",
       "      <td>6</td>\n",
       "      <td>1441380136738189327</td>\n",
       "      <td>2021-09-24 12:32:58</td>\n",
       "      <td>Twitter Web App</td>\n",
       "      <td>0</td>\n",
       "      <td>stevenscraig</td>\n",
       "      <td>banternative  iancrichton   malchandl...</td>\n",
       "    </tr>\n",
       "    <tr>\n",
       "      <th>7</th>\n",
       "      <td>7</td>\n",
       "      <td>1441380071294455809</td>\n",
       "      <td>2021-09-24 12:32:43</td>\n",
       "      <td>Twitter for Android</td>\n",
       "      <td>0</td>\n",
       "      <td>faridahmedkhan</td>\n",
       "      <td>'  hear  irrespective  necessity  fees   ne...</td>\n",
       "    </tr>\n",
       "    <tr>\n",
       "      <th>8</th>\n",
       "      <td>8</td>\n",
       "      <td>1441380034741112841</td>\n",
       "      <td>2021-09-24 12:32:34</td>\n",
       "      <td>Twitter for iPhone</td>\n",
       "      <td>0</td>\n",
       "      <td>Stephani Shelton</td>\n",
       "      <td>debjshaw anyone compromise immunity   able   ...</td>\n",
       "    </tr>\n",
       "    <tr>\n",
       "      <th>9</th>\n",
       "      <td>9</td>\n",
       "      <td>1441380001320951809</td>\n",
       "      <td>2021-09-24 12:32:26</td>\n",
       "      <td>Twitter Web App</td>\n",
       "      <td>0</td>\n",
       "      <td>Infectious Diseases</td>\n",
       "      <td>dovey               there specifics  ' broad ...</td>\n",
       "    </tr>\n",
       "  </tbody>\n",
       "</table>\n",
       "</div>"
      ],
      "text/plain": [
       "   Unnamed: 0                   Id            Timestamp               Source  \\\n",
       "0           0  1441380234113081350  2021-09-24 12:33:22      Twitter Web App   \n",
       "1           1  1441380226131390472  2021-09-24 12:33:20      Twitter Web App   \n",
       "2           2  1441380207655460865  2021-09-24 12:33:15   Twitter for iPhone   \n",
       "3           3  1441380207517003781  2021-09-24 12:33:15      Twitter Web App   \n",
       "4           4  1441380151955128325  2021-09-24 12:33:02      Twitter Web App   \n",
       "5           5  1441380143105142799  2021-09-24 12:33:00   Twitter for iPhone   \n",
       "6           6  1441380136738189327  2021-09-24 12:32:58      Twitter Web App   \n",
       "7           7  1441380071294455809  2021-09-24 12:32:43  Twitter for Android   \n",
       "8           8  1441380034741112841  2021-09-24 12:32:34   Twitter for iPhone   \n",
       "9           9  1441380001320951809  2021-09-24 12:32:26      Twitter Web App   \n",
       "\n",
       "   Retwwet_Count                             User_Name  \\\n",
       "0              0                         XLOLOLOLOLOLX   \n",
       "1              0                          Jack Schmidt   \n",
       "2              0                        Fred Zarnowski   \n",
       "3              0                            TheRealFly   \n",
       "4              0  UNC OtolaryngologyHead  Neck Surgery   \n",
       "5              0                                 Jason   \n",
       "6              0                          stevenscraig   \n",
       "7              0                        faridahmedkhan   \n",
       "8              0                      Stephani Shelton   \n",
       "9              0                   Infectious Diseases   \n",
       "\n",
       "                                              tweets  \n",
       "0   permit  pfizer biontech covid         httpssk...  \n",
       "1   bourla  employee join scrum    drug pricing f...  \n",
       "2   weselymd    malmet  cdcgov  cdcdirector   per...  \n",
       "3             talk full license covid    singapore    \n",
       "4  congrats  profbrentsenior  receive  pfizer int...  \n",
       "5  guess  pfizer  talk   cdcdirector    vaccine  ...  \n",
       "6           banternative  iancrichton   malchandl...  \n",
       "7     '  hear  irrespective  necessity  fees   ne...  \n",
       "8   debjshaw anyone compromise immunity   able   ...  \n",
       "9   dovey               there specifics  ' broad ...  "
      ]
     },
     "execution_count": 59,
     "metadata": {},
     "output_type": "execute_result"
    }
   ],
   "source": [
    "twitter_data.head(10)"
   ]
  },
  {
   "cell_type": "code",
   "execution_count": 60,
   "metadata": {
    "colab": {
     "base_uri": "https://localhost:8080/",
     "height": 34
    },
    "colab_type": "code",
    "id": "3HNcgkqD_hei",
    "outputId": "5fb472a9-7142-478d-9aee-74591c44a316"
   },
   "outputs": [
    {
     "name": "stdout",
     "output_type": "stream",
     "text": [
      "(1217, 8)\n"
     ]
    }
   ],
   "source": [
    "twitter_data['text_length'] = [len(text.split(' ')) for text in twitter_data.tweets]\n",
    "print(twitter_data.shape)"
   ]
  },
  {
   "cell_type": "markdown",
   "metadata": {
    "colab_type": "text",
    "id": "KTcf1h4f7RgM"
   },
   "source": [
    "Dropping texts with length <3 and drop duplicates"
   ]
  },
  {
   "cell_type": "code",
   "execution_count": 61,
   "metadata": {
    "colab": {
     "base_uri": "https://localhost:8080/",
     "height": 34
    },
    "colab_type": "code",
    "id": "HWtfB_FR_jp-",
    "outputId": "7724801a-e8ae-4905-ebf0-db80e723ffc5"
   },
   "outputs": [
    {
     "name": "stdout",
     "output_type": "stream",
     "text": [
      "(1212, 8)\n"
     ]
    }
   ],
   "source": [
    "twitter_data = twitter_data[twitter_data['text_length']>2]\n",
    "twitter_data = twitter_data.drop_duplicates(subset=['tweets'])\n",
    "\n",
    "print(twitter_data.shape)"
   ]
  },
  {
   "cell_type": "code",
   "execution_count": 62,
   "metadata": {
    "colab": {
     "base_uri": "https://localhost:8080/",
     "height": 359
    },
    "colab_type": "code",
    "id": "lqj4LmaYELUR",
    "outputId": "9b4a75ed-a710-4b06-d2e5-9fd25b398cb6"
   },
   "outputs": [
    {
     "data": {
      "text/html": [
       "<div>\n",
       "<style scoped>\n",
       "    .dataframe tbody tr th:only-of-type {\n",
       "        vertical-align: middle;\n",
       "    }\n",
       "\n",
       "    .dataframe tbody tr th {\n",
       "        vertical-align: top;\n",
       "    }\n",
       "\n",
       "    .dataframe thead th {\n",
       "        text-align: right;\n",
       "    }\n",
       "</style>\n",
       "<table border=\"1\" class=\"dataframe\">\n",
       "  <thead>\n",
       "    <tr style=\"text-align: right;\">\n",
       "      <th></th>\n",
       "      <th>Unnamed: 0</th>\n",
       "      <th>Id</th>\n",
       "      <th>Timestamp</th>\n",
       "      <th>Source</th>\n",
       "      <th>Retwwet_Count</th>\n",
       "      <th>User_Name</th>\n",
       "      <th>tweets</th>\n",
       "      <th>text_length</th>\n",
       "    </tr>\n",
       "  </thead>\n",
       "  <tbody>\n",
       "    <tr>\n",
       "      <th>0</th>\n",
       "      <td>0</td>\n",
       "      <td>1441380234113081350</td>\n",
       "      <td>2021-09-24 12:33:22</td>\n",
       "      <td>Twitter Web App</td>\n",
       "      <td>0</td>\n",
       "      <td>XLOLOLOLOLOLX</td>\n",
       "      <td>permit  pfizer biontech covid         httpssk...</td>\n",
       "      <td>24</td>\n",
       "    </tr>\n",
       "    <tr>\n",
       "      <th>1</th>\n",
       "      <td>1</td>\n",
       "      <td>1441380226131390472</td>\n",
       "      <td>2021-09-24 12:33:20</td>\n",
       "      <td>Twitter Web App</td>\n",
       "      <td>0</td>\n",
       "      <td>Jack Schmidt</td>\n",
       "      <td>bourla  employee join scrum    drug pricing f...</td>\n",
       "      <td>22</td>\n",
       "    </tr>\n",
       "    <tr>\n",
       "      <th>2</th>\n",
       "      <td>2</td>\n",
       "      <td>1441380207655460865</td>\n",
       "      <td>2021-09-24 12:33:15</td>\n",
       "      <td>Twitter for iPhone</td>\n",
       "      <td>0</td>\n",
       "      <td>Fred Zarnowski</td>\n",
       "      <td>weselymd    malmet  cdcgov  cdcdirector   per...</td>\n",
       "      <td>26</td>\n",
       "    </tr>\n",
       "    <tr>\n",
       "      <th>3</th>\n",
       "      <td>3</td>\n",
       "      <td>1441380207517003781</td>\n",
       "      <td>2021-09-24 12:33:15</td>\n",
       "      <td>Twitter Web App</td>\n",
       "      <td>0</td>\n",
       "      <td>TheRealFly</td>\n",
       "      <td>talk full license covid    singapore</td>\n",
       "      <td>10</td>\n",
       "    </tr>\n",
       "    <tr>\n",
       "      <th>4</th>\n",
       "      <td>4</td>\n",
       "      <td>1441380151955128325</td>\n",
       "      <td>2021-09-24 12:33:02</td>\n",
       "      <td>Twitter Web App</td>\n",
       "      <td>0</td>\n",
       "      <td>UNC OtolaryngologyHead  Neck Surgery</td>\n",
       "      <td>congrats  profbrentsenior  receive  pfizer int...</td>\n",
       "      <td>50</td>\n",
       "    </tr>\n",
       "    <tr>\n",
       "      <th>5</th>\n",
       "      <td>5</td>\n",
       "      <td>1441380143105142799</td>\n",
       "      <td>2021-09-24 12:33:00</td>\n",
       "      <td>Twitter for iPhone</td>\n",
       "      <td>0</td>\n",
       "      <td>Jason</td>\n",
       "      <td>guess  pfizer  talk   cdcdirector    vaccine  ...</td>\n",
       "      <td>33</td>\n",
       "    </tr>\n",
       "    <tr>\n",
       "      <th>6</th>\n",
       "      <td>6</td>\n",
       "      <td>1441380136738189327</td>\n",
       "      <td>2021-09-24 12:32:58</td>\n",
       "      <td>Twitter Web App</td>\n",
       "      <td>0</td>\n",
       "      <td>stevenscraig</td>\n",
       "      <td>banternative  iancrichton   malchandl...</td>\n",
       "      <td>232</td>\n",
       "    </tr>\n",
       "    <tr>\n",
       "      <th>7</th>\n",
       "      <td>7</td>\n",
       "      <td>1441380071294455809</td>\n",
       "      <td>2021-09-24 12:32:43</td>\n",
       "      <td>Twitter for Android</td>\n",
       "      <td>0</td>\n",
       "      <td>faridahmedkhan</td>\n",
       "      <td>'  hear  irrespective  necessity  fees   ne...</td>\n",
       "      <td>17</td>\n",
       "    </tr>\n",
       "    <tr>\n",
       "      <th>8</th>\n",
       "      <td>8</td>\n",
       "      <td>1441380034741112841</td>\n",
       "      <td>2021-09-24 12:32:34</td>\n",
       "      <td>Twitter for iPhone</td>\n",
       "      <td>0</td>\n",
       "      <td>Stephani Shelton</td>\n",
       "      <td>debjshaw anyone compromise immunity   able   ...</td>\n",
       "      <td>33</td>\n",
       "    </tr>\n",
       "    <tr>\n",
       "      <th>9</th>\n",
       "      <td>9</td>\n",
       "      <td>1441380001320951809</td>\n",
       "      <td>2021-09-24 12:32:26</td>\n",
       "      <td>Twitter Web App</td>\n",
       "      <td>0</td>\n",
       "      <td>Infectious Diseases</td>\n",
       "      <td>dovey               there specifics  ' broad ...</td>\n",
       "      <td>45</td>\n",
       "    </tr>\n",
       "  </tbody>\n",
       "</table>\n",
       "</div>"
      ],
      "text/plain": [
       "   Unnamed: 0                   Id            Timestamp               Source  \\\n",
       "0           0  1441380234113081350  2021-09-24 12:33:22      Twitter Web App   \n",
       "1           1  1441380226131390472  2021-09-24 12:33:20      Twitter Web App   \n",
       "2           2  1441380207655460865  2021-09-24 12:33:15   Twitter for iPhone   \n",
       "3           3  1441380207517003781  2021-09-24 12:33:15      Twitter Web App   \n",
       "4           4  1441380151955128325  2021-09-24 12:33:02      Twitter Web App   \n",
       "5           5  1441380143105142799  2021-09-24 12:33:00   Twitter for iPhone   \n",
       "6           6  1441380136738189327  2021-09-24 12:32:58      Twitter Web App   \n",
       "7           7  1441380071294455809  2021-09-24 12:32:43  Twitter for Android   \n",
       "8           8  1441380034741112841  2021-09-24 12:32:34   Twitter for iPhone   \n",
       "9           9  1441380001320951809  2021-09-24 12:32:26      Twitter Web App   \n",
       "\n",
       "   Retwwet_Count                             User_Name  \\\n",
       "0              0                         XLOLOLOLOLOLX   \n",
       "1              0                          Jack Schmidt   \n",
       "2              0                        Fred Zarnowski   \n",
       "3              0                            TheRealFly   \n",
       "4              0  UNC OtolaryngologyHead  Neck Surgery   \n",
       "5              0                                 Jason   \n",
       "6              0                          stevenscraig   \n",
       "7              0                        faridahmedkhan   \n",
       "8              0                      Stephani Shelton   \n",
       "9              0                   Infectious Diseases   \n",
       "\n",
       "                                              tweets  text_length  \n",
       "0   permit  pfizer biontech covid         httpssk...           24  \n",
       "1   bourla  employee join scrum    drug pricing f...           22  \n",
       "2   weselymd    malmet  cdcgov  cdcdirector   per...           26  \n",
       "3             talk full license covid    singapore             10  \n",
       "4  congrats  profbrentsenior  receive  pfizer int...           50  \n",
       "5  guess  pfizer  talk   cdcdirector    vaccine  ...           33  \n",
       "6           banternative  iancrichton   malchandl...          232  \n",
       "7     '  hear  irrespective  necessity  fees   ne...           17  \n",
       "8   debjshaw anyone compromise immunity   able   ...           33  \n",
       "9   dovey               there specifics  ' broad ...           45  "
      ]
     },
     "execution_count": 62,
     "metadata": {},
     "output_type": "execute_result"
    }
   ],
   "source": [
    "twitter_data.head(10)"
   ]
  },
  {
   "cell_type": "code",
   "execution_count": 63,
   "metadata": {
    "colab": {},
    "colab_type": "code",
    "id": "kXrr6cKr7p95"
   },
   "outputs": [],
   "source": [
    "twitter_data.to_csv('Processed Data - Pfizer.csv')"
   ]
  },
  {
   "cell_type": "code",
   "execution_count": null,
   "metadata": {
    "colab": {},
    "colab_type": "code",
    "id": "FMLNohRa7qBv"
   },
   "outputs": [],
   "source": []
  }
 ],
 "metadata": {
  "accelerator": "GPU",
  "colab": {
   "name": "Twitter Analysis (HK) v3 .ipynb",
   "provenance": []
  },
  "kernelspec": {
   "display_name": "Python 3",
   "language": "python",
   "name": "python3"
  },
  "language_info": {
   "codemirror_mode": {
    "name": "ipython",
    "version": 3
   },
   "file_extension": ".py",
   "mimetype": "text/x-python",
   "name": "python",
   "nbconvert_exporter": "python",
   "pygments_lexer": "ipython3",
   "version": "3.7.3"
  }
 },
 "nbformat": 4,
 "nbformat_minor": 1
}
