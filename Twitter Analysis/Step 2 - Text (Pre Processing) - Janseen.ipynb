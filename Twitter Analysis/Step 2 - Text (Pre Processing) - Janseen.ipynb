{
 "cells": [
  {
   "cell_type": "markdown",
   "metadata": {
    "colab_type": "text",
    "id": "sysM5pCMkdhL"
   },
   "source": [
    "Importing required Libraries"
   ]
  },
  {
   "cell_type": "code",
   "execution_count": 1,
   "metadata": {
    "colab": {},
    "colab_type": "code",
    "id": "7aWZ4ZQPLNVp"
   },
   "outputs": [],
   "source": [
    "import numpy as np\n",
    "import pandas as pd\n",
    "import re"
   ]
  },
  {
   "cell_type": "markdown",
   "metadata": {
    "colab_type": "text",
    "id": "QF6l_XWK0PgY"
   },
   "source": [
    "######### Raw Data Dump"
   ]
  },
  {
   "cell_type": "code",
   "execution_count": 2,
   "metadata": {
    "colab": {},
    "colab_type": "code",
    "id": "ahT_gxngmdlY"
   },
   "outputs": [],
   "source": [
    "twitter_data = pd.read_csv(\"Tweets_Sep_Janseen.csv\")"
   ]
  },
  {
   "cell_type": "code",
   "execution_count": 3,
   "metadata": {
    "colab": {
     "base_uri": "https://localhost:8080/",
     "height": 111
    },
    "colab_type": "code",
    "id": "aNiRMpDJkXTg",
    "outputId": "cb665a3a-74a4-4ee5-a15d-b1c5b5e3b764"
   },
   "outputs": [
    {
     "data": {
      "text/html": [
       "<div>\n",
       "<style scoped>\n",
       "    .dataframe tbody tr th:only-of-type {\n",
       "        vertical-align: middle;\n",
       "    }\n",
       "\n",
       "    .dataframe tbody tr th {\n",
       "        vertical-align: top;\n",
       "    }\n",
       "\n",
       "    .dataframe thead th {\n",
       "        text-align: right;\n",
       "    }\n",
       "</style>\n",
       "<table border=\"1\" class=\"dataframe\">\n",
       "  <thead>\n",
       "    <tr style=\"text-align: right;\">\n",
       "      <th></th>\n",
       "      <th>Unnamed: 0</th>\n",
       "      <th>Id</th>\n",
       "      <th>Timestamp</th>\n",
       "      <th>Source</th>\n",
       "      <th>Retwwet_Count</th>\n",
       "      <th>User_Name</th>\n",
       "      <th>Location</th>\n",
       "      <th>Tweets</th>\n",
       "    </tr>\n",
       "  </thead>\n",
       "  <tbody>\n",
       "    <tr>\n",
       "      <th>0</th>\n",
       "      <td>0</td>\n",
       "      <td>1440697879782252556</td>\n",
       "      <td>2021-09-22 15:21:56</td>\n",
       "      <td>Twitter for iPhone</td>\n",
       "      <td>0</td>\n",
       "      <td>Janseen Acosta</td>\n",
       "      <td>NaN</td>\n",
       "      <td>@theRealKiyosaki 😮  hold Kiyosaki, I've been l...</td>\n",
       "    </tr>\n",
       "    <tr>\n",
       "      <th>1</th>\n",
       "      <td>1</td>\n",
       "      <td>1440663105487314957</td>\n",
       "      <td>2021-09-22 13:03:45</td>\n",
       "      <td>Twitter for Android</td>\n",
       "      <td>0</td>\n",
       "      <td>Chandan Khatri</td>\n",
       "      <td>NaN</td>\n",
       "      <td>As you may know, the United States had given 1...</td>\n",
       "    </tr>\n",
       "  </tbody>\n",
       "</table>\n",
       "</div>"
      ],
      "text/plain": [
       "   Unnamed: 0                   Id            Timestamp               Source  \\\n",
       "0           0  1440697879782252556  2021-09-22 15:21:56   Twitter for iPhone   \n",
       "1           1  1440663105487314957  2021-09-22 13:03:45  Twitter for Android   \n",
       "\n",
       "   Retwwet_Count       User_Name  Location  \\\n",
       "0              0  Janseen Acosta       NaN   \n",
       "1              0  Chandan Khatri       NaN   \n",
       "\n",
       "                                              Tweets  \n",
       "0  @theRealKiyosaki 😮  hold Kiyosaki, I've been l...  \n",
       "1  As you may know, the United States had given 1...  "
      ]
     },
     "execution_count": 3,
     "metadata": {},
     "output_type": "execute_result"
    }
   ],
   "source": [
    "twitter_data.head(2)"
   ]
  },
  {
   "cell_type": "code",
   "execution_count": 4,
   "metadata": {
    "colab": {},
    "colab_type": "code",
    "id": "4uyAf0X1rzgK"
   },
   "outputs": [],
   "source": [
    "twitter_data = twitter_data.rename(columns = {'Tweets':'tweets'})"
   ]
  },
  {
   "cell_type": "code",
   "execution_count": 5,
   "metadata": {
    "colab": {},
    "colab_type": "code",
    "id": "sJGmxzDQpYQS"
   },
   "outputs": [],
   "source": [
    "twitter_data=pd.DataFrame(twitter_data)"
   ]
  },
  {
   "cell_type": "code",
   "execution_count": 6,
   "metadata": {
    "colab": {
     "base_uri": "https://localhost:8080/",
     "height": 34
    },
    "colab_type": "code",
    "id": "KyPzBaLopmch",
    "outputId": "52321c3a-6e54-4b5e-89a2-f8c1cf6c8f85"
   },
   "outputs": [
    {
     "data": {
      "text/plain": [
       "(10, 8)"
      ]
     },
     "execution_count": 6,
     "metadata": {},
     "output_type": "execute_result"
    }
   ],
   "source": [
    "twitter_data.shape"
   ]
  },
  {
   "cell_type": "code",
   "execution_count": 7,
   "metadata": {
    "colab": {},
    "colab_type": "code",
    "id": "RiDXfIefgg4Z"
   },
   "outputs": [],
   "source": [
    "twitter_data=twitter_data.drop(columns = 'Location', axis = 1)"
   ]
  },
  {
   "cell_type": "code",
   "execution_count": 8,
   "metadata": {
    "colab": {},
    "colab_type": "code",
    "id": "wZC9A7HFoxha"
   },
   "outputs": [],
   "source": [
    "twitter_data= twitter_data.drop_duplicates()"
   ]
  },
  {
   "cell_type": "code",
   "execution_count": 9,
   "metadata": {
    "colab": {
     "base_uri": "https://localhost:8080/",
     "height": 34
    },
    "colab_type": "code",
    "id": "YD7qOKPokvtQ",
    "outputId": "86ec8019-60ac-4584-8508-10d0379dc9cc"
   },
   "outputs": [
    {
     "data": {
      "text/plain": [
       "(10, 7)"
      ]
     },
     "execution_count": 9,
     "metadata": {},
     "output_type": "execute_result"
    }
   ],
   "source": [
    "twitter_data.shape"
   ]
  },
  {
   "cell_type": "code",
   "execution_count": 10,
   "metadata": {
    "colab": {},
    "colab_type": "code",
    "id": "oh3WHmXM_VTy"
   },
   "outputs": [],
   "source": [
    "twitter_data.iloc[:,5] = twitter_data.iloc[:,5].apply(str)"
   ]
  },
  {
   "cell_type": "markdown",
   "metadata": {
    "colab_type": "text",
    "id": "S3VgpCoth2_B"
   },
   "source": [
    "Pre Processing - Removing unwanted Characters"
   ]
  },
  {
   "cell_type": "code",
   "execution_count": 11,
   "metadata": {
    "colab": {
     "base_uri": "https://localhost:8080/",
     "height": 111
    },
    "colab_type": "code",
    "id": "jdd6tM5ViZWz",
    "outputId": "19c4584a-1aa5-4776-e6c0-5e97be5fe6c4"
   },
   "outputs": [
    {
     "data": {
      "text/html": [
       "<div>\n",
       "<style scoped>\n",
       "    .dataframe tbody tr th:only-of-type {\n",
       "        vertical-align: middle;\n",
       "    }\n",
       "\n",
       "    .dataframe tbody tr th {\n",
       "        vertical-align: top;\n",
       "    }\n",
       "\n",
       "    .dataframe thead th {\n",
       "        text-align: right;\n",
       "    }\n",
       "</style>\n",
       "<table border=\"1\" class=\"dataframe\">\n",
       "  <thead>\n",
       "    <tr style=\"text-align: right;\">\n",
       "      <th></th>\n",
       "      <th>Unnamed: 0</th>\n",
       "      <th>Id</th>\n",
       "      <th>Timestamp</th>\n",
       "      <th>Source</th>\n",
       "      <th>Retwwet_Count</th>\n",
       "      <th>User_Name</th>\n",
       "      <th>tweets</th>\n",
       "    </tr>\n",
       "  </thead>\n",
       "  <tbody>\n",
       "    <tr>\n",
       "      <th>0</th>\n",
       "      <td>0</td>\n",
       "      <td>1440697879782252556</td>\n",
       "      <td>2021-09-22 15:21:56</td>\n",
       "      <td>Twitter for iPhone</td>\n",
       "      <td>0</td>\n",
       "      <td>Janseen Acosta</td>\n",
       "      <td>@theRealKiyosaki 😮  hold Kiyosaki, I've been l...</td>\n",
       "    </tr>\n",
       "    <tr>\n",
       "      <th>1</th>\n",
       "      <td>1</td>\n",
       "      <td>1440663105487314957</td>\n",
       "      <td>2021-09-22 13:03:45</td>\n",
       "      <td>Twitter for Android</td>\n",
       "      <td>0</td>\n",
       "      <td>Chandan Khatri</td>\n",
       "      <td>As you may know, the United States had given 1...</td>\n",
       "    </tr>\n",
       "  </tbody>\n",
       "</table>\n",
       "</div>"
      ],
      "text/plain": [
       "   Unnamed: 0                   Id            Timestamp               Source  \\\n",
       "0           0  1440697879782252556  2021-09-22 15:21:56   Twitter for iPhone   \n",
       "1           1  1440663105487314957  2021-09-22 13:03:45  Twitter for Android   \n",
       "\n",
       "   Retwwet_Count       User_Name  \\\n",
       "0              0  Janseen Acosta   \n",
       "1              0  Chandan Khatri   \n",
       "\n",
       "                                              tweets  \n",
       "0  @theRealKiyosaki 😮  hold Kiyosaki, I've been l...  \n",
       "1  As you may know, the United States had given 1...  "
      ]
     },
     "execution_count": 11,
     "metadata": {},
     "output_type": "execute_result"
    }
   ],
   "source": [
    "twitter_data.head(2)"
   ]
  },
  {
   "cell_type": "markdown",
   "metadata": {
    "colab_type": "text",
    "id": "M2hsYW-9i0TR"
   },
   "source": [
    "Pre Processing\n",
    "Remove Punctuations"
   ]
  },
  {
   "cell_type": "code",
   "execution_count": 12,
   "metadata": {
    "colab": {},
    "colab_type": "code",
    "id": "vkQsR9WAfuIM"
   },
   "outputs": [],
   "source": [
    "twitter_data.iloc[:,5] = twitter_data.iloc[:,5].str.replace(r'https(\\S)+', r' ')\n",
    "twitter_data.iloc[:,5] = twitter_data.iloc[:,5].str.replace(r'http ...', r' ')\n",
    "\n",
    "twitter_data.iloc[:,5] = twitter_data.iloc[:,5].str.replace(r'(RT|rt)[ ]*@[ ]*[\\S]+',r' ')\n",
    "twitter_data.iloc[:,5] = twitter_data.iloc[:,5].str.replace(r'@[\\S]+',r' ')\n",
    "\n",
    "twitter_data.iloc[:,5] = twitter_data.iloc[:,5].str.replace('http', '')"
   ]
  },
  {
   "cell_type": "code",
   "execution_count": 13,
   "metadata": {
    "colab": {
     "base_uri": "https://localhost:8080/",
     "height": 204
    },
    "colab_type": "code",
    "id": "UaxfzmFgNV53",
    "outputId": "d7ace4f3-e82f-4ab3-d42c-6f00b2b9c572"
   },
   "outputs": [
    {
     "data": {
      "text/html": [
       "<div>\n",
       "<style scoped>\n",
       "    .dataframe tbody tr th:only-of-type {\n",
       "        vertical-align: middle;\n",
       "    }\n",
       "\n",
       "    .dataframe tbody tr th {\n",
       "        vertical-align: top;\n",
       "    }\n",
       "\n",
       "    .dataframe thead th {\n",
       "        text-align: right;\n",
       "    }\n",
       "</style>\n",
       "<table border=\"1\" class=\"dataframe\">\n",
       "  <thead>\n",
       "    <tr style=\"text-align: right;\">\n",
       "      <th></th>\n",
       "      <th>Unnamed: 0</th>\n",
       "      <th>Id</th>\n",
       "      <th>Timestamp</th>\n",
       "      <th>Source</th>\n",
       "      <th>Retwwet_Count</th>\n",
       "      <th>User_Name</th>\n",
       "      <th>tweets</th>\n",
       "    </tr>\n",
       "  </thead>\n",
       "  <tbody>\n",
       "    <tr>\n",
       "      <th>0</th>\n",
       "      <td>0</td>\n",
       "      <td>1440697879782252556</td>\n",
       "      <td>2021-09-22 15:21:56</td>\n",
       "      <td>Twitter for iPhone</td>\n",
       "      <td>0</td>\n",
       "      <td>Janseen Acosta</td>\n",
       "      <td>@theRealKiyosaki 😮  hold Kiyosaki, I've been l...</td>\n",
       "    </tr>\n",
       "    <tr>\n",
       "      <th>1</th>\n",
       "      <td>1</td>\n",
       "      <td>1440663105487314957</td>\n",
       "      <td>2021-09-22 13:03:45</td>\n",
       "      <td>Twitter for Android</td>\n",
       "      <td>0</td>\n",
       "      <td>Chandan Khatri</td>\n",
       "      <td>As you may know, the United States had given 1...</td>\n",
       "    </tr>\n",
       "    <tr>\n",
       "      <th>2</th>\n",
       "      <td>2</td>\n",
       "      <td>1440336292357623808</td>\n",
       "      <td>2021-09-21 15:25:06</td>\n",
       "      <td>Twitter for iPhone</td>\n",
       "      <td>0</td>\n",
       "      <td>sam</td>\n",
       "      <td>@thehill Janseen; more like.. fuck, baby fuck!</td>\n",
       "    </tr>\n",
       "    <tr>\n",
       "      <th>3</th>\n",
       "      <td>3</td>\n",
       "      <td>1439972267006603267</td>\n",
       "      <td>2021-09-20 15:18:36</td>\n",
       "      <td>Twitter for Android</td>\n",
       "      <td>0</td>\n",
       "      <td>RichS 3.5% 🇪🇺🏳️‍🌈 #RejoinEU #FBPE #FBPPR #FBPA</td>\n",
       "      <td>@Schellebelle76 @SimonCalder @LBC Ahh yes I th...</td>\n",
       "    </tr>\n",
       "    <tr>\n",
       "      <th>4</th>\n",
       "      <td>4</td>\n",
       "      <td>1439414124283248640</td>\n",
       "      <td>2021-09-19 02:20:44</td>\n",
       "      <td>Twitter for Android</td>\n",
       "      <td>0</td>\n",
       "      <td>JM Torrecampo</td>\n",
       "      <td>COVID-19 Vaccine Delivered in the Philippines\\...</td>\n",
       "    </tr>\n",
       "  </tbody>\n",
       "</table>\n",
       "</div>"
      ],
      "text/plain": [
       "   Unnamed: 0                   Id            Timestamp               Source  \\\n",
       "0           0  1440697879782252556  2021-09-22 15:21:56   Twitter for iPhone   \n",
       "1           1  1440663105487314957  2021-09-22 13:03:45  Twitter for Android   \n",
       "2           2  1440336292357623808  2021-09-21 15:25:06   Twitter for iPhone   \n",
       "3           3  1439972267006603267  2021-09-20 15:18:36  Twitter for Android   \n",
       "4           4  1439414124283248640  2021-09-19 02:20:44  Twitter for Android   \n",
       "\n",
       "   Retwwet_Count                                       User_Name  \\\n",
       "0              0                                  Janseen Acosta   \n",
       "1              0                                  Chandan Khatri   \n",
       "2              0                                             sam   \n",
       "3              0  RichS 3.5% 🇪🇺🏳️‍🌈 #RejoinEU #FBPE #FBPPR #FBPA   \n",
       "4              0                                   JM Torrecampo   \n",
       "\n",
       "                                              tweets  \n",
       "0  @theRealKiyosaki 😮  hold Kiyosaki, I've been l...  \n",
       "1  As you may know, the United States had given 1...  \n",
       "2     @thehill Janseen; more like.. fuck, baby fuck!  \n",
       "3  @Schellebelle76 @SimonCalder @LBC Ahh yes I th...  \n",
       "4  COVID-19 Vaccine Delivered in the Philippines\\...  "
      ]
     },
     "execution_count": 13,
     "metadata": {},
     "output_type": "execute_result"
    }
   ],
   "source": [
    "twitter_data.head(5)"
   ]
  },
  {
   "cell_type": "code",
   "execution_count": 14,
   "metadata": {
    "colab": {},
    "colab_type": "code",
    "id": "1SA1xtkzjeHO"
   },
   "outputs": [],
   "source": [
    "PUNCT_TO_REMOVE = '!\"#$%&\\'()*+,-./:;<=>?@[\\\\]^_{|}~`'"
   ]
  },
  {
   "cell_type": "code",
   "execution_count": 15,
   "metadata": {
    "colab": {},
    "colab_type": "code",
    "id": "Hm-NNqR0jgce"
   },
   "outputs": [],
   "source": [
    "def remove_punctuation(text):\n",
    "    return text.translate(str.maketrans(' ', ' ', PUNCT_TO_REMOVE))"
   ]
  },
  {
   "cell_type": "code",
   "execution_count": 16,
   "metadata": {
    "colab": {},
    "colab_type": "code",
    "id": "nLePVfoxi6O5"
   },
   "outputs": [],
   "source": [
    "twitter_data.iloc[:,5] = twitter_data.iloc[:,5].apply(lambda text: remove_punctuation(text))"
   ]
  },
  {
   "cell_type": "code",
   "execution_count": 17,
   "metadata": {
    "colab": {},
    "colab_type": "code",
    "id": "DYx8a6Pw-0ar"
   },
   "outputs": [],
   "source": [
    "all_words = list(twitter_data.iloc[:,5].str.lower().str.split(' ', expand=True).stack().unique())"
   ]
  },
  {
   "cell_type": "code",
   "execution_count": 18,
   "metadata": {
    "colab": {
     "base_uri": "https://localhost:8080/",
     "height": 204
    },
    "colab_type": "code",
    "id": "sTtXB2hWjDck",
    "outputId": "68490660-ed1a-4a32-ae47-a858f8bb6520"
   },
   "outputs": [
    {
     "data": {
      "text/plain": [
       "0    @theRealKiyosaki 😮  hold Kiyosaki, I've been l...\n",
       "1    As you may know, the United States had given 1...\n",
       "2       @thehill Janseen; more like.. fuck, baby fuck!\n",
       "3    @Schellebelle76 @SimonCalder @LBC Ahh yes I th...\n",
       "4    COVID-19 Vaccine Delivered in the Philippines\\...\n",
       "5    @craigsfire @MaxNordau Regeron reported 2.59 b...\n",
       "6    Hey, I'm an older Adult, stroke survivor, very...\n",
       "7    @EricTopol @CDCMMWR Janseen Ab response is eve...\n",
       "8    @brigade_health Didn’t you ever wonder why Joh...\n",
       "9    @1NewsNZ The covid vaccine is like getting the...\n",
       "Name: tweets, dtype: object"
      ]
     },
     "execution_count": 18,
     "metadata": {},
     "output_type": "execute_result"
    }
   ],
   "source": [
    "twitter_data['tweets'].head(10)"
   ]
  },
  {
   "cell_type": "markdown",
   "metadata": {
    "colab_type": "text",
    "id": "79IUToYgmrp9"
   },
   "source": [
    "Remove most occuring words"
   ]
  },
  {
   "cell_type": "code",
   "execution_count": 19,
   "metadata": {
    "colab": {},
    "colab_type": "code",
    "id": "j03xsTQik754"
   },
   "outputs": [],
   "source": [
    "from collections import Counter\n",
    "cnt = Counter()\n",
    "for text in twitter_data['tweets'].values:\n",
    "    for word in text.split():\n",
    "        cnt[word] += 1"
   ]
  },
  {
   "cell_type": "code",
   "execution_count": 20,
   "metadata": {
    "colab": {
     "base_uri": "https://localhost:8080/",
     "height": 357
    },
    "colab_type": "code",
    "id": "X-RgyCCHmUmX",
    "outputId": "a6aef20a-63d0-4a48-b93e-e181cbdaaedb"
   },
   "outputs": [
    {
     "data": {
      "text/plain": [
       "[('the', 14),\n",
       " ('to', 10),\n",
       " ('I', 6),\n",
       " ('of', 4),\n",
       " ('vaccine', 4),\n",
       " ('in', 4),\n",
       " ('had', 3),\n",
       " ('and', 3),\n",
       " ('if', 3),\n",
       " ('sales', 3),\n",
       " ('for', 3),\n",
       " ('vaccinated', 3),\n",
       " ('been', 2),\n",
       " ('As', 2),\n",
       " ('you', 2),\n",
       " ('given', 2)]"
      ]
     },
     "execution_count": 20,
     "metadata": {},
     "output_type": "execute_result"
    }
   ],
   "source": [
    "cnt.most_common(16)"
   ]
  },
  {
   "cell_type": "code",
   "execution_count": 21,
   "metadata": {
    "colab": {},
    "colab_type": "code",
    "id": "Ld45S4timPEy"
   },
   "outputs": [],
   "source": [
    "FREQWORDS = set([w for (w, wc) in cnt.most_common(25)])\n",
    "def remove_freqwords(text):\n",
    "    \"\"\"custom function to remove the frequent words\"\"\"\n",
    "    return \" \".join([word for word in str(text).split() if word not in FREQWORDS])"
   ]
  },
  {
   "cell_type": "code",
   "execution_count": 22,
   "metadata": {
    "colab": {},
    "colab_type": "code",
    "id": "7h1JhUpymgAZ"
   },
   "outputs": [],
   "source": [
    "twitter_data['tweets'] = twitter_data['tweets'].apply(lambda text: remove_freqwords(text))"
   ]
  },
  {
   "cell_type": "code",
   "execution_count": 23,
   "metadata": {
    "colab": {
     "base_uri": "https://localhost:8080/",
     "height": 204
    },
    "colab_type": "code",
    "id": "nC42wuQWmj-u",
    "outputId": "8faf3f5d-ac39-4326-f6b2-02648850f598"
   },
   "outputs": [
    {
     "data": {
      "text/plain": [
       "0    @theRealKiyosaki 😮 hold Kiyosaki, I've learnin...\n",
       "1    may know, United States 1.5 million doses jans...\n",
       "2            @thehill Janseen; like.. fuck, baby fuck!\n",
       "3    @Schellebelle76 @SimonCalder @LBC Ahh yes thin...\n",
       "4    COVID-19 Delivered Philippines September 18, 2...\n",
       "5    @craigsfire @MaxNordau Regeron reported 2.59 f...\n",
       "6    Hey, I'm an older Adult, stroke survivor, very...\n",
       "7    @EricTopol @CDCMMWR Janseen Ab response is eve...\n",
       "8    @brigade_health Didn’t ever wonder why Johnson...\n",
       "9    @1NewsNZ The covid is like getting Polio measl...\n",
       "Name: tweets, dtype: object"
      ]
     },
     "execution_count": 23,
     "metadata": {},
     "output_type": "execute_result"
    }
   ],
   "source": [
    "twitter_data['tweets'].head(10)"
   ]
  },
  {
   "cell_type": "markdown",
   "metadata": {
    "colab_type": "text",
    "id": "kC4V70ftm_vH"
   },
   "source": [
    "Remove rare words"
   ]
  },
  {
   "cell_type": "code",
   "execution_count": 24,
   "metadata": {
    "colab": {},
    "colab_type": "code",
    "id": "b4f3eGwdk8mr"
   },
   "outputs": [],
   "source": [
    "n_rare_words = 10\n",
    "RAREWORDS = set([w for (w, wc) in cnt.most_common()[:-n_rare_words-1:-1]])\n",
    "def remove_rarewords(text):\n",
    "    return \" \".join([word for word in str(text).split() if word not in RAREWORDS])"
   ]
  },
  {
   "cell_type": "code",
   "execution_count": 25,
   "metadata": {
    "colab": {},
    "colab_type": "code",
    "id": "gSI-Ipkvm6vR"
   },
   "outputs": [],
   "source": [
    "twitter_data['tweets'] = twitter_data['tweets'].apply(lambda text: remove_rarewords(text))"
   ]
  },
  {
   "cell_type": "code",
   "execution_count": 26,
   "metadata": {
    "colab": {
     "base_uri": "https://localhost:8080/",
     "height": 204
    },
    "colab_type": "code",
    "id": "rvmI8UKbm-uy",
    "outputId": "5e835eda-9eaf-4ba5-f692-09c776192d66"
   },
   "outputs": [
    {
     "data": {
      "text/plain": [
       "0    @theRealKiyosaki 😮 hold Kiyosaki, I've learnin...\n",
       "1    may know, United States 1.5 million doses jans...\n",
       "2            @thehill Janseen; like.. fuck, baby fuck!\n",
       "3    @Schellebelle76 @SimonCalder @LBC Ahh yes thin...\n",
       "4    COVID-19 Delivered Philippines September 18, 2...\n",
       "5    @craigsfire @MaxNordau Regeron reported 2.59 f...\n",
       "6    Hey, I'm an older Adult, stroke survivor, very...\n",
       "7    @EricTopol @CDCMMWR Janseen Ab response is eve...\n",
       "8    @brigade_health Didn’t ever wonder why Johnson...\n",
       "9    @1NewsNZ The covid is like getting Polio measl...\n",
       "Name: tweets, dtype: object"
      ]
     },
     "execution_count": 26,
     "metadata": {},
     "output_type": "execute_result"
    }
   ],
   "source": [
    "twitter_data['tweets'].head(10)"
   ]
  },
  {
   "cell_type": "markdown",
   "metadata": {
    "colab_type": "text",
    "id": "92O_eybMg4n8"
   },
   "source": [
    "Lemmatize"
   ]
  },
  {
   "cell_type": "code",
   "execution_count": 27,
   "metadata": {
    "colab": {},
    "colab_type": "code",
    "id": "K0ZGw83QnnCL"
   },
   "outputs": [],
   "source": [
    "from nltk.stem import WordNetLemmatizer\n",
    "from nltk.corpus import wordnet"
   ]
  },
  {
   "cell_type": "code",
   "execution_count": 28,
   "metadata": {
    "colab": {
     "base_uri": "https://localhost:8080/",
     "height": 1000
    },
    "colab_type": "code",
    "id": "CrHENeEOrfGO",
    "outputId": "6332c26d-0899-443c-d9b5-6d0cc1027530"
   },
   "outputs": [],
   "source": [
    "import nltk\n",
    "#nltk.download('book')\n",
    "\n",
    "#nltk.download('all-corpora')"
   ]
  },
  {
   "cell_type": "code",
   "execution_count": 29,
   "metadata": {
    "colab": {},
    "colab_type": "code",
    "id": "SDU83t4SnqGU"
   },
   "outputs": [],
   "source": [
    "lemmatizer = WordNetLemmatizer()\n",
    "def lemmatize_words(text):\n",
    "    return \" \".join([lemmatizer.lemmatize(word) for word in text.split()])"
   ]
  },
  {
   "cell_type": "code",
   "execution_count": 30,
   "metadata": {
    "colab": {},
    "colab_type": "code",
    "id": "D6s0GtZTnsls"
   },
   "outputs": [],
   "source": [
    "twitter_data['tweets'] = twitter_data['tweets'].apply(lambda text: lemmatize_words(text))"
   ]
  },
  {
   "cell_type": "code",
   "execution_count": 31,
   "metadata": {
    "colab": {},
    "colab_type": "code",
    "id": "IUp_2jFgivLh"
   },
   "outputs": [],
   "source": [
    "lemmatizer = WordNetLemmatizer()\n",
    "wordnet_map = {\"N\":wordnet.NOUN, \"V\":wordnet.VERB, \"J\":wordnet.ADJ, \"R\":wordnet.ADV}"
   ]
  },
  {
   "cell_type": "code",
   "execution_count": 32,
   "metadata": {
    "colab": {},
    "colab_type": "code",
    "id": "dJJpY0Ser0GX"
   },
   "outputs": [],
   "source": [
    "def lemmatize_words(text):\n",
    "    pos_tagged_text = nltk.pos_tag(text.split())\n",
    "    return \" \".join([lemmatizer.lemmatize(word, wordnet_map.get(pos[0], wordnet.NOUN)) for word, pos in pos_tagged_text])"
   ]
  },
  {
   "cell_type": "code",
   "execution_count": 33,
   "metadata": {
    "colab": {},
    "colab_type": "code",
    "id": "m9ciHAIVr4oL"
   },
   "outputs": [],
   "source": [
    "twitter_data['tweets'] = twitter_data['tweets'].apply(lambda text: lemmatize_words(text))"
   ]
  },
  {
   "cell_type": "code",
   "execution_count": 34,
   "metadata": {
    "colab": {
     "base_uri": "https://localhost:8080/",
     "height": 359
    },
    "colab_type": "code",
    "id": "uLWVm-MSsHA5",
    "outputId": "71bb42c4-55ab-4539-9c8d-4117324ca61d"
   },
   "outputs": [
    {
     "data": {
      "text/html": [
       "<div>\n",
       "<style scoped>\n",
       "    .dataframe tbody tr th:only-of-type {\n",
       "        vertical-align: middle;\n",
       "    }\n",
       "\n",
       "    .dataframe tbody tr th {\n",
       "        vertical-align: top;\n",
       "    }\n",
       "\n",
       "    .dataframe thead th {\n",
       "        text-align: right;\n",
       "    }\n",
       "</style>\n",
       "<table border=\"1\" class=\"dataframe\">\n",
       "  <thead>\n",
       "    <tr style=\"text-align: right;\">\n",
       "      <th></th>\n",
       "      <th>Unnamed: 0</th>\n",
       "      <th>Id</th>\n",
       "      <th>Timestamp</th>\n",
       "      <th>Source</th>\n",
       "      <th>Retwwet_Count</th>\n",
       "      <th>User_Name</th>\n",
       "      <th>tweets</th>\n",
       "    </tr>\n",
       "  </thead>\n",
       "  <tbody>\n",
       "    <tr>\n",
       "      <th>0</th>\n",
       "      <td>0</td>\n",
       "      <td>1440697879782252556</td>\n",
       "      <td>2021-09-22 15:21:56</td>\n",
       "      <td>Twitter for iPhone</td>\n",
       "      <td>0</td>\n",
       "      <td>Janseen Acosta</td>\n",
       "      <td>@theRealKiyosaki 😮 hold Kiyosaki, I've learnin...</td>\n",
       "    </tr>\n",
       "    <tr>\n",
       "      <th>1</th>\n",
       "      <td>1</td>\n",
       "      <td>1440663105487314957</td>\n",
       "      <td>2021-09-22 13:03:45</td>\n",
       "      <td>Twitter for Android</td>\n",
       "      <td>0</td>\n",
       "      <td>Chandan Khatri</td>\n",
       "      <td>may know, United States 1.5 million do janseen...</td>\n",
       "    </tr>\n",
       "    <tr>\n",
       "      <th>2</th>\n",
       "      <td>2</td>\n",
       "      <td>1440336292357623808</td>\n",
       "      <td>2021-09-21 15:25:06</td>\n",
       "      <td>Twitter for iPhone</td>\n",
       "      <td>0</td>\n",
       "      <td>sam</td>\n",
       "      <td>@thehill Janseen; like.. fuck, baby fuck!</td>\n",
       "    </tr>\n",
       "    <tr>\n",
       "      <th>3</th>\n",
       "      <td>3</td>\n",
       "      <td>1439972267006603267</td>\n",
       "      <td>2021-09-20 15:18:36</td>\n",
       "      <td>Twitter for Android</td>\n",
       "      <td>0</td>\n",
       "      <td>RichS 35 🇪🇺🏳️‍🌈 RejoinEU FBPE FBPPR FBPA</td>\n",
       "      <td>@Schellebelle76 @SimonCalder @LBC Ahh yes thin...</td>\n",
       "    </tr>\n",
       "    <tr>\n",
       "      <th>4</th>\n",
       "      <td>4</td>\n",
       "      <td>1439414124283248640</td>\n",
       "      <td>2021-09-19 02:20:44</td>\n",
       "      <td>Twitter for Android</td>\n",
       "      <td>0</td>\n",
       "      <td>JM Torrecampo</td>\n",
       "      <td>COVID-19 Delivered Philippines September 18, 2...</td>\n",
       "    </tr>\n",
       "    <tr>\n",
       "      <th>5</th>\n",
       "      <td>5</td>\n",
       "      <td>1439381440861548553</td>\n",
       "      <td>2021-09-19 00:10:52</td>\n",
       "      <td>Twitter Web App</td>\n",
       "      <td>0</td>\n",
       "      <td>JobRoss</td>\n",
       "      <td>@craigsfire @MaxNordau Regeron report 2.59 fed...</td>\n",
       "    </tr>\n",
       "    <tr>\n",
       "      <th>6</th>\n",
       "      <td>6</td>\n",
       "      <td>1438961828206456838</td>\n",
       "      <td>2021-09-17 20:23:29</td>\n",
       "      <td>Twitter Web App</td>\n",
       "      <td>0</td>\n",
       "      <td>Bill</td>\n",
       "      <td>Hey, I'm an old Adult, stroke survivor, very l...</td>\n",
       "    </tr>\n",
       "    <tr>\n",
       "      <th>7</th>\n",
       "      <td>7</td>\n",
       "      <td>1438934359973588994</td>\n",
       "      <td>2021-09-17 18:34:20</td>\n",
       "      <td>Twitter Web App</td>\n",
       "      <td>0</td>\n",
       "      <td>Verónica Athié BSc MSc PhD</td>\n",
       "      <td>@EricTopol @CDCMMWR Janseen Ab response be eve...</td>\n",
       "    </tr>\n",
       "    <tr>\n",
       "      <th>8</th>\n",
       "      <td>8</td>\n",
       "      <td>1438799459438170119</td>\n",
       "      <td>2021-09-17 09:38:17</td>\n",
       "      <td>Twitter Web App</td>\n",
       "      <td>0</td>\n",
       "      <td>CanadianGrandma</td>\n",
       "      <td>@brigade_health Didn’t ever wonder why Johnson...</td>\n",
       "    </tr>\n",
       "    <tr>\n",
       "      <th>9</th>\n",
       "      <td>9</td>\n",
       "      <td>1438422024913891331</td>\n",
       "      <td>2021-09-16 08:38:29</td>\n",
       "      <td>Twitter Web App</td>\n",
       "      <td>0</td>\n",
       "      <td>Jennifer Gray</td>\n",
       "      <td>@1NewsNZ The covid be like get Polio measles m...</td>\n",
       "    </tr>\n",
       "  </tbody>\n",
       "</table>\n",
       "</div>"
      ],
      "text/plain": [
       "   Unnamed: 0                   Id            Timestamp               Source  \\\n",
       "0           0  1440697879782252556  2021-09-22 15:21:56   Twitter for iPhone   \n",
       "1           1  1440663105487314957  2021-09-22 13:03:45  Twitter for Android   \n",
       "2           2  1440336292357623808  2021-09-21 15:25:06   Twitter for iPhone   \n",
       "3           3  1439972267006603267  2021-09-20 15:18:36  Twitter for Android   \n",
       "4           4  1439414124283248640  2021-09-19 02:20:44  Twitter for Android   \n",
       "5           5  1439381440861548553  2021-09-19 00:10:52      Twitter Web App   \n",
       "6           6  1438961828206456838  2021-09-17 20:23:29      Twitter Web App   \n",
       "7           7  1438934359973588994  2021-09-17 18:34:20      Twitter Web App   \n",
       "8           8  1438799459438170119  2021-09-17 09:38:17      Twitter Web App   \n",
       "9           9  1438422024913891331  2021-09-16 08:38:29      Twitter Web App   \n",
       "\n",
       "   Retwwet_Count                                 User_Name  \\\n",
       "0              0                            Janseen Acosta   \n",
       "1              0                            Chandan Khatri   \n",
       "2              0                                       sam   \n",
       "3              0  RichS 35 🇪🇺🏳️‍🌈 RejoinEU FBPE FBPPR FBPA   \n",
       "4              0                             JM Torrecampo   \n",
       "5              0                                   JobRoss   \n",
       "6              0                                      Bill   \n",
       "7              0                Verónica Athié BSc MSc PhD   \n",
       "8              0                           CanadianGrandma   \n",
       "9              0                             Jennifer Gray   \n",
       "\n",
       "                                              tweets  \n",
       "0  @theRealKiyosaki 😮 hold Kiyosaki, I've learnin...  \n",
       "1  may know, United States 1.5 million do janseen...  \n",
       "2          @thehill Janseen; like.. fuck, baby fuck!  \n",
       "3  @Schellebelle76 @SimonCalder @LBC Ahh yes thin...  \n",
       "4  COVID-19 Delivered Philippines September 18, 2...  \n",
       "5  @craigsfire @MaxNordau Regeron report 2.59 fed...  \n",
       "6  Hey, I'm an old Adult, stroke survivor, very l...  \n",
       "7  @EricTopol @CDCMMWR Janseen Ab response be eve...  \n",
       "8  @brigade_health Didn’t ever wonder why Johnson...  \n",
       "9  @1NewsNZ The covid be like get Polio measles m...  "
      ]
     },
     "execution_count": 34,
     "metadata": {},
     "output_type": "execute_result"
    }
   ],
   "source": [
    "twitter_data.head(10)"
   ]
  },
  {
   "cell_type": "markdown",
   "metadata": {
    "colab_type": "text",
    "id": "-oOEqTE2s4NQ"
   },
   "source": [
    "Removal of Stopwords"
   ]
  },
  {
   "cell_type": "code",
   "execution_count": 35,
   "metadata": {
    "colab": {
     "base_uri": "https://localhost:8080/",
     "height": 54
    },
    "colab_type": "code",
    "id": "3IPuSexZkI5r",
    "outputId": "db8069d8-0141-48c6-f0fe-4a9549fabbbd"
   },
   "outputs": [
    {
     "data": {
      "text/plain": [
       "\"i, me, my, myself, we, our, ours, ourselves, you, you're, you've, you'll, you'd, your, yours, yourself, yourselves, he, him, his, himself, she, she's, her, hers, herself, it, it's, its, itself, they, them, their, theirs, themselves, what, which, who, whom, this, that, that'll, these, those, am, is, are, was, were, be, been, being, have, has, had, having, do, does, did, doing, a, an, the, and, but, if, or, because, as, until, while, of, at, by, for, with, about, against, between, into, through, during, before, after, above, below, to, from, up, down, in, out, on, off, over, under, again, further, then, once, here, there, when, where, why, how, all, any, both, each, few, more, most, other, some, such, no, nor, not, only, own, same, so, than, too, very, s, t, can, will, just, don, don't, should, should've, now, d, ll, m, o, re, ve, y, ain, aren, aren't, couldn, couldn't, didn, didn't, doesn, doesn't, hadn, hadn't, hasn, hasn't, haven, haven't, isn, isn't, ma, mightn, mightn't, mustn, mustn't, needn, needn't, shan, shan't, shouldn, shouldn't, wasn, wasn't, weren, weren't, won, won't, wouldn, wouldn't\""
      ]
     },
     "execution_count": 35,
     "metadata": {},
     "output_type": "execute_result"
    }
   ],
   "source": [
    "from nltk.corpus import stopwords\n",
    "\", \".join(stopwords.words('english'))"
   ]
  },
  {
   "cell_type": "code",
   "execution_count": 36,
   "metadata": {
    "colab": {},
    "colab_type": "code",
    "id": "AD2sAgGts_fM"
   },
   "outputs": [],
   "source": [
    "STOPWORDS = set(stopwords.words('english'))"
   ]
  },
  {
   "cell_type": "code",
   "execution_count": 37,
   "metadata": {
    "colab": {},
    "colab_type": "code",
    "id": "_SItfEXBtEHH"
   },
   "outputs": [],
   "source": [
    "def remove_stopwords(text):\n",
    "    return \" \".join([word for word in str(text).split() if word not in STOPWORDS])"
   ]
  },
  {
   "cell_type": "code",
   "execution_count": 38,
   "metadata": {
    "colab": {},
    "colab_type": "code",
    "id": "0ZGzy4sIkk6H"
   },
   "outputs": [],
   "source": [
    "twitter_data['tweets'] = twitter_data['tweets'].apply(lambda text: remove_stopwords(text))"
   ]
  },
  {
   "cell_type": "code",
   "execution_count": 39,
   "metadata": {
    "colab": {
     "base_uri": "https://localhost:8080/",
     "height": 204
    },
    "colab_type": "code",
    "id": "1NKwFXowtTFW",
    "outputId": "4c5abecb-8e82-42fe-b343-21452876e517"
   },
   "outputs": [
    {
     "data": {
      "text/plain": [
       "0    @theRealKiyosaki 😮 hold Kiyosaki, I've learnin...\n",
       "1    may know, United States 1.5 million janseen Ne...\n",
       "2            @thehill Janseen; like.. fuck, baby fuck!\n",
       "3    @Schellebelle76 @SimonCalder @LBC Ahh yes thin...\n",
       "4    COVID-19 Delivered Philippines September 18, 2...\n",
       "5    @craigsfire @MaxNordau Regeron report 2.59 fed...\n",
       "6    Hey, I'm old Adult, stroke survivor, light occ...\n",
       "7    @EricTopol @CDCMMWR Janseen Ab response even w...\n",
       "8    @brigade_health Didn’t ever wonder Johnson Joh...\n",
       "9    @1NewsNZ The covid like get Polio measles mump...\n",
       "Name: tweets, dtype: object"
      ]
     },
     "execution_count": 39,
     "metadata": {},
     "output_type": "execute_result"
    }
   ],
   "source": [
    "twitter_data['tweets'].head(10)"
   ]
  },
  {
   "cell_type": "markdown",
   "metadata": {
    "colab_type": "text",
    "id": "KuoE59q12wMI"
   },
   "source": [
    "Removal of unwanted Emojis"
   ]
  },
  {
   "cell_type": "code",
   "execution_count": 40,
   "metadata": {
    "colab": {},
    "colab_type": "code",
    "id": "IWZjeM1_ivRs"
   },
   "outputs": [],
   "source": [
    "def remove_emoji(string):\n",
    "    emoji_pattern = re.compile(\"[\"\n",
    "                           u\"\\U0001F600-\\U0001F64F\"  \n",
    "                           u\"\\U0001F300-\\U0001F5FF\"  \n",
    "                           u\"\\U0001F680-\\U0001F6FF\" \n",
    "                           u\"\\U0001F1E0-\\U0001F1FF\" \n",
    "                           u\"\\U00002702-\\U000027B0\"\n",
    "                           u\"\\U000024C2-\\U0001F251\"\n",
    "                           \"]+\", flags=re.UNICODE)\n",
    "    return emoji_pattern.sub(r'', string)"
   ]
  },
  {
   "cell_type": "code",
   "execution_count": 41,
   "metadata": {
    "colab": {},
    "colab_type": "code",
    "id": "HfG002nn3WG_"
   },
   "outputs": [],
   "source": [
    "twitter_data['tweets'] = twitter_data['tweets'].apply(lambda text: remove_emoji(text))"
   ]
  },
  {
   "cell_type": "code",
   "execution_count": 42,
   "metadata": {
    "colab": {
     "base_uri": "https://localhost:8080/",
     "height": 119
    },
    "colab_type": "code",
    "id": "kKHpsZO33ZRs",
    "outputId": "80f251ee-a060-4358-8188-5d237af75672"
   },
   "outputs": [
    {
     "data": {
      "text/plain": [
       "0    @theRealKiyosaki  hold Kiyosaki, I've learning...\n",
       "1    may know, United States 1.5 million janseen Ne...\n",
       "2            @thehill Janseen; like.. fuck, baby fuck!\n",
       "3    @Schellebelle76 @SimonCalder @LBC Ahh yes thin...\n",
       "4    COVID-19 Delivered Philippines September 18, 2...\n",
       "Name: tweets, dtype: object"
      ]
     },
     "execution_count": 42,
     "metadata": {},
     "output_type": "execute_result"
    }
   ],
   "source": [
    "twitter_data['tweets'].head(5)"
   ]
  },
  {
   "cell_type": "markdown",
   "metadata": {
    "colab_type": "text",
    "id": "spVB5jOq6H7e"
   },
   "source": [
    "********** Converting Emoticons to Words"
   ]
  },
  {
   "cell_type": "code",
   "execution_count": 43,
   "metadata": {
    "colab": {},
    "colab_type": "code",
    "id": "2U3uAgLp4O3O"
   },
   "outputs": [],
   "source": [
    "import emoji"
   ]
  },
  {
   "cell_type": "markdown",
   "metadata": {
    "colab_type": "text",
    "id": "wTKqkr7W5vay"
   },
   "source": [
    "*** Defining Emoticons"
   ]
  },
  {
   "cell_type": "code",
   "execution_count": 44,
   "metadata": {
    "colab": {},
    "colab_type": "code",
    "id": "ojdV1n8X5upq"
   },
   "outputs": [],
   "source": [
    "EMOTICONS = {\n",
    "    u\":‑\\)\":\"Happy face or smiley\",\n",
    "    u\":\\)\":\"Happy face or smiley\",\n",
    "    u\":-\\]\":\"Happy face or smiley\",\n",
    "    u\":\\]\":\"Happy face or smiley\",\n",
    "    u\":-3\":\"Happy face smiley\",\n",
    "    u\":3\":\"Happy face smiley\",\n",
    "    u\":->\":\"Happy face smiley\",\n",
    "    u\":>\":\"Happy face smiley\",\n",
    "    u\"8-\\)\":\"Happy face smiley\",\n",
    "    u\":o\\)\":\"Happy face smiley\",\n",
    "    u\":-\\}\":\"Happy face smiley\",\n",
    "    u\":\\}\":\"Happy face smiley\",\n",
    "    u\":-\\)\":\"Happy face smiley\",\n",
    "    u\":c\\)\":\"Happy face smiley\",\n",
    "    u\":\\^\\)\":\"Happy face smiley\",\n",
    "    u\"=\\]\":\"Happy face smiley\",\n",
    "    u\"=\\)\":\"Happy face smiley\",\n",
    "    u\":‑D\":\"Laughing, big grin or laugh with glasses\",\n",
    "    u\":D\":\"Laughing, big grin or laugh with glasses\",\n",
    "    u\"8‑D\":\"Laughing, big grin or laugh with glasses\",\n",
    "    u\"8D\":\"Laughing, big grin or laugh with glasses\",\n",
    "    u\"X‑D\":\"Laughing, big grin or laugh with glasses\",\n",
    "    u\"XD\":\"Laughing, big grin or laugh with glasses\",\n",
    "    u\"=D\":\"Laughing, big grin or laugh with glasses\",\n",
    "    u\"=3\":\"Laughing, big grin or laugh with glasses\",\n",
    "    u\"B\\^D\":\"Laughing, big grin or laugh with glasses\",\n",
    "    u\":-\\)\\)\":\"Very happy\",\n",
    "    u\":‑\\(\":\"Frown, sad, andry or pouting\",\n",
    "    u\":-\\(\":\"Frown, sad, andry or pouting\",\n",
    "    u\":\\(\":\"Frown, sad, andry or pouting\",\n",
    "    u\":‑c\":\"Frown, sad, andry or pouting\",\n",
    "    u\":c\":\"Frown, sad, andry or pouting\",\n",
    "    u\":‑<\":\"Frown, sad, andry or pouting\",\n",
    "    u\":<\":\"Frown, sad, andry or pouting\",\n",
    "    u\":‑\\[\":\"Frown, sad, andry or pouting\",\n",
    "    u\":\\[\":\"Frown, sad, andry or pouting\",\n",
    "    u\":-\\|\\|\":\"Frown, sad, andry or pouting\",\n",
    "    u\">:\\[\":\"Frown, sad, andry or pouting\",\n",
    "    u\":\\{\":\"Frown, sad, andry or pouting\",\n",
    "    u\":@\":\"Frown, sad, andry or pouting\",\n",
    "    u\">:\\(\":\"Frown, sad, andry or pouting\",\n",
    "    u\":'‑\\(\":\"Crying\",\n",
    "    u\":'\\(\":\"Crying\",\n",
    "    u\":'‑\\)\":\"Tears of happiness\",\n",
    "    u\":'\\)\":\"Tears of happiness\",\n",
    "    u\"D‑':\":\"Horror\",\n",
    "    u\"D:<\":\"Disgust\",\n",
    "    u\"D:\":\"Sadness\",\n",
    "    u\"D8\":\"Great dismay\",\n",
    "    u\"D;\":\"Great dismay\",\n",
    "    u\"D=\":\"Great dismay\",\n",
    "    u\"DX\":\"Great dismay\",\n",
    "    u\":‑O\":\"Surprise\",\n",
    "    u\":O\":\"Surprise\",\n",
    "    u\":‑o\":\"Surprise\",\n",
    "    u\":o\":\"Surprise\",\n",
    "    u\":-0\":\"Shock\",\n",
    "    u\"8‑0\":\"Yawn\",\n",
    "    u\">:O\":\"Yawn\",\n",
    "    u\":-\\*\":\"Kiss\",\n",
    "    u\":\\*\":\"Kiss\",\n",
    "    u\":X\":\"Kiss\",\n",
    "    u\";‑\\)\":\"Wink or smirk\",\n",
    "    u\";\\)\":\"Wink or smirk\",\n",
    "    u\"\\*-\\)\":\"Wink or smirk\",\n",
    "    u\"\\*\\)\":\"Wink or smirk\",\n",
    "    u\";‑\\]\":\"Wink or smirk\",\n",
    "    u\";\\]\":\"Wink or smirk\",\n",
    "    u\";\\^\\)\":\"Wink or smirk\",\n",
    "    u\":‑,\":\"Wink or smirk\",\n",
    "    u\";D\":\"Wink or smirk\",\n",
    "    u\":‑P\":\"Tongue sticking out, cheeky, playful or blowing a raspberry\",\n",
    "    u\":P\":\"Tongue sticking out, cheeky, playful or blowing a raspberry\",\n",
    "    u\"X‑P\":\"Tongue sticking out, cheeky, playful or blowing a raspberry\",\n",
    "    u\"XP\":\"Tongue sticking out, cheeky, playful or blowing a raspberry\",\n",
    "    u\":‑Þ\":\"Tongue sticking out, cheeky, playful or blowing a raspberry\",\n",
    "    u\":Þ\":\"Tongue sticking out, cheeky, playful or blowing a raspberry\",\n",
    "    u\":b\":\"Tongue sticking out, cheeky, playful or blowing a raspberry\",\n",
    "    u\"d:\":\"Tongue sticking out, cheeky, playful or blowing a raspberry\",\n",
    "    u\"=p\":\"Tongue sticking out, cheeky, playful or blowing a raspberry\",\n",
    "    u\">:P\":\"Tongue sticking out, cheeky, playful or blowing a raspberry\",\n",
    "    u\":‑/\":\"Skeptical, annoyed, undecided, uneasy or hesitant\",\n",
    "    u\":/\":\"Skeptical, annoyed, undecided, uneasy or hesitant\",\n",
    "    u\":-[.]\":\"Skeptical, annoyed, undecided, uneasy or hesitant\",\n",
    "    u\">:[(\\\\\\)]\":\"Skeptical, annoyed, undecided, uneasy or hesitant\",\n",
    "    u\">:/\":\"Skeptical, annoyed, undecided, uneasy or hesitant\",\n",
    "    u\":[(\\\\\\)]\":\"Skeptical, annoyed, undecided, uneasy or hesitant\",\n",
    "    u\"=/\":\"Skeptical, annoyed, undecided, uneasy or hesitant\",\n",
    "    u\"=[(\\\\\\)]\":\"Skeptical, annoyed, undecided, uneasy or hesitant\",\n",
    "    u\":L\":\"Skeptical, annoyed, undecided, uneasy or hesitant\",\n",
    "    u\"=L\":\"Skeptical, annoyed, undecided, uneasy or hesitant\",\n",
    "    u\":S\":\"Skeptical, annoyed, undecided, uneasy or hesitant\",\n",
    "    u\":‑\\|\":\"Straight face\",\n",
    "    u\":\\|\":\"Straight face\",\n",
    "    u\":$\":\"Embarrassed or blushing\",\n",
    "    u\":‑x\":\"Sealed lips or wearing braces or tongue-tied\",\n",
    "    u\":x\":\"Sealed lips or wearing braces or tongue-tied\",\n",
    "    u\":‑#\":\"Sealed lips or wearing braces or tongue-tied\",\n",
    "    u\":#\":\"Sealed lips or wearing braces or tongue-tied\",\n",
    "    u\":‑&\":\"Sealed lips or wearing braces or tongue-tied\",\n",
    "    u\":&\":\"Sealed lips or wearing braces or tongue-tied\",\n",
    "    u\"O:‑\\)\":\"Angel, saint or innocent\",\n",
    "    u\"O:\\)\":\"Angel, saint or innocent\",\n",
    "    u\"0:‑3\":\"Angel, saint or innocent\",\n",
    "    u\"0:3\":\"Angel, saint or innocent\",\n",
    "    u\"0:‑\\)\":\"Angel, saint or innocent\",\n",
    "    u\"0:\\)\":\"Angel, saint or innocent\",\n",
    "    u\":‑b\":\"Tongue sticking out, cheeky, playful or blowing a raspberry\",\n",
    "    u\"0;\\^\\)\":\"Angel, saint or innocent\",\n",
    "    u\">:‑\\)\":\"Evil or devilish\",\n",
    "    u\">:\\)\":\"Evil or devilish\",\n",
    "    u\"\\}:‑\\)\":\"Evil or devilish\",\n",
    "    u\"\\}:\\)\":\"Evil or devilish\",\n",
    "    u\"3:‑\\)\":\"Evil or devilish\",\n",
    "    u\"3:\\)\":\"Evil or devilish\",\n",
    "    u\">;\\)\":\"Evil or devilish\",\n",
    "    u\"\\|;‑\\)\":\"Cool\",\n",
    "    u\"\\|‑O\":\"Bored\",\n",
    "    u\":‑J\":\"Tongue-in-cheek\",\n",
    "    u\"#‑\\)\":\"Party all night\",\n",
    "    u\"%‑\\)\":\"Drunk or confused\",\n",
    "    u\"%\\)\":\"Drunk or confused\",\n",
    "    u\":-###..\":\"Being sick\",\n",
    "    u\":###..\":\"Being sick\",\n",
    "    u\"<:‑\\|\":\"Dump\",\n",
    "    u\"\\(>_<\\)\":\"Troubled\",\n",
    "    u\"\\(>_<\\)>\":\"Troubled\",\n",
    "    u\"\\(';'\\)\":\"Baby\",\n",
    "    u\"\\(\\^\\^>``\":\"Nervous or Embarrassed or Troubled or Shy or Sweat drop\",\n",
    "    u\"\\(\\^_\\^;\\)\":\"Nervous or Embarrassed or Troubled or Shy or Sweat drop\",\n",
    "    u\"\\(-_-;\\)\":\"Nervous or Embarrassed or Troubled or Shy or Sweat drop\",\n",
    "    u\"\\(~_~;\\) \\(・\\.・;\\)\":\"Nervous or Embarrassed or Troubled or Shy or Sweat drop\",\n",
    "    u\"\\(-_-\\)zzz\":\"Sleeping\",\n",
    "    u\"\\(\\^_-\\)\":\"Wink\",\n",
    "    u\"\\(\\(\\+_\\+\\)\\)\":\"Confused\",\n",
    "    u\"\\(\\+o\\+\\)\":\"Confused\",\n",
    "    u\"\\(o\\|o\\)\":\"Ultraman\",\n",
    "    u\"\\^_\\^\":\"Joyful\",\n",
    "    u\"\\(\\^_\\^\\)/\":\"Joyful\",\n",
    "    u\"\\(\\^O\\^\\)／\":\"Joyful\",\n",
    "    u\"\\(\\^o\\^\\)／\":\"Joyful\",\n",
    "    u\"\\(__\\)\":\"Kowtow as a sign of respect, or dogeza for apology\",\n",
    "    u\"_\\(\\._\\.\\)_\":\"Kowtow as a sign of respect, or dogeza for apology\",\n",
    "    u\"<\\(_ _\\)>\":\"Kowtow as a sign of respect, or dogeza for apology\",\n",
    "    u\"<m\\(__\\)m>\":\"Kowtow as a sign of respect, or dogeza for apology\",\n",
    "    u\"m\\(__\\)m\":\"Kowtow as a sign of respect, or dogeza for apology\",\n",
    "    u\"m\\(_ _\\)m\":\"Kowtow as a sign of respect, or dogeza for apology\",\n",
    "    u\"\\('_'\\)\":\"Sad or Crying\",\n",
    "    u\"\\(/_;\\)\":\"Sad or Crying\",\n",
    "    u\"\\(T_T\\) \\(;_;\\)\":\"Sad or Crying\",\n",
    "    u\"\\(;_;\":\"Sad of Crying\",\n",
    "    u\"\\(;_:\\)\":\"Sad or Crying\",\n",
    "    u\"\\(;O;\\)\":\"Sad or Crying\",\n",
    "    u\"\\(:_;\\)\":\"Sad or Crying\",\n",
    "    u\"\\(ToT\\)\":\"Sad or Crying\",\n",
    "    u\";_;\":\"Sad or Crying\",\n",
    "    u\";-;\":\"Sad or Crying\",\n",
    "    u\";n;\":\"Sad or Crying\",\n",
    "    u\";;\":\"Sad or Crying\",\n",
    "    u\"Q\\.Q\":\"Sad or Crying\",\n",
    "    u\"T\\.T\":\"Sad or Crying\",\n",
    "    u\"QQ\":\"Sad or Crying\",\n",
    "    u\"Q_Q\":\"Sad or Crying\",\n",
    "    u\"\\(-\\.-\\)\":\"Shame\",\n",
    "    u\"\\(-_-\\)\":\"Shame\",\n",
    "    u\"\\(一一\\)\":\"Shame\",\n",
    "    u\"\\(；一_一\\)\":\"Shame\",\n",
    "    u\"\\(=_=\\)\":\"Tired\",\n",
    "    u\"\\(=\\^\\·\\^=\\)\":\"cat\",\n",
    "    u\"\\(=\\^\\·\\·\\^=\\)\":\"cat\",\n",
    "    u\"=_\\^=\t\":\"cat\",\n",
    "    u\"\\(\\.\\.\\)\":\"Looking down\",\n",
    "    u\"\\(\\._\\.\\)\":\"Looking down\",\n",
    "    u\"\\^m\\^\":\"Giggling with hand covering mouth\",\n",
    "    u\"\\(\\・\\・?\":\"Confusion\",\n",
    "    u\"\\(?_?\\)\":\"Confusion\",\n",
    "    u\">\\^_\\^<\":\"Normal Laugh\",\n",
    "    u\"<\\^!\\^>\":\"Normal Laugh\",\n",
    "    u\"\\^/\\^\":\"Normal Laugh\",\n",
    "    u\"\\（\\*\\^_\\^\\*）\" :\"Normal Laugh\",\n",
    "    u\"\\(\\^<\\^\\) \\(\\^\\.\\^\\)\":\"Normal Laugh\",\n",
    "    u\"\\(^\\^\\)\":\"Normal Laugh\",\n",
    "    u\"\\(\\^\\.\\^\\)\":\"Normal Laugh\",\n",
    "    u\"\\(\\^_\\^\\.\\)\":\"Normal Laugh\",\n",
    "    u\"\\(\\^_\\^\\)\":\"Normal Laugh\",\n",
    "    u\"\\(\\^\\^\\)\":\"Normal Laugh\",\n",
    "    u\"\\(\\^J\\^\\)\":\"Normal Laugh\",\n",
    "    u\"\\(\\*\\^\\.\\^\\*\\)\":\"Normal Laugh\",\n",
    "    u\"\\(\\^—\\^\\）\":\"Normal Laugh\",\n",
    "    u\"\\(#\\^\\.\\^#\\)\":\"Normal Laugh\",\n",
    "    u\"\\（\\^—\\^\\）\":\"Waving\",\n",
    "    u\"\\(;_;\\)/~~~\":\"Waving\",\n",
    "    u\"\\(\\^\\.\\^\\)/~~~\":\"Waving\",\n",
    "    u\"\\(-_-\\)/~~~ \\($\\·\\·\\)/~~~\":\"Waving\",\n",
    "    u\"\\(T_T\\)/~~~\":\"Waving\",\n",
    "    u\"\\(ToT\\)/~~~\":\"Waving\",\n",
    "    u\"\\(\\*\\^0\\^\\*\\)\":\"Excited\",\n",
    "    u\"\\(\\*_\\*\\)\":\"Amazed\",\n",
    "    u\"\\(\\*_\\*;\":\"Amazed\",\n",
    "    u\"\\(\\+_\\+\\) \\(@_@\\)\":\"Amazed\",\n",
    "    u\"\\(\\*\\^\\^\\)v\":\"Laughing,Cheerful\",\n",
    "    u\"\\(\\^_\\^\\)v\":\"Laughing,Cheerful\",\n",
    "    u\"\\(\\(d[-_-]b\\)\\)\":\"Headphones,Listening to music\",\n",
    "    u'\\(-\"-\\)':\"Worried\",\n",
    "    u\"\\(ーー;\\)\":\"Worried\",\n",
    "    u\"\\(\\^0_0\\^\\)\":\"Eyeglasses\",\n",
    "    u\"\\(\\＾ｖ\\＾\\)\":\"Happy\",\n",
    "    u\"\\(\\＾ｕ\\＾\\)\":\"Happy\",\n",
    "    u\"\\(\\^\\)o\\(\\^\\)\":\"Happy\",\n",
    "    u\"\\(\\^O\\^\\)\":\"Happy\",\n",
    "    u\"\\(\\^o\\^\\)\":\"Happy\",\n",
    "    u\"\\)\\^o\\^\\(\":\"Happy\",\n",
    "    u\":O o_O\":\"Surprised\",\n",
    "    u\"o_0\":\"Surprised\",\n",
    "    u\"o\\.O\":\"Surpised\",\n",
    "    u\"\\(o\\.o\\)\":\"Surprised\",\n",
    "    u\"oO\":\"Surprised\",\n",
    "    u\"\\(\\*￣m￣\\)\":\"Dissatisfied\",\n",
    "    u\"\\(‘A`\\)\":\"Snubbed or Deflated\"\n",
    "}"
   ]
  },
  {
   "cell_type": "code",
   "execution_count": 45,
   "metadata": {
    "colab": {},
    "colab_type": "code",
    "id": "4bxCxRf26AeW"
   },
   "outputs": [],
   "source": [
    "def convert_emoticons(text):\n",
    "    for emot in EMOTICONS:\n",
    "        text = re.sub(u'('+emot+')', \"_\".join(EMOTICONS[emot].replace(\",\",\"\").split()), text)\n",
    "    return text"
   ]
  },
  {
   "cell_type": "code",
   "execution_count": 46,
   "metadata": {
    "colab": {},
    "colab_type": "code",
    "id": "sssDKayq6L8X"
   },
   "outputs": [],
   "source": [
    "twitter_data['tweets'] = twitter_data['tweets'].apply(lambda text: convert_emoticons(text))"
   ]
  },
  {
   "cell_type": "code",
   "execution_count": 47,
   "metadata": {
    "colab": {
     "base_uri": "https://localhost:8080/",
     "height": 119
    },
    "colab_type": "code",
    "id": "uUVOafjJiLZP",
    "outputId": "6c3d02b6-69cb-4724-fb1a-4c7e390d03ed"
   },
   "outputs": [
    {
     "data": {
      "text/plain": [
       "0    @theRealKiyosaki  hold Kiyosaki, I've learning...\n",
       "1    may know, United States 1.5 million janseen Ne...\n",
       "2            @thehill Janseen; like.. fuck, baby fuck!\n",
       "3    @Schellebelle76 @SimonCalder @LBC Ahh yes thin...\n",
       "4    COVID-19 Delivered Philippines September 18, 2...\n",
       "Name: tweets, dtype: object"
      ]
     },
     "execution_count": 47,
     "metadata": {},
     "output_type": "execute_result"
    }
   ],
   "source": [
    "twitter_data['tweets'].head(5)"
   ]
  },
  {
   "cell_type": "markdown",
   "metadata": {
    "colab_type": "text",
    "id": "3xMEC2pgCuGe"
   },
   "source": [
    "Converting Chat Words"
   ]
  },
  {
   "cell_type": "markdown",
   "metadata": {
    "colab_type": "text",
    "id": "U-dJ77jxC1Mr"
   },
   "source": [
    "**** Defining the Dictionary"
   ]
  },
  {
   "cell_type": "code",
   "execution_count": 48,
   "metadata": {
    "colab": {},
    "colab_type": "code",
    "id": "Ytby70V_-SfU"
   },
   "outputs": [],
   "source": [
    "chat_words_str = \"\"\"\n",
    "AFAIK=As Far As I Know\n",
    "AFK=Away From Keyboard\n",
    "ASAP=As Soon As Possible\n",
    "ATK=At The Keyboard\n",
    "ATM=At The Moment\n",
    "A3=Anytime, Anywhere, Anyplace\n",
    "BAK=Back At Keyboard\n",
    "BBL=Be Back Later\n",
    "BBS=Be Back Soon\n",
    "BFN=Bye For Now\n",
    "B4N=Bye For Now\n",
    "BRB=Be Right Back\n",
    "BRT=Be Right There\n",
    "BTW=By The Way\n",
    "B4=Before\n",
    "B4N=Bye For Now\n",
    "CU=See You\n",
    "CUL8R=See You Later\n",
    "CYA=See You\n",
    "FAQ=Frequently Asked Questions\n",
    "FC=Fingers Crossed\n",
    "FWIW=For What It's Worth\n",
    "FYI=For Your Information\n",
    "GAL=Get A Life\n",
    "GG=Good Game\n",
    "GN=Good Night\n",
    "GMTA=Great Minds Think Alike\n",
    "GR8=Great!\n",
    "G9=Genius\n",
    "IC=I See\n",
    "ICQ=I Seek you (also a chat program)\n",
    "ILU=ILU: I Love You\n",
    "IMHO=In My Honest/Humble Opinion\n",
    "IMO=In My Opinion\n",
    "IOW=In Other Words\n",
    "IRL=In Real Life\n",
    "KISS=Keep It Simple, Stupid\n",
    "LDR=Long Distance Relationship\n",
    "LMAO=Laugh My A.. Off\n",
    "LOL=Laughing Out Loud\n",
    "LTNS=Long Time No See\n",
    "L8R=Later\n",
    "MTE=My Thoughts Exactly\n",
    "M8=Mate\n",
    "NRN=No Reply Necessary\n",
    "OIC=Oh I See\n",
    "PITA=Pain In The A..\n",
    "PRT=Party\n",
    "PRW=Parents Are Watching\n",
    "ROFL=Rolling On The Floor Laughing\n",
    "ROFLOL=Rolling On The Floor Laughing Out Loud\n",
    "ROTFLMAO=Rolling On The Floor Laughing My A.. Off\n",
    "SK8=Skate\n",
    "STATS=Your sex and age\n",
    "ASL=Age, Sex, Location\n",
    "THX=Thank You\n",
    "TTFN=Ta-Ta For Now!\n",
    "TTYL=Talk To You Later\n",
    "U=You\n",
    "U2=You Too\n",
    "U4E=Yours For Ever\n",
    "WB=Welcome Back\n",
    "WTF=What The F...\n",
    "WTG=Way To Go!\n",
    "WUF=Where Are You From?\n",
    "W8=Wait...\n",
    "7K=Sick:-D Laugher\n",
    "\"\"\""
   ]
  },
  {
   "cell_type": "code",
   "execution_count": 49,
   "metadata": {
    "colab": {},
    "colab_type": "code",
    "id": "7GBMcM6_Ctg0"
   },
   "outputs": [],
   "source": [
    "chat_words_map_dict = {}\n",
    "chat_words_list = []"
   ]
  },
  {
   "cell_type": "code",
   "execution_count": 50,
   "metadata": {
    "colab": {},
    "colab_type": "code",
    "id": "cIONMkHTDFjJ"
   },
   "outputs": [],
   "source": [
    "for line in chat_words_str.split(\"\\n\"):\n",
    "    if line != \"\":\n",
    "        cw = line.split(\"=\")[0]\n",
    "        cw_expanded = line.split(\"=\")[1]\n",
    "        chat_words_list.append(cw)\n",
    "        chat_words_map_dict[cw] = cw_expanded\n",
    "chat_words_list = set(chat_words_list)"
   ]
  },
  {
   "cell_type": "code",
   "execution_count": 51,
   "metadata": {
    "colab": {},
    "colab_type": "code",
    "id": "AoqCGk3zDJfa"
   },
   "outputs": [],
   "source": [
    "def chat_words_conversion(text):\n",
    "    new_text = []\n",
    "    for w in text.split():\n",
    "        if w.upper() in chat_words_list:\n",
    "            new_text.append(chat_words_map_dict[w.upper()])\n",
    "        else:\n",
    "            new_text.append(w)\n",
    "    return \" \".join(new_text)"
   ]
  },
  {
   "cell_type": "code",
   "execution_count": 52,
   "metadata": {
    "colab": {},
    "colab_type": "code",
    "id": "K6rKHkOEDakx"
   },
   "outputs": [],
   "source": [
    "twitter_data['tweets'] = twitter_data['tweets'].apply(lambda text: chat_words_conversion(text))"
   ]
  },
  {
   "cell_type": "code",
   "execution_count": 53,
   "metadata": {
    "colab": {
     "base_uri": "https://localhost:8080/",
     "height": 204
    },
    "colab_type": "code",
    "id": "XICVlv0b-FHq",
    "outputId": "ba8fc7a6-f174-4df4-dce4-3959be8f2c04"
   },
   "outputs": [
    {
     "data": {
      "text/plain": [
       "0    @theRealKiyosaki hold Kiyosaki, I've learning....\n",
       "1    may know, United States 1.5 million janseen Ne...\n",
       "2            @thehill Janseen; like.. fuck, baby fuck!\n",
       "3    @Schellebelle76 @SimonCalder @LBC Ahh yes thin...\n",
       "4    COVID-19 Delivered Philippines September 18, 2...\n",
       "5    @craigsfire @MaxNordau Regeron report 2.59 fed...\n",
       "6    Hey, I'm old Adult, stroke survivor, light occ...\n",
       "7    @EricTopol @CDCMMWR Janseen Ab response even w...\n",
       "8    @brigade_health Didn’t ever wonder Johnson Joh...\n",
       "9    @1NewsNZ The covid like get Polio measles mump...\n",
       "Name: tweets, dtype: object"
      ]
     },
     "execution_count": 53,
     "metadata": {},
     "output_type": "execute_result"
    }
   ],
   "source": [
    "twitter_data['tweets'].head(10)"
   ]
  },
  {
   "cell_type": "markdown",
   "metadata": {
    "colab_type": "text",
    "id": "tLNtiEqSHS7K"
   },
   "source": [
    "Some more Cleansing using RE Library"
   ]
  },
  {
   "cell_type": "code",
   "execution_count": 54,
   "metadata": {
    "colab": {},
    "colab_type": "code",
    "id": "BCTvkqKiHJzy"
   },
   "outputs": [],
   "source": [
    "def clean_text(text):\n",
    "    text = re.sub(r'[^a-zA-Z\\']', ' ', text)\n",
    "    text = re.sub(r'[^\\x00-\\x7F]+', ' ', text)\n",
    "    text = text.lower()       \n",
    "    return text"
   ]
  },
  {
   "cell_type": "code",
   "execution_count": 55,
   "metadata": {
    "colab": {},
    "colab_type": "code",
    "id": "WVGaFwOdHaqu"
   },
   "outputs": [],
   "source": [
    "twitter_data['tweets'] = twitter_data['tweets'].apply(lambda text: clean_text(text))"
   ]
  },
  {
   "cell_type": "code",
   "execution_count": 56,
   "metadata": {
    "colab": {
     "base_uri": "https://localhost:8080/",
     "height": 204
    },
    "colab_type": "code",
    "id": "Qw2ufygQHolY",
    "outputId": "c3e55ece-6920-4a24-d515-5a7d72b9f30a"
   },
   "outputs": [
    {
     "data": {
      "text/plain": [
       "0     therealkiyosaki hold kiyosaki  i've learning ...\n",
       "1    may know  united states     million janseen ne...\n",
       "2             thehill janseen  like   fuck  baby fuck \n",
       "3     schellebelle    simoncalder  lbc ahh yes thin...\n",
       "4    covid    delivered philippines september      ...\n",
       "5     craigsfire  maxnordau regeron report      fed...\n",
       "6    hey  i'm old adult  stroke survivor  light occ...\n",
       "7     erictopol  cdcmmwr janseen ab response even w...\n",
       "8     brigade health didn t ever wonder johnson joh...\n",
       "9      newsnz the covid like get polio measles mump...\n",
       "Name: tweets, dtype: object"
      ]
     },
     "execution_count": 56,
     "metadata": {},
     "output_type": "execute_result"
    }
   ],
   "source": [
    "twitter_data['tweets'].head(10)"
   ]
  },
  {
   "cell_type": "code",
   "execution_count": 57,
   "metadata": {
    "colab": {},
    "colab_type": "code",
    "id": "iphrT0DgFoma"
   },
   "outputs": [],
   "source": [
    "num_words = twitter_data['tweets'].apply(lambda x: len(x.split()))\n",
    "num_words_mean, num_words_std = np.mean(num_words), np.std(num_words)\n",
    "\n",
    "num_sentences = twitter_data['tweets'].apply(lambda x: len(re.split( '~ ...' ,'~'.join(x.split('.')))))\n",
    "num_sentences_mean = np.mean(num_sentences)"
   ]
  },
  {
   "cell_type": "markdown",
   "metadata": {
    "colab_type": "text",
    "id": "_ibLx34moTWx"
   },
   "source": [
    "Remove extra spaces and Words less than 3 letters"
   ]
  },
  {
   "cell_type": "code",
   "execution_count": 58,
   "metadata": {
    "colab": {},
    "colab_type": "code",
    "id": "8IeJwB1ants9"
   },
   "outputs": [],
   "source": [
    "twitter_data['tweets'] = twitter_data['tweets'].str.replace(r'[ ]{2, }',r' ')\n",
    "twitter_data['tweets'] = twitter_data['tweets'].str.replace(r'\\b\\w{1,3}\\b', r'')"
   ]
  },
  {
   "cell_type": "code",
   "execution_count": 59,
   "metadata": {
    "colab": {
     "base_uri": "https://localhost:8080/",
     "height": 359
    },
    "colab_type": "code",
    "id": "olxxqWePIPD0",
    "outputId": "4420f2a1-8765-49a8-af1e-f82a72a9f98b"
   },
   "outputs": [
    {
     "data": {
      "text/html": [
       "<div>\n",
       "<style scoped>\n",
       "    .dataframe tbody tr th:only-of-type {\n",
       "        vertical-align: middle;\n",
       "    }\n",
       "\n",
       "    .dataframe tbody tr th {\n",
       "        vertical-align: top;\n",
       "    }\n",
       "\n",
       "    .dataframe thead th {\n",
       "        text-align: right;\n",
       "    }\n",
       "</style>\n",
       "<table border=\"1\" class=\"dataframe\">\n",
       "  <thead>\n",
       "    <tr style=\"text-align: right;\">\n",
       "      <th></th>\n",
       "      <th>Unnamed: 0</th>\n",
       "      <th>Id</th>\n",
       "      <th>Timestamp</th>\n",
       "      <th>Source</th>\n",
       "      <th>Retwwet_Count</th>\n",
       "      <th>User_Name</th>\n",
       "      <th>tweets</th>\n",
       "    </tr>\n",
       "  </thead>\n",
       "  <tbody>\n",
       "    <tr>\n",
       "      <th>0</th>\n",
       "      <td>0</td>\n",
       "      <td>1440697879782252556</td>\n",
       "      <td>2021-09-22 15:21:56</td>\n",
       "      <td>Twitter for iPhone</td>\n",
       "      <td>0</td>\n",
       "      <td>Janseen Acosta</td>\n",
       "      <td>therealkiyosaki hold kiyosaki  ' learning  th...</td>\n",
       "    </tr>\n",
       "    <tr>\n",
       "      <th>1</th>\n",
       "      <td>1</td>\n",
       "      <td>1440663105487314957</td>\n",
       "      <td>2021-09-22 13:03:45</td>\n",
       "      <td>Twitter for Android</td>\n",
       "      <td>0</td>\n",
       "      <td>Chandan Khatri</td>\n",
       "      <td>know  united states     million janseen nepal...</td>\n",
       "    </tr>\n",
       "    <tr>\n",
       "      <th>2</th>\n",
       "      <td>2</td>\n",
       "      <td>1440336292357623808</td>\n",
       "      <td>2021-09-21 15:25:06</td>\n",
       "      <td>Twitter for iPhone</td>\n",
       "      <td>0</td>\n",
       "      <td>sam</td>\n",
       "      <td>thehill janseen  like   fuck  baby fuck</td>\n",
       "    </tr>\n",
       "    <tr>\n",
       "      <th>3</th>\n",
       "      <td>3</td>\n",
       "      <td>1439972267006603267</td>\n",
       "      <td>2021-09-20 15:18:36</td>\n",
       "      <td>Twitter for Android</td>\n",
       "      <td>0</td>\n",
       "      <td>RichS 35 🇪🇺🏳️‍🌈 RejoinEU FBPE FBPPR FBPA</td>\n",
       "      <td>schellebelle    simoncalder     think must ch...</td>\n",
       "    </tr>\n",
       "    <tr>\n",
       "      <th>4</th>\n",
       "      <td>4</td>\n",
       "      <td>1439414124283248640</td>\n",
       "      <td>2021-09-19 02:20:44</td>\n",
       "      <td>Twitter for Android</td>\n",
       "      <td>0</td>\n",
       "      <td>JM Torrecampo</td>\n",
       "      <td>covid    delivered philippines september      ...</td>\n",
       "    </tr>\n",
       "    <tr>\n",
       "      <th>5</th>\n",
       "      <td>5</td>\n",
       "      <td>1439381440861548553</td>\n",
       "      <td>2021-09-19 00:10:52</td>\n",
       "      <td>Twitter Web App</td>\n",
       "      <td>0</td>\n",
       "      <td>JobRoss</td>\n",
       "      <td>craigsfire  maxnordau regeron report      fed...</td>\n",
       "    </tr>\n",
       "    <tr>\n",
       "      <th>6</th>\n",
       "      <td>6</td>\n",
       "      <td>1438961828206456838</td>\n",
       "      <td>2021-09-17 20:23:29</td>\n",
       "      <td>Twitter Web App</td>\n",
       "      <td>0</td>\n",
       "      <td>Bill</td>\n",
       "      <td>'  adult  stroke survivor  light occasional ...</td>\n",
       "    </tr>\n",
       "    <tr>\n",
       "      <th>7</th>\n",
       "      <td>7</td>\n",
       "      <td>1438934359973588994</td>\n",
       "      <td>2021-09-17 18:34:20</td>\n",
       "      <td>Twitter Web App</td>\n",
       "      <td>0</td>\n",
       "      <td>Verónica Athié BSc MSc PhD</td>\n",
       "      <td>erictopol  cdcmmwr janseen  response even wor...</td>\n",
       "    </tr>\n",
       "    <tr>\n",
       "      <th>8</th>\n",
       "      <td>8</td>\n",
       "      <td>1438799459438170119</td>\n",
       "      <td>2021-09-17 09:38:17</td>\n",
       "      <td>Twitter Web App</td>\n",
       "      <td>0</td>\n",
       "      <td>CanadianGrandma</td>\n",
       "      <td>brigade health didn  ever wonder johnson john...</td>\n",
       "    </tr>\n",
       "    <tr>\n",
       "      <th>9</th>\n",
       "      <td>9</td>\n",
       "      <td>1438422024913891331</td>\n",
       "      <td>2021-09-16 08:38:29</td>\n",
       "      <td>Twitter Web App</td>\n",
       "      <td>0</td>\n",
       "      <td>Jennifer Gray</td>\n",
       "      <td>newsnz  covid like  polio measles mumps rube...</td>\n",
       "    </tr>\n",
       "  </tbody>\n",
       "</table>\n",
       "</div>"
      ],
      "text/plain": [
       "   Unnamed: 0                   Id            Timestamp               Source  \\\n",
       "0           0  1440697879782252556  2021-09-22 15:21:56   Twitter for iPhone   \n",
       "1           1  1440663105487314957  2021-09-22 13:03:45  Twitter for Android   \n",
       "2           2  1440336292357623808  2021-09-21 15:25:06   Twitter for iPhone   \n",
       "3           3  1439972267006603267  2021-09-20 15:18:36  Twitter for Android   \n",
       "4           4  1439414124283248640  2021-09-19 02:20:44  Twitter for Android   \n",
       "5           5  1439381440861548553  2021-09-19 00:10:52      Twitter Web App   \n",
       "6           6  1438961828206456838  2021-09-17 20:23:29      Twitter Web App   \n",
       "7           7  1438934359973588994  2021-09-17 18:34:20      Twitter Web App   \n",
       "8           8  1438799459438170119  2021-09-17 09:38:17      Twitter Web App   \n",
       "9           9  1438422024913891331  2021-09-16 08:38:29      Twitter Web App   \n",
       "\n",
       "   Retwwet_Count                                 User_Name  \\\n",
       "0              0                            Janseen Acosta   \n",
       "1              0                            Chandan Khatri   \n",
       "2              0                                       sam   \n",
       "3              0  RichS 35 🇪🇺🏳️‍🌈 RejoinEU FBPE FBPPR FBPA   \n",
       "4              0                             JM Torrecampo   \n",
       "5              0                                   JobRoss   \n",
       "6              0                                      Bill   \n",
       "7              0                Verónica Athié BSc MSc PhD   \n",
       "8              0                           CanadianGrandma   \n",
       "9              0                             Jennifer Gray   \n",
       "\n",
       "                                              tweets  \n",
       "0   therealkiyosaki hold kiyosaki  ' learning  th...  \n",
       "1   know  united states     million janseen nepal...  \n",
       "2           thehill janseen  like   fuck  baby fuck   \n",
       "3   schellebelle    simoncalder     think must ch...  \n",
       "4  covid    delivered philippines september      ...  \n",
       "5   craigsfire  maxnordau regeron report      fed...  \n",
       "6    '  adult  stroke survivor  light occasional ...  \n",
       "7   erictopol  cdcmmwr janseen  response even wor...  \n",
       "8   brigade health didn  ever wonder johnson john...  \n",
       "9    newsnz  covid like  polio measles mumps rube...  "
      ]
     },
     "execution_count": 59,
     "metadata": {},
     "output_type": "execute_result"
    }
   ],
   "source": [
    "twitter_data.head(10)"
   ]
  },
  {
   "cell_type": "code",
   "execution_count": 60,
   "metadata": {
    "colab": {
     "base_uri": "https://localhost:8080/",
     "height": 34
    },
    "colab_type": "code",
    "id": "3HNcgkqD_hei",
    "outputId": "5fb472a9-7142-478d-9aee-74591c44a316"
   },
   "outputs": [
    {
     "name": "stdout",
     "output_type": "stream",
     "text": [
      "(10, 8)\n"
     ]
    }
   ],
   "source": [
    "twitter_data['text_length'] = [len(text.split(' ')) for text in twitter_data.tweets]\n",
    "print(twitter_data.shape)"
   ]
  },
  {
   "cell_type": "markdown",
   "metadata": {
    "colab_type": "text",
    "id": "KTcf1h4f7RgM"
   },
   "source": [
    "Dropping texts with length <3 and drop duplicates"
   ]
  },
  {
   "cell_type": "code",
   "execution_count": 61,
   "metadata": {
    "colab": {
     "base_uri": "https://localhost:8080/",
     "height": 34
    },
    "colab_type": "code",
    "id": "HWtfB_FR_jp-",
    "outputId": "7724801a-e8ae-4905-ebf0-db80e723ffc5"
   },
   "outputs": [
    {
     "name": "stdout",
     "output_type": "stream",
     "text": [
      "(10, 8)\n"
     ]
    }
   ],
   "source": [
    "twitter_data = twitter_data[twitter_data['text_length']>2]\n",
    "twitter_data = twitter_data.drop_duplicates(subset=['tweets'])\n",
    "\n",
    "print(twitter_data.shape)"
   ]
  },
  {
   "cell_type": "code",
   "execution_count": 62,
   "metadata": {
    "colab": {
     "base_uri": "https://localhost:8080/",
     "height": 359
    },
    "colab_type": "code",
    "id": "lqj4LmaYELUR",
    "outputId": "9b4a75ed-a710-4b06-d2e5-9fd25b398cb6"
   },
   "outputs": [
    {
     "data": {
      "text/html": [
       "<div>\n",
       "<style scoped>\n",
       "    .dataframe tbody tr th:only-of-type {\n",
       "        vertical-align: middle;\n",
       "    }\n",
       "\n",
       "    .dataframe tbody tr th {\n",
       "        vertical-align: top;\n",
       "    }\n",
       "\n",
       "    .dataframe thead th {\n",
       "        text-align: right;\n",
       "    }\n",
       "</style>\n",
       "<table border=\"1\" class=\"dataframe\">\n",
       "  <thead>\n",
       "    <tr style=\"text-align: right;\">\n",
       "      <th></th>\n",
       "      <th>Unnamed: 0</th>\n",
       "      <th>Id</th>\n",
       "      <th>Timestamp</th>\n",
       "      <th>Source</th>\n",
       "      <th>Retwwet_Count</th>\n",
       "      <th>User_Name</th>\n",
       "      <th>tweets</th>\n",
       "      <th>text_length</th>\n",
       "    </tr>\n",
       "  </thead>\n",
       "  <tbody>\n",
       "    <tr>\n",
       "      <th>0</th>\n",
       "      <td>0</td>\n",
       "      <td>1440697879782252556</td>\n",
       "      <td>2021-09-22 15:21:56</td>\n",
       "      <td>Twitter for iPhone</td>\n",
       "      <td>0</td>\n",
       "      <td>Janseen Acosta</td>\n",
       "      <td>therealkiyosaki hold kiyosaki  ' learning  th...</td>\n",
       "      <td>15</td>\n",
       "    </tr>\n",
       "    <tr>\n",
       "      <th>1</th>\n",
       "      <td>1</td>\n",
       "      <td>1440663105487314957</td>\n",
       "      <td>2021-09-22 13:03:45</td>\n",
       "      <td>Twitter for Android</td>\n",
       "      <td>0</td>\n",
       "      <td>Chandan Khatri</td>\n",
       "      <td>know  united states     million janseen nepal...</td>\n",
       "      <td>26</td>\n",
       "    </tr>\n",
       "    <tr>\n",
       "      <th>2</th>\n",
       "      <td>2</td>\n",
       "      <td>1440336292357623808</td>\n",
       "      <td>2021-09-21 15:25:06</td>\n",
       "      <td>Twitter for iPhone</td>\n",
       "      <td>0</td>\n",
       "      <td>sam</td>\n",
       "      <td>thehill janseen  like   fuck  baby fuck</td>\n",
       "      <td>12</td>\n",
       "    </tr>\n",
       "    <tr>\n",
       "      <th>3</th>\n",
       "      <td>3</td>\n",
       "      <td>1439972267006603267</td>\n",
       "      <td>2021-09-20 15:18:36</td>\n",
       "      <td>Twitter for Android</td>\n",
       "      <td>0</td>\n",
       "      <td>RichS 35 🇪🇺🏳️‍🌈 RejoinEU FBPE FBPPR FBPA</td>\n",
       "      <td>schellebelle    simoncalder     think must ch...</td>\n",
       "      <td>38</td>\n",
       "    </tr>\n",
       "    <tr>\n",
       "      <th>4</th>\n",
       "      <td>4</td>\n",
       "      <td>1439414124283248640</td>\n",
       "      <td>2021-09-19 02:20:44</td>\n",
       "      <td>Twitter for Android</td>\n",
       "      <td>0</td>\n",
       "      <td>JM Torrecampo</td>\n",
       "      <td>covid    delivered philippines september      ...</td>\n",
       "      <td>105</td>\n",
       "    </tr>\n",
       "    <tr>\n",
       "      <th>5</th>\n",
       "      <td>5</td>\n",
       "      <td>1439381440861548553</td>\n",
       "      <td>2021-09-19 00:10:52</td>\n",
       "      <td>Twitter Web App</td>\n",
       "      <td>0</td>\n",
       "      <td>JobRoss</td>\n",
       "      <td>craigsfire  maxnordau regeron report      fed...</td>\n",
       "      <td>44</td>\n",
       "    </tr>\n",
       "    <tr>\n",
       "      <th>6</th>\n",
       "      <td>6</td>\n",
       "      <td>1438961828206456838</td>\n",
       "      <td>2021-09-17 20:23:29</td>\n",
       "      <td>Twitter Web App</td>\n",
       "      <td>0</td>\n",
       "      <td>Bill</td>\n",
       "      <td>'  adult  stroke survivor  light occasional ...</td>\n",
       "      <td>35</td>\n",
       "    </tr>\n",
       "    <tr>\n",
       "      <th>7</th>\n",
       "      <td>7</td>\n",
       "      <td>1438934359973588994</td>\n",
       "      <td>2021-09-17 18:34:20</td>\n",
       "      <td>Twitter Web App</td>\n",
       "      <td>0</td>\n",
       "      <td>Verónica Athié BSc MSc PhD</td>\n",
       "      <td>erictopol  cdcmmwr janseen  response even wor...</td>\n",
       "      <td>31</td>\n",
       "    </tr>\n",
       "    <tr>\n",
       "      <th>8</th>\n",
       "      <td>8</td>\n",
       "      <td>1438799459438170119</td>\n",
       "      <td>2021-09-17 09:38:17</td>\n",
       "      <td>Twitter Web App</td>\n",
       "      <td>0</td>\n",
       "      <td>CanadianGrandma</td>\n",
       "      <td>brigade health didn  ever wonder johnson john...</td>\n",
       "      <td>32</td>\n",
       "    </tr>\n",
       "    <tr>\n",
       "      <th>9</th>\n",
       "      <td>9</td>\n",
       "      <td>1438422024913891331</td>\n",
       "      <td>2021-09-16 08:38:29</td>\n",
       "      <td>Twitter Web App</td>\n",
       "      <td>0</td>\n",
       "      <td>Jennifer Gray</td>\n",
       "      <td>newsnz  covid like  polio measles mumps rube...</td>\n",
       "      <td>28</td>\n",
       "    </tr>\n",
       "  </tbody>\n",
       "</table>\n",
       "</div>"
      ],
      "text/plain": [
       "   Unnamed: 0                   Id            Timestamp               Source  \\\n",
       "0           0  1440697879782252556  2021-09-22 15:21:56   Twitter for iPhone   \n",
       "1           1  1440663105487314957  2021-09-22 13:03:45  Twitter for Android   \n",
       "2           2  1440336292357623808  2021-09-21 15:25:06   Twitter for iPhone   \n",
       "3           3  1439972267006603267  2021-09-20 15:18:36  Twitter for Android   \n",
       "4           4  1439414124283248640  2021-09-19 02:20:44  Twitter for Android   \n",
       "5           5  1439381440861548553  2021-09-19 00:10:52      Twitter Web App   \n",
       "6           6  1438961828206456838  2021-09-17 20:23:29      Twitter Web App   \n",
       "7           7  1438934359973588994  2021-09-17 18:34:20      Twitter Web App   \n",
       "8           8  1438799459438170119  2021-09-17 09:38:17      Twitter Web App   \n",
       "9           9  1438422024913891331  2021-09-16 08:38:29      Twitter Web App   \n",
       "\n",
       "   Retwwet_Count                                 User_Name  \\\n",
       "0              0                            Janseen Acosta   \n",
       "1              0                            Chandan Khatri   \n",
       "2              0                                       sam   \n",
       "3              0  RichS 35 🇪🇺🏳️‍🌈 RejoinEU FBPE FBPPR FBPA   \n",
       "4              0                             JM Torrecampo   \n",
       "5              0                                   JobRoss   \n",
       "6              0                                      Bill   \n",
       "7              0                Verónica Athié BSc MSc PhD   \n",
       "8              0                           CanadianGrandma   \n",
       "9              0                             Jennifer Gray   \n",
       "\n",
       "                                              tweets  text_length  \n",
       "0   therealkiyosaki hold kiyosaki  ' learning  th...           15  \n",
       "1   know  united states     million janseen nepal...           26  \n",
       "2           thehill janseen  like   fuck  baby fuck            12  \n",
       "3   schellebelle    simoncalder     think must ch...           38  \n",
       "4  covid    delivered philippines september      ...          105  \n",
       "5   craigsfire  maxnordau regeron report      fed...           44  \n",
       "6    '  adult  stroke survivor  light occasional ...           35  \n",
       "7   erictopol  cdcmmwr janseen  response even wor...           31  \n",
       "8   brigade health didn  ever wonder johnson john...           32  \n",
       "9    newsnz  covid like  polio measles mumps rube...           28  "
      ]
     },
     "execution_count": 62,
     "metadata": {},
     "output_type": "execute_result"
    }
   ],
   "source": [
    "twitter_data.head(10)"
   ]
  },
  {
   "cell_type": "code",
   "execution_count": 63,
   "metadata": {
    "colab": {},
    "colab_type": "code",
    "id": "kXrr6cKr7p95"
   },
   "outputs": [],
   "source": [
    "twitter_data.to_csv('Processed Data - Janseen.csv')"
   ]
  },
  {
   "cell_type": "code",
   "execution_count": null,
   "metadata": {
    "colab": {},
    "colab_type": "code",
    "id": "FMLNohRa7qBv"
   },
   "outputs": [],
   "source": []
  }
 ],
 "metadata": {
  "accelerator": "GPU",
  "colab": {
   "name": "Twitter Analysis (HK) v3 .ipynb",
   "provenance": []
  },
  "kernelspec": {
   "display_name": "Python 3",
   "language": "python",
   "name": "python3"
  },
  "language_info": {
   "codemirror_mode": {
    "name": "ipython",
    "version": 3
   },
   "file_extension": ".py",
   "mimetype": "text/x-python",
   "name": "python",
   "nbconvert_exporter": "python",
   "pygments_lexer": "ipython3",
   "version": "3.7.3"
  }
 },
 "nbformat": 4,
 "nbformat_minor": 1
}
