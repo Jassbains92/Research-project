{
 "cells": [
  {
   "cell_type": "markdown",
   "metadata": {
    "colab_type": "text",
    "id": "8mNe9Px2-8ZI"
   },
   "source": [
    "Importing basic Libraries"
   ]
  },
  {
   "cell_type": "code",
   "execution_count": 1,
   "metadata": {
    "colab": {
     "base_uri": "https://localhost:8080/",
     "height": 71
    },
    "colab_type": "code",
    "executionInfo": {
     "elapsed": 1405,
     "status": "ok",
     "timestamp": 1586864365029,
     "user": {
      "displayName": "Krishnendu Mandal",
      "photoUrl": "https://lh3.googleusercontent.com/a-/AOh14Gj9Ek2rrVvFI4EiMM09b38HQZDEijwISFaamRDvCQ=s64",
      "userId": "09698026409616684481"
     },
     "user_tz": -330
    },
    "id": "0vZ-ztwS-x6c",
    "outputId": "2604681b-c1ef-4fab-fe0f-f2d10376ad42"
   },
   "outputs": [],
   "source": [
    "import numpy as np\n",
    "import pandas as pd\n",
    "from sklearn.feature_extraction.text import CountVectorizer\n",
    "import collections\n",
    "import matplotlib.pyplot as plt\n",
    "import seaborn as sns\n",
    "sns.set(style=\"darkgrid\")\n",
    "sns.set(font_scale=1.3)\n",
    "\n",
    "import wordcloud\n",
    "from wordcloud import WordCloud, STOPWORDS "
   ]
  },
  {
   "cell_type": "markdown",
   "metadata": {
    "colab_type": "text",
    "id": "SCCz__RC_QfR"
   },
   "source": [
    "Considering the Cleaned Data So no pre processing wilbe required"
   ]
  },
  {
   "cell_type": "code",
   "execution_count": 2,
   "metadata": {
    "colab": {},
    "colab_type": "code",
    "id": "BOxz2T9B_F8d"
   },
   "outputs": [],
   "source": [
    "data_text = pd.read_csv(\"Cleaned_Text.csv\")"
   ]
  },
  {
   "cell_type": "code",
   "execution_count": 3,
   "metadata": {
    "colab": {
     "base_uri": "https://localhost:8080/",
     "height": 204
    },
    "colab_type": "code",
    "executionInfo": {
     "elapsed": 1108,
     "status": "ok",
     "timestamp": 1586865352413,
     "user": {
      "displayName": "Krishnendu Mandal",
      "photoUrl": "https://lh3.googleusercontent.com/a-/AOh14Gj9Ek2rrVvFI4EiMM09b38HQZDEijwISFaamRDvCQ=s64",
      "userId": "09698026409616684481"
     },
     "user_tz": -330
    },
    "id": "j-Vl_L7wADX4",
    "outputId": "989e2238-df03-4760-f7f3-215a1ff33d3b"
   },
   "outputs": [
    {
     "data": {
      "text/html": [
       "<div>\n",
       "<style scoped>\n",
       "    .dataframe tbody tr th:only-of-type {\n",
       "        vertical-align: middle;\n",
       "    }\n",
       "\n",
       "    .dataframe tbody tr th {\n",
       "        vertical-align: top;\n",
       "    }\n",
       "\n",
       "    .dataframe thead th {\n",
       "        text-align: right;\n",
       "    }\n",
       "</style>\n",
       "<table border=\"1\" class=\"dataframe\">\n",
       "  <thead>\n",
       "    <tr style=\"text-align: right;\">\n",
       "      <th></th>\n",
       "      <th>Unnamed: 0</th>\n",
       "      <th>VAX_MANU</th>\n",
       "      <th>text</th>\n",
       "      <th>text_length</th>\n",
       "    </tr>\n",
       "  </thead>\n",
       "  <tbody>\n",
       "    <tr>\n",
       "      <th>0</th>\n",
       "      <td>2</td>\n",
       "      <td>PFIZER\\BIONTECH</td>\n",
       "      <td>discomfort dysphagia visual impairment</td>\n",
       "      <td>4</td>\n",
       "    </tr>\n",
       "    <tr>\n",
       "      <th>1</th>\n",
       "      <td>4</td>\n",
       "      <td>MODERNA</td>\n",
       "      <td>erythema pruritus warmth</td>\n",
       "      <td>3</td>\n",
       "    </tr>\n",
       "    <tr>\n",
       "      <th>2</th>\n",
       "      <td>6</td>\n",
       "      <td>MODERNA</td>\n",
       "      <td>abdominal sleep disorder</td>\n",
       "      <td>3</td>\n",
       "    </tr>\n",
       "    <tr>\n",
       "      <th>3</th>\n",
       "      <td>7</td>\n",
       "      <td>MODERNA</td>\n",
       "      <td>diarrhoea nasal congestion</td>\n",
       "      <td>3</td>\n",
       "    </tr>\n",
       "    <tr>\n",
       "      <th>4</th>\n",
       "      <td>8</td>\n",
       "      <td>MODERNA</td>\n",
       "      <td>vaccination erythema vaccination pruritus vacc...</td>\n",
       "      <td>5</td>\n",
       "    </tr>\n",
       "  </tbody>\n",
       "</table>\n",
       "</div>"
      ],
      "text/plain": [
       "   Unnamed: 0         VAX_MANU  \\\n",
       "0           2  PFIZER\\BIONTECH   \n",
       "1           4          MODERNA   \n",
       "2           6          MODERNA   \n",
       "3           7          MODERNA   \n",
       "4           8          MODERNA   \n",
       "\n",
       "                                                text  text_length  \n",
       "0             discomfort dysphagia visual impairment            4  \n",
       "1                           erythema pruritus warmth            3  \n",
       "2                           abdominal sleep disorder            3  \n",
       "3                         diarrhoea nasal congestion            3  \n",
       "4  vaccination erythema vaccination pruritus vacc...            5  "
      ]
     },
     "execution_count": 3,
     "metadata": {},
     "output_type": "execute_result"
    }
   ],
   "source": [
    "data_text.head(5)"
   ]
  },
  {
   "cell_type": "code",
   "execution_count": 4,
   "metadata": {
    "colab": {
     "base_uri": "https://localhost:8080/",
     "height": 1000
    },
    "colab_type": "code",
    "executionInfo": {
     "elapsed": 1406,
     "status": "ok",
     "timestamp": 1586865352773,
     "user": {
      "displayName": "Krishnendu Mandal",
      "photoUrl": "https://lh3.googleusercontent.com/a-/AOh14Gj9Ek2rrVvFI4EiMM09b38HQZDEijwISFaamRDvCQ=s64",
      "userId": "09698026409616684481"
     },
     "user_tz": -330
    },
    "id": "NOsfGSw59L1M",
    "outputId": "1b9ea0a5-0a03-4759-e7b7-45171c108b18"
   },
   "outputs": [],
   "source": [
    "import nltk\n",
    "#nltk.download('book')\n",
    "from nltk.corpus import wordnet\n",
    "from nltk.stem import WordNetLemmatizer"
   ]
  },
  {
   "cell_type": "code",
   "execution_count": 5,
   "metadata": {
    "colab": {},
    "colab_type": "code",
    "id": "BQ_SZR71zEea"
   },
   "outputs": [],
   "source": [
    "data_text[\"text\"] = data_text['text'].str.replace(r'\\b\\w{15,3000}\\b', r' ')"
   ]
  },
  {
   "cell_type": "code",
   "execution_count": 6,
   "metadata": {},
   "outputs": [],
   "source": [
    "data_text[\"text\"] = data_text['text'].str.replace('deliver', '')\n",
    "data_text[\"text\"] = data_text['text'].str.replace('count', '')\n",
    "data_text[\"text\"] = data_text['text'].str.replace('rate', '')\n",
    "data_text[\"text\"] = data_text['text'].str.replace('skin', '')\n",
    "data_text[\"text\"] = data_text['text'].str.replace('blood', '')\n",
    "data_text[\"text\"] = data_text['text'].str.replace('decrease', '')\n",
    "data_text[\"text\"] = data_text['text'].str.replace('computerised', '')\n",
    "data_text[\"text\"] = data_text['text'].str.replace('head', '')\n",
    "data_text[\"text\"] = data_text['text'].str.replace('image', '')"
   ]
  },
  {
   "cell_type": "code",
   "execution_count": 7,
   "metadata": {
    "colab": {
     "base_uri": "https://localhost:8080/",
     "height": 357
    },
    "colab_type": "code",
    "executionInfo": {
     "elapsed": 214237,
     "status": "ok",
     "timestamp": 1586865565682,
     "user": {
      "displayName": "Krishnendu Mandal",
      "photoUrl": "https://lh3.googleusercontent.com/a-/AOh14Gj9Ek2rrVvFI4EiMM09b38HQZDEijwISFaamRDvCQ=s64",
      "userId": "09698026409616684481"
     },
     "user_tz": -330
    },
    "id": "NjZKjza6qk_9",
    "outputId": "ddbbaf68-6633-40b5-fa45-b78c8861f07b"
   },
   "outputs": [
    {
     "data": {
      "text/plain": [
       "[('discomfort', 19238),\n",
       " ('disorder', 15540),\n",
       " ('dyspnoea', 15422),\n",
       " ('pruritus', 15036),\n",
       " ('erythema', 14735),\n",
       " ('tomogram', 12644),\n",
       " ('hypoaesthesia', 11579),\n",
       " ('paraesthesia', 11553),\n",
       " ('vaccination', 10833),\n",
       " ('asthenia', 10093),\n",
       " ('abdominal', 9988),\n",
       " ('heart', 9093),\n",
       " ('negative', 8617),\n",
       " ('hyperhidrosis', 8096),\n",
       " ('xray', 7797),\n",
       " ('peripheral', 7631),\n",
       " ('magnetic', 7596),\n",
       " ('resonance', 7595),\n",
       " ('oral', 7530),\n",
       " ('reaction', 7527)]"
      ]
     },
     "execution_count": 7,
     "metadata": {},
     "output_type": "execute_result"
    }
   ],
   "source": [
    "from collections import Counter\n",
    "cnt = Counter()\n",
    "for text in data_text['text'].values:\n",
    "    for word in text.split():\n",
    "        cnt[word] += 1\n",
    "cnt.most_common(20)"
   ]
  },
  {
   "cell_type": "code",
   "execution_count": 8,
   "metadata": {
    "colab": {},
    "colab_type": "code",
    "id": "8FUMgJpWU-uJ"
   },
   "outputs": [],
   "source": [
    "FREQWORDS = set([w for (w, wc) in cnt.most_common(20)])\n",
    "def remove_freqwords(text):\n",
    "    \"\"\"custom function to remove the frequent words\"\"\"\n",
    "    return \" \".join([word for word in str(text).split() if word not in FREQWORDS])"
   ]
  },
  {
   "cell_type": "code",
   "execution_count": null,
   "metadata": {
    "colab": {
     "base_uri": "https://localhost:8080/",
     "height": 834
    },
    "colab_type": "code",
    "executionInfo": {
     "elapsed": 214954,
     "status": "ok",
     "timestamp": 1586865566430,
     "user": {
      "displayName": "Krishnendu Mandal",
      "photoUrl": "https://lh3.googleusercontent.com/a-/AOh14Gj9Ek2rrVvFI4EiMM09b38HQZDEijwISFaamRDvCQ=s64",
      "userId": "09698026409616684481"
     },
     "user_tz": -330
    },
    "id": "n2RTlILCAJ1I",
    "outputId": "f112fbb4-0a4b-4e39-f829-068dcd315684"
   },
   "outputs": [
    {
     "data": {
      "image/png": "[encoded data removed]",
      "text/plain": [
       "<Figure size 1296x1008 with 1 Axes>"
      ]
     },
     "metadata": {
      "needs_background": "light"
     },
     "output_type": "display_data"
    }
   ],
   "source": [
    "sr_clean= data_text['text']\n",
    "cv = CountVectorizer()\n",
    "bow = cv.fit_transform(sr_clean)\n",
    "word_freq = dict(zip(cv.get_feature_names(), np.asarray(bow.sum(axis=0)).ravel()))\n",
    "word_counter = collections.Counter(word_freq)\n",
    "\n",
    "word_counter_df = pd.DataFrame(word_counter.most_common(10), columns = ['word', 'freq'])\n",
    "fig, ax = plt.subplots(figsize=(18, 14))\n",
    "sns.barplot(x=\"word\", y=\"freq\", data=word_counter_df, palette=\"PuBuGn_d\", ax=ax)\n",
    "plt.show();"
   ]
  },
  {
   "cell_type": "code",
   "execution_count": null,
   "metadata": {
    "colab": {
     "base_uri": "https://localhost:8080/",
     "height": 875
    },
    "colab_type": "code",
    "executionInfo": {
     "elapsed": 6248,
     "status": "ok",
     "timestamp": 1586865968426,
     "user": {
      "displayName": "Krishnendu Mandal",
      "photoUrl": "https://lh3.googleusercontent.com/a-/AOh14Gj9Ek2rrVvFI4EiMM09b38HQZDEijwISFaamRDvCQ=s64",
      "userId": "09698026409616684481"
     },
     "user_tz": -330
    },
    "id": "v8nha8dd_3Uk",
    "outputId": "12a1e978-8fd5-4593-ec05-903d69ffb2c7"
   },
   "outputs": [],
   "source": [
    "# Word Cloud - Overall\n",
    "\n",
    "lemmatizer = WordNetLemmatizer()\n",
    "wordnet_map = {\"N\":wordnet.NOUN, \"V\":wordnet.VERB, \"J\":wordnet.ADJ, \"R\":wordnet.ADV}\n",
    "def lemmatize_words_1(text):\n",
    "    pos_tagged_text = nltk.pos_tag(text)\n",
    "    return \" \".join([lemmatizer.lemmatize(word, wordnet_map.get(pos[0], wordnet.NOUN)) \n",
    "    for word, pos in pos_tagged_text])\n",
    "\n",
    "stopwords = lemmatize_words_1(data_text['text'])\n",
    "\n",
    "comment_words = ' '\n",
    "\n",
    "for val in data_text['text']: \n",
    "    val = str(val) \n",
    "    tokens = val.split() \n",
    "    for i in range(len(tokens)): \n",
    "        tokens[i] = tokens[i].lower() \n",
    "          \n",
    "    for words in tokens: \n",
    "      comment_words = comment_words + words + ' '\n",
    "\n",
    "wordcloud = WordCloud(width = 1800, height = 1200, \n",
    "                background_color ='white', max_words=100, \n",
    "                stopwords = stopwords, \n",
    "                min_font_size = 10).generate(comment_words) \n",
    "                      \n",
    "plt.figure(figsize = (12, 12), facecolor = 'Red') \n",
    "plt.imshow(wordcloud, interpolation=\"bilinear\")\n",
    "plt.axis('off') \n",
    "plt.tight_layout(pad = 1) \n",
    "  \n",
    "plt.show() "
   ]
  },
  {
   "cell_type": "code",
   "execution_count": null,
   "metadata": {},
   "outputs": [],
   "source": [
    "## Filtering out the PFIZER\\\\BIONTECH\n",
    "\n",
    "data_text_1 = data_text[data_text['VAX_MANU'] == 'PFIZER\\\\BIONTECH']\n",
    "\n",
    "# Word Cloud\n",
    "\n",
    "lemmatizer = WordNetLemmatizer()\n",
    "wordnet_map = {\"N\":wordnet.NOUN, \"V\":wordnet.VERB, \"J\":wordnet.ADJ, \"R\":wordnet.ADV}\n",
    "def lemmatize_words_1(text):\n",
    "    pos_tagged_text = nltk.pos_tag(text)\n",
    "    return \" \".join([lemmatizer.lemmatize(word, wordnet_map.get(pos[0], wordnet.NOUN)) \n",
    "    for word, pos in pos_tagged_text])\n",
    "\n",
    "stopwords = lemmatize_words_1(data_text_1['text'])\n",
    "\n",
    "comment_words = ' '\n",
    "\n",
    "for val in data_text_1['text']: \n",
    "    val = str(val) \n",
    "    tokens = val.split() \n",
    "    for i in range(len(tokens)): \n",
    "        tokens[i] = tokens[i].lower() \n",
    "          \n",
    "    for words in tokens: \n",
    "      comment_words = comment_words + words + ' '\n",
    "\n",
    "wordcloud = WordCloud(width = 1800, height = 1200, \n",
    "                background_color ='white', \n",
    "                stopwords = stopwords, max_words=100,\n",
    "                min_font_size = 10).generate(comment_words) \n",
    "                      \n",
    "plt.figure(figsize = (12, 12), facecolor = 'Red') \n",
    "plt.imshow(wordcloud, interpolation=\"bilinear\")\n",
    "plt.axis('off') \n",
    "plt.tight_layout(pad = 1) \n",
    "  \n",
    "plt.show() "
   ]
  },
  {
   "cell_type": "code",
   "execution_count": null,
   "metadata": {},
   "outputs": [],
   "source": [
    "sr_clean= data_text_1['text']\n",
    "cv = CountVectorizer()\n",
    "bow = cv.fit_transform(sr_clean)\n",
    "word_freq = dict(zip(cv.get_feature_names(), np.asarray(bow.sum(axis=0)).ravel()))\n",
    "word_counter = collections.Counter(word_freq)\n",
    "\n",
    "word_counter_df = pd.DataFrame(word_counter.most_common(10), columns = ['word', 'freq'])\n",
    "fig, ax = plt.subplots(figsize=(18, 14))\n",
    "sns.barplot(x=\"word\", y=\"freq\", data=word_counter_df, palette=\"PuBuGn_d\", ax=ax)\n",
    "plt.show();"
   ]
  },
  {
   "cell_type": "code",
   "execution_count": null,
   "metadata": {},
   "outputs": [],
   "source": [
    "## Filtering out the MODERNA\n",
    "\n",
    "data_text_2 = data_text[data_text['VAX_MANU'] == 'MODERNA']\n",
    "\n",
    "# Word Cloud\n",
    "\n",
    "lemmatizer = WordNetLemmatizer()\n",
    "wordnet_map = {\"N\":wordnet.NOUN, \"V\":wordnet.VERB, \"J\":wordnet.ADJ, \"R\":wordnet.ADV}\n",
    "def lemmatize_words_1(text):\n",
    "    pos_tagged_text = nltk.pos_tag(text)\n",
    "    return \" \".join([lemmatizer.lemmatize(word, wordnet_map.get(pos[0], wordnet.NOUN)) \n",
    "    for word, pos in pos_tagged_text])\n",
    "\n",
    "stopwords = lemmatize_words_1(data_text_2['text'])\n",
    "\n",
    "comment_words = ' '\n",
    "\n",
    "for val in data_text_2['text']: \n",
    "    val = str(val) \n",
    "    tokens = val.split() \n",
    "    for i in range(len(tokens)): \n",
    "        tokens[i] = tokens[i].lower() \n",
    "          \n",
    "    for words in tokens: \n",
    "      comment_words = comment_words + words + ' '\n",
    "\n",
    "wordcloud = WordCloud(width = 1800, height = 1200, \n",
    "                background_color ='white', max_words=100,\n",
    "                stopwords = stopwords, \n",
    "                min_font_size = 10).generate(comment_words) \n",
    "                      \n",
    "plt.figure(figsize = (12, 12), facecolor = 'Red') \n",
    "plt.imshow(wordcloud, interpolation=\"bilinear\")\n",
    "plt.axis('off') \n",
    "plt.tight_layout(pad = 1) \n",
    "  \n",
    "plt.show() "
   ]
  },
  {
   "cell_type": "code",
   "execution_count": null,
   "metadata": {},
   "outputs": [],
   "source": [
    "sr_clean= data_text_2['text']\n",
    "cv = CountVectorizer()\n",
    "bow = cv.fit_transform(sr_clean)\n",
    "word_freq = dict(zip(cv.get_feature_names(), np.asarray(bow.sum(axis=0)).ravel()))\n",
    "word_counter = collections.Counter(word_freq)\n",
    "\n",
    "word_counter_df = pd.DataFrame(word_counter.most_common(10), columns = ['word', 'freq'])\n",
    "fig, ax = plt.subplots(figsize=(18, 14))\n",
    "sns.barplot(x=\"word\", y=\"freq\", data=word_counter_df, palette=\"PuBuGn_d\", ax=ax)\n",
    "plt.show();"
   ]
  },
  {
   "cell_type": "code",
   "execution_count": null,
   "metadata": {},
   "outputs": [],
   "source": [
    "## Filtering out the JANSSEN\n",
    "\n",
    "data_text_3 = data_text[data_text['VAX_MANU'] == 'JANSSEN']\n",
    "\n",
    "# Word Cloud\n",
    "\n",
    "lemmatizer = WordNetLemmatizer()\n",
    "wordnet_map = {\"N\":wordnet.NOUN, \"V\":wordnet.VERB, \"J\":wordnet.ADJ, \"R\":wordnet.ADV}\n",
    "def lemmatize_words_1(text):\n",
    "    pos_tagged_text = nltk.pos_tag(text)\n",
    "    return \" \".join([lemmatizer.lemmatize(word, wordnet_map.get(pos[0], wordnet.NOUN)) \n",
    "    for word, pos in pos_tagged_text])\n",
    "\n",
    "stopwords = lemmatize_words_1(data_text_3['text'])\n",
    "\n",
    "comment_words = ' '\n",
    "\n",
    "for val in data_text_3['text']: \n",
    "    val = str(val) \n",
    "    tokens = val.split() \n",
    "    for i in range(len(tokens)): \n",
    "        tokens[i] = tokens[i].lower() \n",
    "          \n",
    "    for words in tokens: \n",
    "      comment_words = comment_words + words + ' '\n",
    "\n",
    "wordcloud = WordCloud(width = 1800, height = 1200, \n",
    "                background_color ='white', max_words=100,\n",
    "                stopwords = stopwords, \n",
    "                min_font_size = 10).generate(comment_words) \n",
    "                      \n",
    "plt.figure(figsize = (12, 12), facecolor = 'Red') \n",
    "plt.imshow(wordcloud, interpolation=\"bilinear\")\n",
    "plt.axis('off') \n",
    "plt.tight_layout(pad = 1) \n",
    "  \n",
    "plt.show() "
   ]
  },
  {
   "cell_type": "code",
   "execution_count": null,
   "metadata": {},
   "outputs": [],
   "source": [
    "sr_clean= data_text_3['text']\n",
    "cv = CountVectorizer()\n",
    "bow = cv.fit_transform(sr_clean)\n",
    "word_freq = dict(zip(cv.get_feature_names(), np.asarray(bow.sum(axis=0)).ravel()))\n",
    "word_counter = collections.Counter(word_freq)\n",
    "\n",
    "word_counter_df = pd.DataFrame(word_counter.most_common(10), columns = ['word', 'freq'])\n",
    "fig, ax = plt.subplots(figsize=(18, 14))\n",
    "sns.barplot(x=\"word\", y=\"freq\", data=word_counter_df, palette=\"PuBuGn_d\", ax=ax)\n",
    "plt.show();"
   ]
  },
  {
   "cell_type": "markdown",
   "metadata": {
    "colab_type": "text",
    "id": "pSfK1QwHw5aq"
   },
   "source": [
    "*** Networrk Graph"
   ]
  },
  {
   "cell_type": "code",
   "execution_count": null,
   "metadata": {
    "colab": {
     "base_uri": "https://localhost:8080/",
     "height": 1000
    },
    "colab_type": "code",
    "executionInfo": {
     "elapsed": 228996,
     "status": "ok",
     "timestamp": 1586865580602,
     "user": {
      "displayName": "Krishnendu Mandal",
      "photoUrl": "https://lh3.googleusercontent.com/a-/AOh14Gj9Ek2rrVvFI4EiMM09b38HQZDEijwISFaamRDvCQ=s64",
      "userId": "09698026409616684481"
     },
     "user_tz": -330
    },
    "id": "9mDJT-MCw3oX",
    "outputId": "ee41007b-0e87-418c-8a81-ff69d103bafa"
   },
   "outputs": [],
   "source": [
    "from nltk import bigrams\n",
    "# Create list of lists containing bigrams in text\n",
    "key_words = [text.lower().split() for text in data_text.text]\n",
    "terms_bigram = [list(bigrams(text)) for text in key_words]\n",
    "terms_bigram[0]"
   ]
  },
  {
   "cell_type": "markdown",
   "metadata": {
    "colab_type": "text",
    "id": "EWhJADTFlxHs"
   },
   "source": [
    "Network Graph using Top 30 Words"
   ]
  },
  {
   "cell_type": "code",
   "execution_count": null,
   "metadata": {
    "colab": {
     "base_uri": "https://localhost:8080/",
     "height": 901
    },
    "colab_type": "code",
    "executionInfo": {
     "elapsed": 2861,
     "status": "ok",
     "timestamp": 1586866694711,
     "user": {
      "displayName": "Krishnendu Mandal",
      "photoUrl": "https://lh3.googleusercontent.com/a-/AOh14Gj9Ek2rrVvFI4EiMM09b38HQZDEijwISFaamRDvCQ=s64",
      "userId": "09698026409616684481"
     },
     "user_tz": -330
    },
    "id": "bZWVBcrIxE_T",
    "outputId": "87ecd600-cd7b-444b-9a99-fae87f98b4ff"
   },
   "outputs": [],
   "source": [
    "## Overall\n",
    "\n",
    "import itertools\n",
    "bigrams = list(itertools.chain(*terms_bigram))\n",
    "bigram_counts = collections.Counter(bigrams)\n",
    "\n",
    "bigram_df = pd.DataFrame(bigram_counts.most_common(30),\n",
    "                             columns=['bigram', 'count'])\n",
    "\n",
    "import networkx as nx\n",
    "d = bigram_df.set_index('bigram').T.to_dict('records')\n",
    "G = nx.Graph()\n",
    "\n",
    "for k, v in d[0].items():\n",
    "    G.add_edge(k[0], k[1], weight=(v * 10))\n",
    "\n",
    "fig, ax = plt.subplots(figsize=(24, 16))\n",
    "\n",
    "pos = nx.spring_layout(G, k=1)\n",
    "\n",
    "nx.draw_networkx(G, pos,\n",
    "                 font_size=15,\n",
    "                 width=6,\n",
    "                 edge_color='blue',\n",
    "                 node_color='black',\n",
    "                 with_labels = False,\n",
    "                 ax=ax)\n",
    "\n",
    "for key, value in pos.items():\n",
    "    x, y = value[0]+.135, value[1]+.045\n",
    "    ax.text(x, y,\n",
    "            s=key,\n",
    "            bbox=dict(facecolor='white', alpha=0.25),\n",
    "            horizontalalignment='right', \n",
    "            verticalalignment = 'center',\n",
    "            fontsize=12)\n",
    "    \n",
    "plt.show()"
   ]
  },
  {
   "cell_type": "markdown",
   "metadata": {
    "colab_type": "text",
    "id": "F1a_hzHwlIIv"
   },
   "source": [
    "**************************  End ****************************"
   ]
  }
 ],
 "metadata": {
  "accelerator": "GPU",
  "colab": {
   "machine_shape": "hm",
   "name": "Creating_Word_Cloud_and_Key_Words.ipynb",
   "provenance": []
  },
  "kernelspec": {
   "display_name": "Python 3",
   "language": "python",
   "name": "python3"
  },
  "language_info": {
   "codemirror_mode": {
    "name": "ipython",
    "version": 3
   },
   "file_extension": ".py",
   "mimetype": "text/x-python",
   "name": "python",
   "nbconvert_exporter": "python",
   "pygments_lexer": "ipython3",
   "version": "3.7.3"
  }
 },
 "nbformat": 4,
 "nbformat_minor": 1
}
