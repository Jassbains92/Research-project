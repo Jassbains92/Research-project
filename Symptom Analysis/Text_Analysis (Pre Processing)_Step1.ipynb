{
 "cells": [
  {
   "cell_type": "markdown",
   "metadata": {
    "colab_type": "text",
    "id": "sysM5pCMkdhL"
   },
   "source": [
    "Importing required Libraries"
   ]
  },
  {
   "cell_type": "code",
   "execution_count": 1,
   "metadata": {
    "colab": {},
    "colab_type": "code",
    "id": "7aWZ4ZQPLNVp"
   },
   "outputs": [],
   "source": [
    "import numpy as np\n",
    "import pandas as pd\n",
    "import re"
   ]
  },
  {
   "cell_type": "markdown",
   "metadata": {
    "colab_type": "text",
    "id": "QF6l_XWK0PgY"
   },
   "source": [
    "######### Raw Data Dump"
   ]
  },
  {
   "cell_type": "code",
   "execution_count": 2,
   "metadata": {
    "colab": {},
    "colab_type": "code",
    "id": "ahT_gxngmdlY"
   },
   "outputs": [],
   "source": [
    "text_data = pd.read_csv(\"Text_Data.csv\")"
   ]
  },
  {
   "cell_type": "code",
   "execution_count": 3,
   "metadata": {
    "colab": {
     "base_uri": "https://localhost:8080/",
     "height": 111
    },
    "colab_type": "code",
    "id": "aNiRMpDJkXTg",
    "outputId": "cb665a3a-74a4-4ee5-a15d-b1c5b5e3b764"
   },
   "outputs": [
    {
     "data": {
      "text/html": [
       "<div>\n",
       "<style scoped>\n",
       "    .dataframe tbody tr th:only-of-type {\n",
       "        vertical-align: middle;\n",
       "    }\n",
       "\n",
       "    .dataframe tbody tr th {\n",
       "        vertical-align: top;\n",
       "    }\n",
       "\n",
       "    .dataframe thead th {\n",
       "        text-align: right;\n",
       "    }\n",
       "</style>\n",
       "<table border=\"1\" class=\"dataframe\">\n",
       "  <thead>\n",
       "    <tr style=\"text-align: right;\">\n",
       "      <th></th>\n",
       "      <th>VAX_MANU</th>\n",
       "      <th>Symptoms</th>\n",
       "    </tr>\n",
       "  </thead>\n",
       "  <tbody>\n",
       "    <tr>\n",
       "      <th>0</th>\n",
       "      <td>MODERNA</td>\n",
       "      <td>Dysphagia - Epiglottitis -  -  -</td>\n",
       "    </tr>\n",
       "    <tr>\n",
       "      <th>1</th>\n",
       "      <td>MODERNA</td>\n",
       "      <td>Anxiety - Dyspnoea -  -  -</td>\n",
       "    </tr>\n",
       "  </tbody>\n",
       "</table>\n",
       "</div>"
      ],
      "text/plain": [
       "  VAX_MANU                           Symptoms\n",
       "0  MODERNA  Dysphagia - Epiglottitis -  -  - \n",
       "1  MODERNA        Anxiety - Dyspnoea -  -  - "
      ]
     },
     "execution_count": 3,
     "metadata": {},
     "output_type": "execute_result"
    }
   ],
   "source": [
    "text_data.head(2)"
   ]
  },
  {
   "cell_type": "code",
   "execution_count": 4,
   "metadata": {
    "colab": {},
    "colab_type": "code",
    "id": "4uyAf0X1rzgK"
   },
   "outputs": [],
   "source": [
    "text_data = text_data.rename(columns = {'Symptoms':'text'})"
   ]
  },
  {
   "cell_type": "code",
   "execution_count": 5,
   "metadata": {
    "colab": {
     "base_uri": "https://localhost:8080/",
     "height": 34
    },
    "colab_type": "code",
    "id": "KyPzBaLopmch",
    "outputId": "52321c3a-6e54-4b5e-89a2-f8c1cf6c8f85"
   },
   "outputs": [
    {
     "data": {
      "text/plain": [
       "(660415, 2)"
      ]
     },
     "execution_count": 5,
     "metadata": {},
     "output_type": "execute_result"
    }
   ],
   "source": [
    "text_data.shape"
   ]
  },
  {
   "cell_type": "markdown",
   "metadata": {
    "colab_type": "text",
    "id": "S3VgpCoth2_B"
   },
   "source": [
    "Pre Processing - Removing unwanted Characters"
   ]
  },
  {
   "cell_type": "markdown",
   "metadata": {
    "colab_type": "text",
    "id": "M2hsYW-9i0TR"
   },
   "source": [
    "Pre Processing\n",
    "Remove Punctuations"
   ]
  },
  {
   "cell_type": "code",
   "execution_count": 6,
   "metadata": {
    "colab": {},
    "colab_type": "code",
    "id": "vkQsR9WAfuIM"
   },
   "outputs": [],
   "source": [
    "text_data.iloc[:,1] = text_data.iloc[:,1].str.replace(r'https(\\S)+', r' ')\n",
    "text_data.iloc[:,1] = text_data.iloc[:,1].str.replace(r'http ...', r' ')\n",
    "\n",
    "text_data.iloc[:,1] = text_data.iloc[:,1].str.replace(r'(RT|rt)[ ]*@[ ]*[\\S]+',r' ')\n",
    "text_data.iloc[:,1] = text_data.iloc[:,1].str.replace(r'@[\\S]+',r' ')\n",
    "\n",
    "text_data.iloc[:,1] = text_data.iloc[:,1].str.replace('http', '')"
   ]
  },
  {
   "cell_type": "code",
   "execution_count": 7,
   "metadata": {
    "colab": {
     "base_uri": "https://localhost:8080/",
     "height": 204
    },
    "colab_type": "code",
    "id": "UaxfzmFgNV53",
    "outputId": "d7ace4f3-e82f-4ab3-d42c-6f00b2b9c572"
   },
   "outputs": [
    {
     "data": {
      "text/html": [
       "<div>\n",
       "<style scoped>\n",
       "    .dataframe tbody tr th:only-of-type {\n",
       "        vertical-align: middle;\n",
       "    }\n",
       "\n",
       "    .dataframe tbody tr th {\n",
       "        vertical-align: top;\n",
       "    }\n",
       "\n",
       "    .dataframe thead th {\n",
       "        text-align: right;\n",
       "    }\n",
       "</style>\n",
       "<table border=\"1\" class=\"dataframe\">\n",
       "  <thead>\n",
       "    <tr style=\"text-align: right;\">\n",
       "      <th></th>\n",
       "      <th>VAX_MANU</th>\n",
       "      <th>text</th>\n",
       "    </tr>\n",
       "  </thead>\n",
       "  <tbody>\n",
       "    <tr>\n",
       "      <th>0</th>\n",
       "      <td>MODERNA</td>\n",
       "      <td>Dysphagia - Epiglottitis -  -  -</td>\n",
       "    </tr>\n",
       "    <tr>\n",
       "      <th>1</th>\n",
       "      <td>MODERNA</td>\n",
       "      <td>Anxiety - Dyspnoea -  -  -</td>\n",
       "    </tr>\n",
       "    <tr>\n",
       "      <th>2</th>\n",
       "      <td>PFIZER\\BIONTECH</td>\n",
       "      <td>Chest discomfort - Dysphagia - Pain in extremi...</td>\n",
       "    </tr>\n",
       "    <tr>\n",
       "      <th>3</th>\n",
       "      <td>MODERNA</td>\n",
       "      <td>Dizziness - Fatigue - Mobility decreased -  -</td>\n",
       "    </tr>\n",
       "    <tr>\n",
       "      <th>4</th>\n",
       "      <td>MODERNA</td>\n",
       "      <td>Injection site erythema - Injection site pruri...</td>\n",
       "    </tr>\n",
       "  </tbody>\n",
       "</table>\n",
       "</div>"
      ],
      "text/plain": [
       "          VAX_MANU                                               text\n",
       "0          MODERNA                  Dysphagia - Epiglottitis -  -  - \n",
       "1          MODERNA                        Anxiety - Dyspnoea -  -  - \n",
       "2  PFIZER\\BIONTECH  Chest discomfort - Dysphagia - Pain in extremi...\n",
       "3          MODERNA     Dizziness - Fatigue - Mobility decreased -  - \n",
       "4          MODERNA  Injection site erythema - Injection site pruri..."
      ]
     },
     "execution_count": 7,
     "metadata": {},
     "output_type": "execute_result"
    }
   ],
   "source": [
    "text_data.head(5)"
   ]
  },
  {
   "cell_type": "code",
   "execution_count": 8,
   "metadata": {
    "colab": {},
    "colab_type": "code",
    "id": "1SA1xtkzjeHO"
   },
   "outputs": [],
   "source": [
    "PUNCT_TO_REMOVE = '!\"#$%&\\'()*+,-./:;<=>?@[\\\\]^_{|}~`'"
   ]
  },
  {
   "cell_type": "code",
   "execution_count": 9,
   "metadata": {
    "colab": {},
    "colab_type": "code",
    "id": "Hm-NNqR0jgce"
   },
   "outputs": [],
   "source": [
    "def remove_punctuation(text):\n",
    "    return text.translate(str.maketrans(' ', ' ', PUNCT_TO_REMOVE))"
   ]
  },
  {
   "cell_type": "code",
   "execution_count": 10,
   "metadata": {
    "colab": {},
    "colab_type": "code",
    "id": "nLePVfoxi6O5"
   },
   "outputs": [],
   "source": [
    "text_data.iloc[:,1] = text_data.iloc[:,1].apply(lambda text: remove_punctuation(text))"
   ]
  },
  {
   "cell_type": "code",
   "execution_count": 11,
   "metadata": {
    "colab": {},
    "colab_type": "code",
    "id": "DYx8a6Pw-0ar"
   },
   "outputs": [],
   "source": [
    "all_words = list(text_data.iloc[:,1].str.lower().str.split(' ', expand=True).stack().unique())"
   ]
  },
  {
   "cell_type": "code",
   "execution_count": 12,
   "metadata": {
    "colab": {
     "base_uri": "https://localhost:8080/",
     "height": 204
    },
    "colab_type": "code",
    "id": "sTtXB2hWjDck",
    "outputId": "68490660-ed1a-4a32-ae47-a858f8bb6520"
   },
   "outputs": [
    {
     "data": {
      "text/plain": [
       "0                        Dysphagia  Epiglottitis      \n",
       "1                              Anxiety  Dyspnoea      \n",
       "2    Chest discomfort  Dysphagia  Pain in extremity...\n",
       "3           Dizziness  Fatigue  Mobility decreased    \n",
       "4    Injection site erythema  Injection site prurit...\n",
       "5                          Pharyngeal swelling        \n",
       "6           Abdominal pain  Chills  Sleep disorder    \n",
       "7                    Diarrhoea  Nasal congestion      \n",
       "8    Vaccination site erythema  Vaccination site pr...\n",
       "9                                Rash  Urticaria      \n",
       "Name: text, dtype: object"
      ]
     },
     "execution_count": 12,
     "metadata": {},
     "output_type": "execute_result"
    }
   ],
   "source": [
    "text_data['text'].head(10)"
   ]
  },
  {
   "cell_type": "markdown",
   "metadata": {
    "colab_type": "text",
    "id": "79IUToYgmrp9"
   },
   "source": [
    "Remove most occuring words"
   ]
  },
  {
   "cell_type": "code",
   "execution_count": 13,
   "metadata": {
    "colab": {},
    "colab_type": "code",
    "id": "j03xsTQik754"
   },
   "outputs": [],
   "source": [
    "from collections import Counter\n",
    "cnt = Counter()\n",
    "for text in text_data['text'].values:\n",
    "    for word in text.split():\n",
    "        cnt[word] += 1"
   ]
  },
  {
   "cell_type": "code",
   "execution_count": 14,
   "metadata": {
    "colab": {
     "base_uri": "https://localhost:8080/",
     "height": 357
    },
    "colab_type": "code",
    "id": "X-RgyCCHmUmX",
    "outputId": "a6aef20a-63d0-4a48-b93e-e181cbdaaedb"
   },
   "outputs": [
    {
     "data": {
      "text/plain": [
       "[('site', 162886),\n",
       " ('Injection', 136989),\n",
       " ('Pain', 118228),\n",
       " ('pain', 112070),\n",
       " ('Headache', 92989),\n",
       " ('Pyrexia', 77052),\n",
       " ('Fatigue', 76091),\n",
       " ('Chills', 69590),\n",
       " ('test', 66103),\n",
       " ('Dizziness', 55245),\n",
       " ('in', 54439),\n",
       " ('Nausea', 53891),\n",
       " ('swelling', 49820),\n",
       " ('Rash', 48707),\n",
       " ('extremity', 47606),\n",
       " ('Blood', 44000)]"
      ]
     },
     "execution_count": 14,
     "metadata": {},
     "output_type": "execute_result"
    }
   ],
   "source": [
    "cnt.most_common(16)"
   ]
  },
  {
   "cell_type": "code",
   "execution_count": 15,
   "metadata": {
    "colab": {},
    "colab_type": "code",
    "id": "Ld45S4timPEy"
   },
   "outputs": [],
   "source": [
    "FREQWORDS = set([w for (w, wc) in cnt.most_common(25)])\n",
    "def remove_freqwords(text):\n",
    "    \"\"\"custom function to remove the frequent words\"\"\"\n",
    "    return \" \".join([word for word in str(text).split() if word not in FREQWORDS])"
   ]
  },
  {
   "cell_type": "code",
   "execution_count": 16,
   "metadata": {
    "colab": {},
    "colab_type": "code",
    "id": "7h1JhUpymgAZ"
   },
   "outputs": [],
   "source": [
    "text_data['text'] = text_data['text'].apply(lambda text: remove_freqwords(text))"
   ]
  },
  {
   "cell_type": "code",
   "execution_count": 17,
   "metadata": {
    "colab": {
     "base_uri": "https://localhost:8080/",
     "height": 204
    },
    "colab_type": "code",
    "id": "nC42wuQWmj-u",
    "outputId": "8faf3f5d-ac39-4326-f6b2-02648850f598"
   },
   "outputs": [
    {
     "data": {
      "text/plain": [
       "0                               Dysphagia Epiglottitis\n",
       "1                                     Anxiety Dyspnoea\n",
       "2               discomfort Dysphagia Visual impairment\n",
       "3                                   Mobility decreased\n",
       "4                             erythema pruritus warmth\n",
       "5                                           Pharyngeal\n",
       "6                             Abdominal Sleep disorder\n",
       "7                           Diarrhoea Nasal congestion\n",
       "8    Vaccination erythema Vaccination pruritus Vacc...\n",
       "9                                            Urticaria\n",
       "Name: text, dtype: object"
      ]
     },
     "execution_count": 17,
     "metadata": {},
     "output_type": "execute_result"
    }
   ],
   "source": [
    "text_data['text'].head(10)"
   ]
  },
  {
   "cell_type": "markdown",
   "metadata": {
    "colab_type": "text",
    "id": "kC4V70ftm_vH"
   },
   "source": [
    "Remove rare words"
   ]
  },
  {
   "cell_type": "code",
   "execution_count": 18,
   "metadata": {
    "colab": {},
    "colab_type": "code",
    "id": "b4f3eGwdk8mr"
   },
   "outputs": [],
   "source": [
    "n_rare_words = 10\n",
    "RAREWORDS = set([w for (w, wc) in cnt.most_common()[:-n_rare_words-1:-1]])\n",
    "def remove_rarewords(text):\n",
    "    return \" \".join([word for word in str(text).split() if word not in RAREWORDS])"
   ]
  },
  {
   "cell_type": "code",
   "execution_count": 19,
   "metadata": {
    "colab": {},
    "colab_type": "code",
    "id": "gSI-Ipkvm6vR"
   },
   "outputs": [],
   "source": [
    "text_data['text'] = text_data['text'].apply(lambda text: remove_rarewords(text))"
   ]
  },
  {
   "cell_type": "code",
   "execution_count": 20,
   "metadata": {
    "colab": {
     "base_uri": "https://localhost:8080/",
     "height": 204
    },
    "colab_type": "code",
    "id": "rvmI8UKbm-uy",
    "outputId": "5e835eda-9eaf-4ba5-f692-09c776192d66"
   },
   "outputs": [
    {
     "data": {
      "text/plain": [
       "0                               Dysphagia Epiglottitis\n",
       "1                                     Anxiety Dyspnoea\n",
       "2               discomfort Dysphagia Visual impairment\n",
       "3                                   Mobility decreased\n",
       "4                             erythema pruritus warmth\n",
       "5                                           Pharyngeal\n",
       "6                             Abdominal Sleep disorder\n",
       "7                           Diarrhoea Nasal congestion\n",
       "8    Vaccination erythema Vaccination pruritus Vacc...\n",
       "9                                            Urticaria\n",
       "Name: text, dtype: object"
      ]
     },
     "execution_count": 20,
     "metadata": {},
     "output_type": "execute_result"
    }
   ],
   "source": [
    "text_data['text'].head(10)"
   ]
  },
  {
   "cell_type": "markdown",
   "metadata": {
    "colab_type": "text",
    "id": "92O_eybMg4n8"
   },
   "source": [
    "Lemmatize"
   ]
  },
  {
   "cell_type": "code",
   "execution_count": 21,
   "metadata": {
    "colab": {},
    "colab_type": "code",
    "id": "K0ZGw83QnnCL"
   },
   "outputs": [],
   "source": [
    "from nltk.stem import WordNetLemmatizer\n",
    "from nltk.corpus import wordnet"
   ]
  },
  {
   "cell_type": "code",
   "execution_count": 22,
   "metadata": {
    "colab": {
     "base_uri": "https://localhost:8080/",
     "height": 1000
    },
    "colab_type": "code",
    "id": "CrHENeEOrfGO",
    "outputId": "6332c26d-0899-443c-d9b5-6d0cc1027530"
   },
   "outputs": [],
   "source": [
    "import nltk\n",
    "!nltk.download('book')\n",
    "\n",
    "!nltk.download('all-corpora')"
   ]
  },
  {
   "cell_type": "code",
   "execution_count": 23,
   "metadata": {
    "colab": {},
    "colab_type": "code",
    "id": "SDU83t4SnqGU"
   },
   "outputs": [],
   "source": [
    "lemmatizer = WordNetLemmatizer()\n",
    "def lemmatize_words(text):\n",
    "    return \" \".join([lemmatizer.lemmatize(word) for word in text.split()])"
   ]
  },
  {
   "cell_type": "code",
   "execution_count": 24,
   "metadata": {
    "colab": {},
    "colab_type": "code",
    "id": "D6s0GtZTnsls"
   },
   "outputs": [],
   "source": [
    "text_data['text'] = text_data['text'].apply(lambda text: lemmatize_words(text))"
   ]
  },
  {
   "cell_type": "code",
   "execution_count": 25,
   "metadata": {
    "colab": {},
    "colab_type": "code",
    "id": "IUp_2jFgivLh"
   },
   "outputs": [],
   "source": [
    "lemmatizer = WordNetLemmatizer()\n",
    "wordnet_map = {\"N\":wordnet.NOUN, \"V\":wordnet.VERB, \"J\":wordnet.ADJ, \"R\":wordnet.ADV}"
   ]
  },
  {
   "cell_type": "code",
   "execution_count": 26,
   "metadata": {
    "colab": {},
    "colab_type": "code",
    "id": "dJJpY0Ser0GX"
   },
   "outputs": [],
   "source": [
    "def lemmatize_words(text):\n",
    "    pos_tagged_text = nltk.pos_tag(text.split())\n",
    "    return \" \".join([lemmatizer.lemmatize(word, wordnet_map.get(pos[0], wordnet.NOUN)) for word, pos in pos_tagged_text])"
   ]
  },
  {
   "cell_type": "code",
   "execution_count": 27,
   "metadata": {
    "colab": {},
    "colab_type": "code",
    "id": "m9ciHAIVr4oL"
   },
   "outputs": [],
   "source": [
    "text_data['text'] = text_data['text'].apply(lambda text: lemmatize_words(text))"
   ]
  },
  {
   "cell_type": "code",
   "execution_count": 28,
   "metadata": {
    "colab": {
     "base_uri": "https://localhost:8080/",
     "height": 359
    },
    "colab_type": "code",
    "id": "uLWVm-MSsHA5",
    "outputId": "71bb42c4-55ab-4539-9c8d-4117324ca61d"
   },
   "outputs": [
    {
     "data": {
      "text/html": [
       "<div>\n",
       "<style scoped>\n",
       "    .dataframe tbody tr th:only-of-type {\n",
       "        vertical-align: middle;\n",
       "    }\n",
       "\n",
       "    .dataframe tbody tr th {\n",
       "        vertical-align: top;\n",
       "    }\n",
       "\n",
       "    .dataframe thead th {\n",
       "        text-align: right;\n",
       "    }\n",
       "</style>\n",
       "<table border=\"1\" class=\"dataframe\">\n",
       "  <thead>\n",
       "    <tr style=\"text-align: right;\">\n",
       "      <th></th>\n",
       "      <th>VAX_MANU</th>\n",
       "      <th>text</th>\n",
       "    </tr>\n",
       "  </thead>\n",
       "  <tbody>\n",
       "    <tr>\n",
       "      <th>0</th>\n",
       "      <td>MODERNA</td>\n",
       "      <td>Dysphagia Epiglottitis</td>\n",
       "    </tr>\n",
       "    <tr>\n",
       "      <th>1</th>\n",
       "      <td>MODERNA</td>\n",
       "      <td>Anxiety Dyspnoea</td>\n",
       "    </tr>\n",
       "    <tr>\n",
       "      <th>2</th>\n",
       "      <td>PFIZER\\BIONTECH</td>\n",
       "      <td>discomfort Dysphagia Visual impairment</td>\n",
       "    </tr>\n",
       "    <tr>\n",
       "      <th>3</th>\n",
       "      <td>MODERNA</td>\n",
       "      <td>Mobility decrease</td>\n",
       "    </tr>\n",
       "    <tr>\n",
       "      <th>4</th>\n",
       "      <td>MODERNA</td>\n",
       "      <td>erythema pruritus warmth</td>\n",
       "    </tr>\n",
       "    <tr>\n",
       "      <th>5</th>\n",
       "      <td>MODERNA</td>\n",
       "      <td>Pharyngeal</td>\n",
       "    </tr>\n",
       "    <tr>\n",
       "      <th>6</th>\n",
       "      <td>MODERNA</td>\n",
       "      <td>Abdominal Sleep disorder</td>\n",
       "    </tr>\n",
       "    <tr>\n",
       "      <th>7</th>\n",
       "      <td>MODERNA</td>\n",
       "      <td>Diarrhoea Nasal congestion</td>\n",
       "    </tr>\n",
       "    <tr>\n",
       "      <th>8</th>\n",
       "      <td>MODERNA</td>\n",
       "      <td>Vaccination erythema Vaccination pruritus Vacc...</td>\n",
       "    </tr>\n",
       "    <tr>\n",
       "      <th>9</th>\n",
       "      <td>MODERNA</td>\n",
       "      <td>Urticaria</td>\n",
       "    </tr>\n",
       "  </tbody>\n",
       "</table>\n",
       "</div>"
      ],
      "text/plain": [
       "          VAX_MANU                                               text\n",
       "0          MODERNA                             Dysphagia Epiglottitis\n",
       "1          MODERNA                                   Anxiety Dyspnoea\n",
       "2  PFIZER\\BIONTECH             discomfort Dysphagia Visual impairment\n",
       "3          MODERNA                                  Mobility decrease\n",
       "4          MODERNA                           erythema pruritus warmth\n",
       "5          MODERNA                                         Pharyngeal\n",
       "6          MODERNA                           Abdominal Sleep disorder\n",
       "7          MODERNA                         Diarrhoea Nasal congestion\n",
       "8          MODERNA  Vaccination erythema Vaccination pruritus Vacc...\n",
       "9          MODERNA                                          Urticaria"
      ]
     },
     "execution_count": 28,
     "metadata": {},
     "output_type": "execute_result"
    }
   ],
   "source": [
    "text_data.head(10)"
   ]
  },
  {
   "cell_type": "markdown",
   "metadata": {
    "colab_type": "text",
    "id": "-oOEqTE2s4NQ"
   },
   "source": [
    "Removal of Stopwords"
   ]
  },
  {
   "cell_type": "code",
   "execution_count": 29,
   "metadata": {
    "colab": {
     "base_uri": "https://localhost:8080/",
     "height": 54
    },
    "colab_type": "code",
    "id": "3IPuSexZkI5r",
    "outputId": "db8069d8-0141-48c6-f0fe-4a9549fabbbd"
   },
   "outputs": [
    {
     "data": {
      "text/plain": [
       "\"i, me, my, myself, we, our, ours, ourselves, you, you're, you've, you'll, you'd, your, yours, yourself, yourselves, he, him, his, himself, she, she's, her, hers, herself, it, it's, its, itself, they, them, their, theirs, themselves, what, which, who, whom, this, that, that'll, these, those, am, is, are, was, were, be, been, being, have, has, had, having, do, does, did, doing, a, an, the, and, but, if, or, because, as, until, while, of, at, by, for, with, about, against, between, into, through, during, before, after, above, below, to, from, up, down, in, out, on, off, over, under, again, further, then, once, here, there, when, where, why, how, all, any, both, each, few, more, most, other, some, such, no, nor, not, only, own, same, so, than, too, very, s, t, can, will, just, don, don't, should, should've, now, d, ll, m, o, re, ve, y, ain, aren, aren't, couldn, couldn't, didn, didn't, doesn, doesn't, hadn, hadn't, hasn, hasn't, haven, haven't, isn, isn't, ma, mightn, mightn't, mustn, mustn't, needn, needn't, shan, shan't, shouldn, shouldn't, wasn, wasn't, weren, weren't, won, won't, wouldn, wouldn't\""
      ]
     },
     "execution_count": 29,
     "metadata": {},
     "output_type": "execute_result"
    }
   ],
   "source": [
    "from nltk.corpus import stopwords\n",
    "\", \".join(stopwords.words('english'))"
   ]
  },
  {
   "cell_type": "code",
   "execution_count": 30,
   "metadata": {
    "colab": {},
    "colab_type": "code",
    "id": "AD2sAgGts_fM"
   },
   "outputs": [],
   "source": [
    "STOPWORDS = set(stopwords.words('english'))"
   ]
  },
  {
   "cell_type": "code",
   "execution_count": 31,
   "metadata": {
    "colab": {},
    "colab_type": "code",
    "id": "_SItfEXBtEHH"
   },
   "outputs": [],
   "source": [
    "def remove_stopwords(text):\n",
    "    return \" \".join([word for word in str(text).split() if word not in STOPWORDS])"
   ]
  },
  {
   "cell_type": "code",
   "execution_count": 32,
   "metadata": {
    "colab": {},
    "colab_type": "code",
    "id": "0ZGzy4sIkk6H"
   },
   "outputs": [],
   "source": [
    "text_data['text'] = text_data['text'].apply(lambda text: remove_stopwords(text))"
   ]
  },
  {
   "cell_type": "code",
   "execution_count": 33,
   "metadata": {
    "colab": {
     "base_uri": "https://localhost:8080/",
     "height": 204
    },
    "colab_type": "code",
    "id": "1NKwFXowtTFW",
    "outputId": "4c5abecb-8e82-42fe-b343-21452876e517"
   },
   "outputs": [
    {
     "data": {
      "text/plain": [
       "0                               Dysphagia Epiglottitis\n",
       "1                                     Anxiety Dyspnoea\n",
       "2               discomfort Dysphagia Visual impairment\n",
       "3                                    Mobility decrease\n",
       "4                             erythema pruritus warmth\n",
       "5                                           Pharyngeal\n",
       "6                             Abdominal Sleep disorder\n",
       "7                           Diarrhoea Nasal congestion\n",
       "8    Vaccination erythema Vaccination pruritus Vacc...\n",
       "9                                            Urticaria\n",
       "Name: text, dtype: object"
      ]
     },
     "execution_count": 33,
     "metadata": {},
     "output_type": "execute_result"
    }
   ],
   "source": [
    "text_data['text'].head(10)"
   ]
  },
  {
   "cell_type": "markdown",
   "metadata": {
    "colab_type": "text",
    "id": "3xMEC2pgCuGe"
   },
   "source": [
    "Converting Chat Words"
   ]
  },
  {
   "cell_type": "markdown",
   "metadata": {
    "colab_type": "text",
    "id": "U-dJ77jxC1Mr"
   },
   "source": [
    "**** Defining the Dictionary"
   ]
  },
  {
   "cell_type": "code",
   "execution_count": 34,
   "metadata": {
    "colab": {},
    "colab_type": "code",
    "id": "Ytby70V_-SfU"
   },
   "outputs": [],
   "source": [
    "chat_words_str = \"\"\"\n",
    "AFAIK=As Far As I Know\n",
    "AFK=Away From Keyboard\n",
    "ASAP=As Soon As Possible\n",
    "ATK=At The Keyboard\n",
    "ATM=At The Moment\n",
    "A3=Anytime, Anywhere, Anyplace\n",
    "BAK=Back At Keyboard\n",
    "BBL=Be Back Later\n",
    "BBS=Be Back Soon\n",
    "BFN=Bye For Now\n",
    "B4N=Bye For Now\n",
    "BRB=Be Right Back\n",
    "BRT=Be Right There\n",
    "BTW=By The Way\n",
    "B4=Before\n",
    "B4N=Bye For Now\n",
    "CU=See You\n",
    "CUL8R=See You Later\n",
    "CYA=See You\n",
    "FAQ=Frequently Asked Questions\n",
    "FC=Fingers Crossed\n",
    "FWIW=For What It's Worth\n",
    "FYI=For Your Information\n",
    "GAL=Get A Life\n",
    "GG=Good Game\n",
    "GN=Good Night\n",
    "GMTA=Great Minds Think Alike\n",
    "GR8=Great!\n",
    "G9=Genius\n",
    "IC=I See\n",
    "ICQ=I Seek you (also a chat program)\n",
    "ILU=ILU: I Love You\n",
    "IMHO=In My Honest/Humble Opinion\n",
    "IMO=In My Opinion\n",
    "IOW=In Other Words\n",
    "IRL=In Real Life\n",
    "KISS=Keep It Simple, Stupid\n",
    "LDR=Long Distance Relationship\n",
    "LMAO=Laugh My A.. Off\n",
    "LOL=Laughing Out Loud\n",
    "LTNS=Long Time No See\n",
    "L8R=Later\n",
    "MTE=My Thoughts Exactly\n",
    "M8=Mate\n",
    "NRN=No Reply Necessary\n",
    "OIC=Oh I See\n",
    "PITA=Pain In The A..\n",
    "PRT=Party\n",
    "PRW=Parents Are Watching\n",
    "ROFL=Rolling On The Floor Laughing\n",
    "ROFLOL=Rolling On The Floor Laughing Out Loud\n",
    "ROTFLMAO=Rolling On The Floor Laughing My A.. Off\n",
    "SK8=Skate\n",
    "STATS=Your sex and age\n",
    "ASL=Age, Sex, Location\n",
    "THX=Thank You\n",
    "TTFN=Ta-Ta For Now!\n",
    "TTYL=Talk To You Later\n",
    "U=You\n",
    "U2=You Too\n",
    "U4E=Yours For Ever\n",
    "WB=Welcome Back\n",
    "WTF=What The F...\n",
    "WTG=Way To Go!\n",
    "WUF=Where Are You From?\n",
    "W8=Wait...\n",
    "7K=Sick:-D Laugher\n",
    "\"\"\""
   ]
  },
  {
   "cell_type": "code",
   "execution_count": 35,
   "metadata": {
    "colab": {},
    "colab_type": "code",
    "id": "7GBMcM6_Ctg0"
   },
   "outputs": [],
   "source": [
    "chat_words_map_dict = {}\n",
    "chat_words_list = []"
   ]
  },
  {
   "cell_type": "code",
   "execution_count": 36,
   "metadata": {
    "colab": {},
    "colab_type": "code",
    "id": "cIONMkHTDFjJ"
   },
   "outputs": [],
   "source": [
    "for line in chat_words_str.split(\"\\n\"):\n",
    "    if line != \"\":\n",
    "        cw = line.split(\"=\")[0]\n",
    "        cw_expanded = line.split(\"=\")[1]\n",
    "        chat_words_list.append(cw)\n",
    "        chat_words_map_dict[cw] = cw_expanded\n",
    "chat_words_list = set(chat_words_list)"
   ]
  },
  {
   "cell_type": "code",
   "execution_count": 37,
   "metadata": {
    "colab": {},
    "colab_type": "code",
    "id": "AoqCGk3zDJfa"
   },
   "outputs": [],
   "source": [
    "def chat_words_conversion(text):\n",
    "    new_text = []\n",
    "    for w in text.split():\n",
    "        if w.upper() in chat_words_list:\n",
    "            new_text.append(chat_words_map_dict[w.upper()])\n",
    "        else:\n",
    "            new_text.append(w)\n",
    "    return \" \".join(new_text)"
   ]
  },
  {
   "cell_type": "code",
   "execution_count": 38,
   "metadata": {
    "colab": {},
    "colab_type": "code",
    "id": "K6rKHkOEDakx"
   },
   "outputs": [],
   "source": [
    "text_data['text'] = text_data['text'].apply(lambda text: chat_words_conversion(text))"
   ]
  },
  {
   "cell_type": "code",
   "execution_count": 39,
   "metadata": {
    "colab": {
     "base_uri": "https://localhost:8080/",
     "height": 204
    },
    "colab_type": "code",
    "id": "XICVlv0b-FHq",
    "outputId": "ba8fc7a6-f174-4df4-dce4-3959be8f2c04"
   },
   "outputs": [
    {
     "data": {
      "text/plain": [
       "0                               Dysphagia Epiglottitis\n",
       "1                                     Anxiety Dyspnoea\n",
       "2               discomfort Dysphagia Visual impairment\n",
       "3                                    Mobility decrease\n",
       "4                             erythema pruritus warmth\n",
       "5                                           Pharyngeal\n",
       "6                             Abdominal Sleep disorder\n",
       "7                           Diarrhoea Nasal congestion\n",
       "8    Vaccination erythema Vaccination pruritus Vacc...\n",
       "9                                            Urticaria\n",
       "Name: text, dtype: object"
      ]
     },
     "execution_count": 39,
     "metadata": {},
     "output_type": "execute_result"
    }
   ],
   "source": [
    "text_data['text'].head(10)"
   ]
  },
  {
   "cell_type": "markdown",
   "metadata": {
    "colab_type": "text",
    "id": "tLNtiEqSHS7K"
   },
   "source": [
    "Some more Cleansing using RE Library"
   ]
  },
  {
   "cell_type": "code",
   "execution_count": 40,
   "metadata": {
    "colab": {},
    "colab_type": "code",
    "id": "BCTvkqKiHJzy"
   },
   "outputs": [],
   "source": [
    "def clean_text(text):\n",
    "    text = re.sub(r'[^a-zA-Z\\']', ' ', text)\n",
    "    text = re.sub(r'[^\\x00-\\x7F]+', ' ', text)\n",
    "    text = text.lower()       \n",
    "    return text"
   ]
  },
  {
   "cell_type": "code",
   "execution_count": 41,
   "metadata": {
    "colab": {},
    "colab_type": "code",
    "id": "WVGaFwOdHaqu"
   },
   "outputs": [],
   "source": [
    "text_data['text'] = text_data['text'].apply(lambda text: clean_text(text))"
   ]
  },
  {
   "cell_type": "code",
   "execution_count": 42,
   "metadata": {
    "colab": {
     "base_uri": "https://localhost:8080/",
     "height": 204
    },
    "colab_type": "code",
    "id": "Qw2ufygQHolY",
    "outputId": "c3e55ece-6920-4a24-d515-5a7d72b9f30a"
   },
   "outputs": [
    {
     "data": {
      "text/plain": [
       "0                               dysphagia epiglottitis\n",
       "1                                     anxiety dyspnoea\n",
       "2               discomfort dysphagia visual impairment\n",
       "3                                    mobility decrease\n",
       "4                             erythema pruritus warmth\n",
       "5                                           pharyngeal\n",
       "6                             abdominal sleep disorder\n",
       "7                           diarrhoea nasal congestion\n",
       "8    vaccination erythema vaccination pruritus vacc...\n",
       "9                                            urticaria\n",
       "Name: text, dtype: object"
      ]
     },
     "execution_count": 42,
     "metadata": {},
     "output_type": "execute_result"
    }
   ],
   "source": [
    "text_data['text'].head(10)"
   ]
  },
  {
   "cell_type": "code",
   "execution_count": 43,
   "metadata": {
    "colab": {},
    "colab_type": "code",
    "id": "iphrT0DgFoma"
   },
   "outputs": [],
   "source": [
    "num_words = text_data['text'].apply(lambda x: len(x.split()))\n",
    "num_words_mean, num_words_std = np.mean(num_words), np.std(num_words)\n",
    "\n",
    "num_sentences = text_data['text'].apply(lambda x: len(re.split( '~ ...' ,'~'.join(x.split('.')))))\n",
    "num_sentences_mean = np.mean(num_sentences)"
   ]
  },
  {
   "cell_type": "markdown",
   "metadata": {
    "colab_type": "text",
    "id": "_ibLx34moTWx"
   },
   "source": [
    "Remove extra spaces and Words less than 3 letters"
   ]
  },
  {
   "cell_type": "code",
   "execution_count": 44,
   "metadata": {
    "colab": {},
    "colab_type": "code",
    "id": "8IeJwB1ants9"
   },
   "outputs": [],
   "source": [
    "text_data['text'] = text_data['text'].str.replace(r'[ ]{2, }',r' ')\n",
    "text_data['text'] = text_data['text'].str.replace(r'\\b\\w{1,3}\\b', r'')"
   ]
  },
  {
   "cell_type": "code",
   "execution_count": 45,
   "metadata": {
    "colab": {
     "base_uri": "https://localhost:8080/",
     "height": 359
    },
    "colab_type": "code",
    "id": "olxxqWePIPD0",
    "outputId": "4420f2a1-8765-49a8-af1e-f82a72a9f98b"
   },
   "outputs": [
    {
     "data": {
      "text/html": [
       "<div>\n",
       "<style scoped>\n",
       "    .dataframe tbody tr th:only-of-type {\n",
       "        vertical-align: middle;\n",
       "    }\n",
       "\n",
       "    .dataframe tbody tr th {\n",
       "        vertical-align: top;\n",
       "    }\n",
       "\n",
       "    .dataframe thead th {\n",
       "        text-align: right;\n",
       "    }\n",
       "</style>\n",
       "<table border=\"1\" class=\"dataframe\">\n",
       "  <thead>\n",
       "    <tr style=\"text-align: right;\">\n",
       "      <th></th>\n",
       "      <th>VAX_MANU</th>\n",
       "      <th>text</th>\n",
       "    </tr>\n",
       "  </thead>\n",
       "  <tbody>\n",
       "    <tr>\n",
       "      <th>0</th>\n",
       "      <td>MODERNA</td>\n",
       "      <td>dysphagia epiglottitis</td>\n",
       "    </tr>\n",
       "    <tr>\n",
       "      <th>1</th>\n",
       "      <td>MODERNA</td>\n",
       "      <td>anxiety dyspnoea</td>\n",
       "    </tr>\n",
       "    <tr>\n",
       "      <th>2</th>\n",
       "      <td>PFIZER\\BIONTECH</td>\n",
       "      <td>discomfort dysphagia visual impairment</td>\n",
       "    </tr>\n",
       "    <tr>\n",
       "      <th>3</th>\n",
       "      <td>MODERNA</td>\n",
       "      <td>mobility decrease</td>\n",
       "    </tr>\n",
       "    <tr>\n",
       "      <th>4</th>\n",
       "      <td>MODERNA</td>\n",
       "      <td>erythema pruritus warmth</td>\n",
       "    </tr>\n",
       "    <tr>\n",
       "      <th>5</th>\n",
       "      <td>MODERNA</td>\n",
       "      <td>pharyngeal</td>\n",
       "    </tr>\n",
       "    <tr>\n",
       "      <th>6</th>\n",
       "      <td>MODERNA</td>\n",
       "      <td>abdominal sleep disorder</td>\n",
       "    </tr>\n",
       "    <tr>\n",
       "      <th>7</th>\n",
       "      <td>MODERNA</td>\n",
       "      <td>diarrhoea nasal congestion</td>\n",
       "    </tr>\n",
       "    <tr>\n",
       "      <th>8</th>\n",
       "      <td>MODERNA</td>\n",
       "      <td>vaccination erythema vaccination pruritus vacc...</td>\n",
       "    </tr>\n",
       "    <tr>\n",
       "      <th>9</th>\n",
       "      <td>MODERNA</td>\n",
       "      <td>urticaria</td>\n",
       "    </tr>\n",
       "  </tbody>\n",
       "</table>\n",
       "</div>"
      ],
      "text/plain": [
       "          VAX_MANU                                               text\n",
       "0          MODERNA                             dysphagia epiglottitis\n",
       "1          MODERNA                                   anxiety dyspnoea\n",
       "2  PFIZER\\BIONTECH             discomfort dysphagia visual impairment\n",
       "3          MODERNA                                  mobility decrease\n",
       "4          MODERNA                           erythema pruritus warmth\n",
       "5          MODERNA                                         pharyngeal\n",
       "6          MODERNA                           abdominal sleep disorder\n",
       "7          MODERNA                         diarrhoea nasal congestion\n",
       "8          MODERNA  vaccination erythema vaccination pruritus vacc...\n",
       "9          MODERNA                                          urticaria"
      ]
     },
     "execution_count": 45,
     "metadata": {},
     "output_type": "execute_result"
    }
   ],
   "source": [
    "text_data.head(10)"
   ]
  },
  {
   "cell_type": "code",
   "execution_count": 46,
   "metadata": {
    "colab": {
     "base_uri": "https://localhost:8080/",
     "height": 34
    },
    "colab_type": "code",
    "id": "3HNcgkqD_hei",
    "outputId": "5fb472a9-7142-478d-9aee-74591c44a316"
   },
   "outputs": [
    {
     "name": "stdout",
     "output_type": "stream",
     "text": [
      "(660415, 3)\n"
     ]
    }
   ],
   "source": [
    "text_data['text_length'] = [len(text.split(' ')) for text in text_data.text]\n",
    "print(text_data.shape)"
   ]
  },
  {
   "cell_type": "markdown",
   "metadata": {
    "colab_type": "text",
    "id": "KTcf1h4f7RgM"
   },
   "source": [
    "Dropping texts with length <3 and drop duplicates"
   ]
  },
  {
   "cell_type": "code",
   "execution_count": 47,
   "metadata": {
    "colab": {
     "base_uri": "https://localhost:8080/",
     "height": 34
    },
    "colab_type": "code",
    "id": "HWtfB_FR_jp-",
    "outputId": "7724801a-e8ae-4905-ebf0-db80e723ffc5"
   },
   "outputs": [
    {
     "name": "stdout",
     "output_type": "stream",
     "text": [
      "(211327, 3)\n"
     ]
    }
   ],
   "source": [
    "text_data = text_data[text_data['text_length']>2]\n",
    "text_data = text_data.drop_duplicates(subset=['text'])\n",
    "\n",
    "print(text_data.shape)"
   ]
  },
  {
   "cell_type": "code",
   "execution_count": 48,
   "metadata": {
    "colab": {
     "base_uri": "https://localhost:8080/",
     "height": 359
    },
    "colab_type": "code",
    "id": "lqj4LmaYELUR",
    "outputId": "9b4a75ed-a710-4b06-d2e5-9fd25b398cb6"
   },
   "outputs": [
    {
     "data": {
      "text/html": [
       "<div>\n",
       "<style scoped>\n",
       "    .dataframe tbody tr th:only-of-type {\n",
       "        vertical-align: middle;\n",
       "    }\n",
       "\n",
       "    .dataframe tbody tr th {\n",
       "        vertical-align: top;\n",
       "    }\n",
       "\n",
       "    .dataframe thead th {\n",
       "        text-align: right;\n",
       "    }\n",
       "</style>\n",
       "<table border=\"1\" class=\"dataframe\">\n",
       "  <thead>\n",
       "    <tr style=\"text-align: right;\">\n",
       "      <th></th>\n",
       "      <th>VAX_MANU</th>\n",
       "      <th>text</th>\n",
       "      <th>text_length</th>\n",
       "    </tr>\n",
       "  </thead>\n",
       "  <tbody>\n",
       "    <tr>\n",
       "      <th>2</th>\n",
       "      <td>PFIZER\\BIONTECH</td>\n",
       "      <td>discomfort dysphagia visual impairment</td>\n",
       "      <td>4</td>\n",
       "    </tr>\n",
       "    <tr>\n",
       "      <th>4</th>\n",
       "      <td>MODERNA</td>\n",
       "      <td>erythema pruritus warmth</td>\n",
       "      <td>3</td>\n",
       "    </tr>\n",
       "    <tr>\n",
       "      <th>6</th>\n",
       "      <td>MODERNA</td>\n",
       "      <td>abdominal sleep disorder</td>\n",
       "      <td>3</td>\n",
       "    </tr>\n",
       "    <tr>\n",
       "      <th>7</th>\n",
       "      <td>MODERNA</td>\n",
       "      <td>diarrhoea nasal congestion</td>\n",
       "      <td>3</td>\n",
       "    </tr>\n",
       "    <tr>\n",
       "      <th>8</th>\n",
       "      <td>MODERNA</td>\n",
       "      <td>vaccination erythema vaccination pruritus vacc...</td>\n",
       "      <td>5</td>\n",
       "    </tr>\n",
       "    <tr>\n",
       "      <th>10</th>\n",
       "      <td>MODERNA</td>\n",
       "      <td>pressure decrease confusional state decreased ...</td>\n",
       "      <td>6</td>\n",
       "    </tr>\n",
       "    <tr>\n",
       "      <th>11</th>\n",
       "      <td>MODERNA</td>\n",
       "      <td>dyspnoea head discomfort</td>\n",
       "      <td>3</td>\n",
       "    </tr>\n",
       "    <tr>\n",
       "      <th>12</th>\n",
       "      <td>MODERNA</td>\n",
       "      <td>heart rate decrease heart rate hypertension mu...</td>\n",
       "      <td>8</td>\n",
       "    </tr>\n",
       "    <tr>\n",
       "      <th>16</th>\n",
       "      <td>MODERNA</td>\n",
       "      <td>abdominal upper dysgeusia</td>\n",
       "      <td>3</td>\n",
       "    </tr>\n",
       "    <tr>\n",
       "      <th>17</th>\n",
       "      <td>MODERNA</td>\n",
       "      <td>pressure discomfort heart rate</td>\n",
       "      <td>4</td>\n",
       "    </tr>\n",
       "  </tbody>\n",
       "</table>\n",
       "</div>"
      ],
      "text/plain": [
       "           VAX_MANU                                               text  \\\n",
       "2   PFIZER\\BIONTECH             discomfort dysphagia visual impairment   \n",
       "4           MODERNA                           erythema pruritus warmth   \n",
       "6           MODERNA                           abdominal sleep disorder   \n",
       "7           MODERNA                         diarrhoea nasal congestion   \n",
       "8           MODERNA  vaccination erythema vaccination pruritus vacc...   \n",
       "10          MODERNA  pressure decrease confusional state decreased ...   \n",
       "11          MODERNA                           dyspnoea head discomfort   \n",
       "12          MODERNA  heart rate decrease heart rate hypertension mu...   \n",
       "16          MODERNA                          abdominal upper dysgeusia   \n",
       "17          MODERNA                     pressure discomfort heart rate   \n",
       "\n",
       "    text_length  \n",
       "2             4  \n",
       "4             3  \n",
       "6             3  \n",
       "7             3  \n",
       "8             5  \n",
       "10            6  \n",
       "11            3  \n",
       "12            8  \n",
       "16            3  \n",
       "17            4  "
      ]
     },
     "execution_count": 48,
     "metadata": {},
     "output_type": "execute_result"
    }
   ],
   "source": [
    "text_data.head(10)"
   ]
  },
  {
   "cell_type": "code",
   "execution_count": 49,
   "metadata": {
    "colab": {},
    "colab_type": "code",
    "id": "kXrr6cKr7p95"
   },
   "outputs": [],
   "source": [
    "text_data.to_csv('Cleaned_Text.csv')"
   ]
  },
  {
   "cell_type": "code",
   "execution_count": null,
   "metadata": {
    "colab": {},
    "colab_type": "code",
    "id": "FMLNohRa7qBv"
   },
   "outputs": [],
   "source": []
  }
 ],
 "metadata": {
  "accelerator": "GPU",
  "colab": {
   "name": "Twitter Analysis (HK) v3 .ipynb",
   "provenance": []
  },
  "kernelspec": {
   "display_name": "Python 3",
   "language": "python",
   "name": "python3"
  },
  "language_info": {
   "codemirror_mode": {
    "name": "ipython",
    "version": 3
   },
   "file_extension": ".py",
   "mimetype": "text/x-python",
   "name": "python",
   "nbconvert_exporter": "python",
   "pygments_lexer": "ipython3",
   "version": "3.7.3"
  }
 },
 "nbformat": 4,
 "nbformat_minor": 1
}
